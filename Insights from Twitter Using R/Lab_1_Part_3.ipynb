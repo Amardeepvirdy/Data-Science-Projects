{
 "cells": [
  {
   "cell_type": "code",
   "execution_count": 5,
   "metadata": {
    "collapsed": false
   },
   "outputs": [
    {
     "name": "stdout",
     "output_type": "stream",
     "text": [
      "[1] \"Using direct authentication\"\n"
     ]
    }
   ],
   "source": [
    "library(twitteR)\n",
    "library(ggmap)\n",
    "setup_twitter_oauth(\"\", \"\", \"\", \"\")"
   ]
  },
  {
   "cell_type": "code",
   "execution_count": 2,
   "metadata": {
    "collapsed": false
   },
   "outputs": [
    {
     "name": "stderr",
     "output_type": "stream",
     "text": [
      "Information from URL : http://maps.googleapis.com/maps/api/geocode/json?address=Buffalo,%20NY&sensor=false\n"
     ]
    }
   ],
   "source": [
    "location <- \"Buffalo, NY\"\n",
    "code <- geocode(location)"
   ]
  },
  {
   "cell_type": "markdown",
   "metadata": {},
   "source": [
    "Input the location for which trends are desired in the \"location\" variable."
   ]
  },
  {
   "cell_type": "code",
   "execution_count": 6,
   "metadata": {
    "collapsed": false
   },
   "outputs": [
    {
     "data": {
      "text/html": [
       "<table>\n",
       "<thead><tr><th scope=col>name</th><th scope=col>country</th><th scope=col>woeid</th></tr></thead>\n",
       "<tbody>\n",
       "\t<tr><td>Toronto</td><td>Canada </td><td>4118   </td></tr>\n",
       "</tbody>\n",
       "</table>\n"
      ],
      "text/latex": [
       "\\begin{tabular}{r|lll}\n",
       " name & country & woeid\\\\\n",
       "\\hline\n",
       "\t Toronto & Canada  & 4118   \\\\\n",
       "\\end{tabular}\n"
      ],
      "text/markdown": [
       "\n",
       "name | country | woeid | \n",
       "|---|\n",
       "| Toronto | Canada  | 4118    | \n",
       "\n",
       "\n"
      ],
      "text/plain": [
       "  name    country woeid\n",
       "1 Toronto Canada  4118 "
      ]
     },
     "metadata": {},
     "output_type": "display_data"
    }
   ],
   "source": [
    "close_trends = closestTrendLocations(code$lat, code$lon)"
   ]
  },
  {
   "cell_type": "markdown",
   "metadata": {},
   "source": [
    "The Code above finds the location closest to the given city for which trends are available."
   ]
  },
  {
   "cell_type": "code",
   "execution_count": 13,
   "metadata": {
    "collapsed": false
   },
   "outputs": [],
   "source": [
    "trending = getTrends(close_trends$woeid)"
   ]
  },
  {
   "cell_type": "code",
   "execution_count": 15,
   "metadata": {
    "collapsed": false
   },
   "outputs": [
    {
     "name": "stdout",
     "output_type": "stream",
     "text": [
      "[1] \"The top trends in the given location are as follows: \"\n"
     ]
    },
    {
     "data": {
      "text/html": [
       "<ol class=list-inline>\n",
       "\t<li>'#NBAAllStarWeekend'</li>\n",
       "\t<li>'#LegendsRow'</li>\n",
       "\t<li>'Skills Challenge'</li>\n",
       "\t<li>'#TrumpRally'</li>\n",
       "\t<li>'2018 Memorial Cup'</li>\n",
       "\t<li>'#endirectdelunivers'</li>\n",
       "\t<li>'#BritneyEverAfter'</li>\n",
       "\t<li>'Eric Gordon'</li>\n",
       "\t<li>'Kyle Lowry'</li>\n",
       "\t<li>'Morgan Rielly'</li>\n",
       "</ol>\n"
      ],
      "text/latex": [
       "\\begin{enumerate*}\n",
       "\\item '\\#NBAAllStarWeekend'\n",
       "\\item '\\#LegendsRow'\n",
       "\\item 'Skills Challenge'\n",
       "\\item '\\#TrumpRally'\n",
       "\\item '2018 Memorial Cup'\n",
       "\\item '\\#endirectdelunivers'\n",
       "\\item '\\#BritneyEverAfter'\n",
       "\\item 'Eric Gordon'\n",
       "\\item 'Kyle Lowry'\n",
       "\\item 'Morgan Rielly'\n",
       "\\end{enumerate*}\n"
      ],
      "text/markdown": [
       "1. '#NBAAllStarWeekend'\n",
       "2. '#LegendsRow'\n",
       "3. 'Skills Challenge'\n",
       "4. '#TrumpRally'\n",
       "5. '2018 Memorial Cup'\n",
       "6. '#endirectdelunivers'\n",
       "7. '#BritneyEverAfter'\n",
       "8. 'Eric Gordon'\n",
       "9. 'Kyle Lowry'\n",
       "10. 'Morgan Rielly'\n",
       "\n",
       "\n"
      ],
      "text/plain": [
       " [1] \"#NBAAllStarWeekend\"  \"#LegendsRow\"         \"Skills Challenge\"   \n",
       " [4] \"#TrumpRally\"         \"2018 Memorial Cup\"   \"#endirectdelunivers\"\n",
       " [7] \"#BritneyEverAfter\"   \"Eric Gordon\"         \"Kyle Lowry\"         \n",
       "[10] \"Morgan Rielly\"      "
      ]
     },
     "metadata": {},
     "output_type": "display_data"
    }
   ],
   "source": [
    "print (\"The top trends in the given location are as follows: \")\n",
    "head(trending$name, 10)"
   ]
  },
  {
   "cell_type": "markdown",
   "metadata": {},
   "source": [
    "Refrences:\n",
    "https://docs.google.com/viewer?url=http%3A%2F%2Fgeoffjentry.hexdump.org%2FtwitteR.pdf"
   ]
  }
 ],
 "metadata": {
  "kernelspec": {
   "display_name": "R",
   "language": "R",
   "name": "ir"
  },
  "language_info": {
   "codemirror_mode": "r",
   "file_extension": ".r",
   "mimetype": "text/x-r-source",
   "name": "R",
   "pygments_lexer": "r",
   "version": "3.3.2"
  }
 },
 "nbformat": 4,
 "nbformat_minor": 2
}
