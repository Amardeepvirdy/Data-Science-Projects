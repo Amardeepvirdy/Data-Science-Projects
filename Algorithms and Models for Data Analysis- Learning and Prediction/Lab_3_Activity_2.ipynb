{
 "cells": [
  {
   "cell_type": "code",
   "execution_count": 176,
   "metadata": {
    "collapsed": false
   },
   "outputs": [],
   "source": [
    "library(class)\n",
    "library(dplyr)"
   ]
  },
  {
   "cell_type": "code",
   "execution_count": 177,
   "metadata": {
    "collapsed": false
   },
   "outputs": [
    {
     "data": {
      "text/html": [
       "<table>\n",
       "<thead><tr><th scope=col>X.</th><th scope=col>Age</th><th scope=col>Sex</th><th scope=col>Job</th><th scope=col>Housing</th><th scope=col>Saving.accounts</th><th scope=col>Checking.account</th><th scope=col>Credit.amount</th><th scope=col>Duration</th><th scope=col>Purpose</th><th scope=col>Credit.Risks</th></tr></thead>\n",
       "<tbody>\n",
       "\t<tr><td>0                  </td><td>67                 </td><td>male               </td><td>2                  </td><td>own                </td><td>NA                 </td><td>little             </td><td>1169               </td><td> 6                 </td><td>radio/TV           </td><td>1                  </td></tr>\n",
       "\t<tr><td>1                  </td><td>22                 </td><td>female             </td><td>2                  </td><td>own                </td><td>little             </td><td>moderate           </td><td>5951               </td><td>48                 </td><td>radio/TV           </td><td>2                  </td></tr>\n",
       "\t<tr><td>2                  </td><td>49                 </td><td>male               </td><td>1                  </td><td>own                </td><td>little             </td><td>NA                 </td><td>2096               </td><td>12                 </td><td>education          </td><td>1                  </td></tr>\n",
       "\t<tr><td>3                  </td><td>45                 </td><td>male               </td><td>2                  </td><td>free               </td><td>little             </td><td>little             </td><td>7882               </td><td>42                 </td><td>furniture/equipment</td><td>1                  </td></tr>\n",
       "\t<tr><td>4                  </td><td>53                 </td><td>male               </td><td>2                  </td><td>free               </td><td>little             </td><td>little             </td><td>4870               </td><td>24                 </td><td>car                </td><td>2                  </td></tr>\n",
       "\t<tr><td>5                  </td><td>35                 </td><td>male               </td><td>1                  </td><td>free               </td><td>NA                 </td><td>NA                 </td><td>9055               </td><td>36                 </td><td>education          </td><td>1                  </td></tr>\n",
       "</tbody>\n",
       "</table>\n"
      ],
      "text/latex": [
       "\\begin{tabular}{r|lllllllllll}\n",
       " X. & Age & Sex & Job & Housing & Saving.accounts & Checking.account & Credit.amount & Duration & Purpose & Credit.Risks\\\\\n",
       "\\hline\n",
       "\t 0                   & 67                  & male                & 2                   & own                 & NA                  & little              & 1169                &  6                  & radio/TV            & 1                  \\\\\n",
       "\t 1                   & 22                  & female              & 2                   & own                 & little              & moderate            & 5951                & 48                  & radio/TV            & 2                  \\\\\n",
       "\t 2                   & 49                  & male                & 1                   & own                 & little              & NA                  & 2096                & 12                  & education           & 1                  \\\\\n",
       "\t 3                   & 45                  & male                & 2                   & free                & little              & little              & 7882                & 42                  & furniture/equipment & 1                  \\\\\n",
       "\t 4                   & 53                  & male                & 2                   & free                & little              & little              & 4870                & 24                  & car                 & 2                  \\\\\n",
       "\t 5                   & 35                  & male                & 1                   & free                & NA                  & NA                  & 9055                & 36                  & education           & 1                  \\\\\n",
       "\\end{tabular}\n"
      ],
      "text/markdown": [
       "\n",
       "X. | Age | Sex | Job | Housing | Saving.accounts | Checking.account | Credit.amount | Duration | Purpose | Credit.Risks | \n",
       "|---|---|---|---|---|---|\n",
       "| 0                   | 67                  | male                | 2                   | own                 | NA                  | little              | 1169                |  6                  | radio/TV            | 1                   | \n",
       "| 1                   | 22                  | female              | 2                   | own                 | little              | moderate            | 5951                | 48                  | radio/TV            | 2                   | \n",
       "| 2                   | 49                  | male                | 1                   | own                 | little              | NA                  | 2096                | 12                  | education           | 1                   | \n",
       "| 3                   | 45                  | male                | 2                   | free                | little              | little              | 7882                | 42                  | furniture/equipment | 1                   | \n",
       "| 4                   | 53                  | male                | 2                   | free                | little              | little              | 4870                | 24                  | car                 | 2                   | \n",
       "| 5                   | 35                  | male                | 1                   | free                | NA                  | NA                  | 9055                | 36                  | education           | 1                   | \n",
       "\n",
       "\n"
      ],
      "text/plain": [
       "  X. Age Sex    Job Housing Saving.accounts Checking.account Credit.amount\n",
       "1 0  67  male   2   own     NA              little           1169         \n",
       "2 1  22  female 2   own     little          moderate         5951         \n",
       "3 2  49  male   1   own     little          NA               2096         \n",
       "4 3  45  male   2   free    little          little           7882         \n",
       "5 4  53  male   2   free    little          little           4870         \n",
       "6 5  35  male   1   free    NA              NA               9055         \n",
       "  Duration Purpose             Credit.Risks\n",
       "1  6       radio/TV            1           \n",
       "2 48       radio/TV            2           \n",
       "3 12       education           1           \n",
       "4 42       furniture/equipment 1           \n",
       "5 24       car                 2           \n",
       "6 36       education           1           "
      ]
     },
     "metadata": {},
     "output_type": "display_data"
    }
   ],
   "source": [
    "Dataset_prime <- read.csv(\"/Users/Amardeep/Documents/Semester_2/Dic/lab_3/german_credit_data1.csv\")\n",
    "head(Dataset_prime)"
   ]
  },
  {
   "cell_type": "code",
   "execution_count": 178,
   "metadata": {
    "collapsed": false
   },
   "outputs": [
    {
     "data": {
      "text/html": [
       "<table>\n",
       "<thead><tr><th></th><th scope=col>X.</th><th scope=col>Age</th><th scope=col>Sex</th><th scope=col>Job</th><th scope=col>Housing</th><th scope=col>Saving.accounts</th><th scope=col>Checking.account</th><th scope=col>Credit.amount</th><th scope=col>Duration</th><th scope=col>Purpose</th><th scope=col>Credit.Risks</th></tr></thead>\n",
       "<tbody>\n",
       "\t<tr><th scope=row>2</th><td> 1                 </td><td>22                 </td><td>female             </td><td>2                  </td><td>own                </td><td>little             </td><td>moderate           </td><td>5951               </td><td>48                 </td><td>radio/TV           </td><td>2                  </td></tr>\n",
       "\t<tr><th scope=row>4</th><td> 3                 </td><td>45                 </td><td>male               </td><td>2                  </td><td>free               </td><td>little             </td><td>little             </td><td>7882               </td><td>42                 </td><td>furniture/equipment</td><td>1                  </td></tr>\n",
       "\t<tr><th scope=row>5</th><td> 4                 </td><td>53                 </td><td>male               </td><td>2                  </td><td>free               </td><td>little             </td><td>little             </td><td>4870               </td><td>24                 </td><td>car                </td><td>2                  </td></tr>\n",
       "\t<tr><th scope=row>8</th><td> 7                 </td><td>35                 </td><td>male               </td><td>3                  </td><td>rent               </td><td>little             </td><td>moderate           </td><td>6948               </td><td>36                 </td><td>car                </td><td>1                  </td></tr>\n",
       "\t<tr><th scope=row>10</th><td> 9                 </td><td>28                 </td><td>male               </td><td>3                  </td><td>own                </td><td>little             </td><td>moderate           </td><td>5234               </td><td>30                 </td><td>car                </td><td>2                  </td></tr>\n",
       "\t<tr><th scope=row>11</th><td>10                 </td><td>25                 </td><td>female             </td><td>2                  </td><td>rent               </td><td>little             </td><td>moderate           </td><td>1295               </td><td>12                 </td><td>car                </td><td>2                  </td></tr>\n",
       "</tbody>\n",
       "</table>\n"
      ],
      "text/latex": [
       "\\begin{tabular}{r|lllllllllll}\n",
       "  & X. & Age & Sex & Job & Housing & Saving.accounts & Checking.account & Credit.amount & Duration & Purpose & Credit.Risks\\\\\n",
       "\\hline\n",
       "\t2 &  1                  & 22                  & female              & 2                   & own                 & little              & moderate            & 5951                & 48                  & radio/TV            & 2                  \\\\\n",
       "\t4 &  3                  & 45                  & male                & 2                   & free                & little              & little              & 7882                & 42                  & furniture/equipment & 1                  \\\\\n",
       "\t5 &  4                  & 53                  & male                & 2                   & free                & little              & little              & 4870                & 24                  & car                 & 2                  \\\\\n",
       "\t8 &  7                  & 35                  & male                & 3                   & rent                & little              & moderate            & 6948                & 36                  & car                 & 1                  \\\\\n",
       "\t10 &  9                  & 28                  & male                & 3                   & own                 & little              & moderate            & 5234                & 30                  & car                 & 2                  \\\\\n",
       "\t11 & 10                  & 25                  & female              & 2                   & rent                & little              & moderate            & 1295                & 12                  & car                 & 2                  \\\\\n",
       "\\end{tabular}\n"
      ],
      "text/markdown": [
       "\n",
       "| <!--/--> | X. | Age | Sex | Job | Housing | Saving.accounts | Checking.account | Credit.amount | Duration | Purpose | Credit.Risks | \n",
       "|---|---|---|---|---|---|\n",
       "| 2 |  1                  | 22                  | female              | 2                   | own                 | little              | moderate            | 5951                | 48                  | radio/TV            | 2                   | \n",
       "| 4 |  3                  | 45                  | male                | 2                   | free                | little              | little              | 7882                | 42                  | furniture/equipment | 1                   | \n",
       "| 5 |  4                  | 53                  | male                | 2                   | free                | little              | little              | 4870                | 24                  | car                 | 2                   | \n",
       "| 8 |  7                  | 35                  | male                | 3                   | rent                | little              | moderate            | 6948                | 36                  | car                 | 1                   | \n",
       "| 10 |  9                  | 28                  | male                | 3                   | own                 | little              | moderate            | 5234                | 30                  | car                 | 2                   | \n",
       "| 11 | 10                  | 25                  | female              | 2                   | rent                | little              | moderate            | 1295                | 12                  | car                 | 2                   | \n",
       "\n",
       "\n"
      ],
      "text/plain": [
       "   X. Age Sex    Job Housing Saving.accounts Checking.account Credit.amount\n",
       "2   1 22  female 2   own     little          moderate         5951         \n",
       "4   3 45  male   2   free    little          little           7882         \n",
       "5   4 53  male   2   free    little          little           4870         \n",
       "8   7 35  male   3   rent    little          moderate         6948         \n",
       "10  9 28  male   3   own     little          moderate         5234         \n",
       "11 10 25  female 2   rent    little          moderate         1295         \n",
       "   Duration Purpose             Credit.Risks\n",
       "2  48       radio/TV            2           \n",
       "4  42       furniture/equipment 1           \n",
       "5  24       car                 2           \n",
       "8  36       car                 1           \n",
       "10 30       car                 2           \n",
       "11 12       car                 2           "
      ]
     },
     "metadata": {},
     "output_type": "display_data"
    }
   ],
   "source": [
    "Dataset <- na.omit(Dataset_prime)\n",
    "head(Dataset)"
   ]
  },
  {
   "cell_type": "code",
   "execution_count": 179,
   "metadata": {
    "collapsed": false
   },
   "outputs": [
    {
     "data": {
      "text/html": [
       "<ol class=list-inline>\n",
       "\t<li>'female'</li>\n",
       "\t<li>'male'</li>\n",
       "</ol>\n"
      ],
      "text/latex": [
       "\\begin{enumerate*}\n",
       "\\item 'female'\n",
       "\\item 'male'\n",
       "\\end{enumerate*}\n"
      ],
      "text/markdown": [
       "1. 'female'\n",
       "2. 'male'\n",
       "\n",
       "\n"
      ],
      "text/plain": [
       "[1] \"female\" \"male\"  "
      ]
     },
     "metadata": {},
     "output_type": "display_data"
    }
   ],
   "source": [
    "Sex <- levels(Dataset$Sex)\n",
    "Sex"
   ]
  },
  {
   "cell_type": "code",
   "execution_count": 180,
   "metadata": {
    "collapsed": false
   },
   "outputs": [
    {
     "data": {
      "text/html": [
       "<ol class=list-inline>\n",
       "\t<li>'business'</li>\n",
       "\t<li>'car'</li>\n",
       "\t<li>'domestic appliances'</li>\n",
       "\t<li>'education'</li>\n",
       "\t<li>'furniture/equipment'</li>\n",
       "\t<li>'radio/TV'</li>\n",
       "\t<li>'repairs'</li>\n",
       "\t<li>'vacation/others'</li>\n",
       "</ol>\n"
      ],
      "text/latex": [
       "\\begin{enumerate*}\n",
       "\\item 'business'\n",
       "\\item 'car'\n",
       "\\item 'domestic appliances'\n",
       "\\item 'education'\n",
       "\\item 'furniture/equipment'\n",
       "\\item 'radio/TV'\n",
       "\\item 'repairs'\n",
       "\\item 'vacation/others'\n",
       "\\end{enumerate*}\n"
      ],
      "text/markdown": [
       "1. 'business'\n",
       "2. 'car'\n",
       "3. 'domestic appliances'\n",
       "4. 'education'\n",
       "5. 'furniture/equipment'\n",
       "6. 'radio/TV'\n",
       "7. 'repairs'\n",
       "8. 'vacation/others'\n",
       "\n",
       "\n"
      ],
      "text/plain": [
       "[1] \"business\"            \"car\"                 \"domestic appliances\"\n",
       "[4] \"education\"           \"furniture/equipment\" \"radio/TV\"           \n",
       "[7] \"repairs\"             \"vacation/others\"    "
      ]
     },
     "metadata": {},
     "output_type": "display_data"
    }
   ],
   "source": [
    "Purpose <- levels(Dataset$Purpose)\n",
    "Purpose"
   ]
  },
  {
   "cell_type": "code",
   "execution_count": 181,
   "metadata": {
    "collapsed": false
   },
   "outputs": [
    {
     "data": {
      "text/html": [
       "<table>\n",
       "<thead><tr><th></th><th scope=col>X.</th><th scope=col>Age</th><th scope=col>Sex</th><th scope=col>Job</th><th scope=col>Housing</th><th scope=col>Saving.accounts</th><th scope=col>Checking.account</th><th scope=col>Credit.amount</th><th scope=col>Duration</th><th scope=col>Purpose</th><th scope=col>Credit.Risks</th><th scope=col>Sex_val</th></tr></thead>\n",
       "<tbody>\n",
       "\t<tr><th scope=row>2</th><td> 1                 </td><td>22                 </td><td>female             </td><td>2                  </td><td>own                </td><td>little             </td><td>moderate           </td><td>5951               </td><td>48                 </td><td>radio/TV           </td><td>2                  </td><td>1                  </td></tr>\n",
       "\t<tr><th scope=row>4</th><td> 3                 </td><td>45                 </td><td>male               </td><td>2                  </td><td>free               </td><td>little             </td><td>little             </td><td>7882               </td><td>42                 </td><td>furniture/equipment</td><td>1                  </td><td>2                  </td></tr>\n",
       "\t<tr><th scope=row>5</th><td> 4                 </td><td>53                 </td><td>male               </td><td>2                  </td><td>free               </td><td>little             </td><td>little             </td><td>4870               </td><td>24                 </td><td>car                </td><td>2                  </td><td>2                  </td></tr>\n",
       "\t<tr><th scope=row>8</th><td> 7                 </td><td>35                 </td><td>male               </td><td>3                  </td><td>rent               </td><td>little             </td><td>moderate           </td><td>6948               </td><td>36                 </td><td>car                </td><td>1                  </td><td>2                  </td></tr>\n",
       "\t<tr><th scope=row>10</th><td> 9                 </td><td>28                 </td><td>male               </td><td>3                  </td><td>own                </td><td>little             </td><td>moderate           </td><td>5234               </td><td>30                 </td><td>car                </td><td>2                  </td><td>2                  </td></tr>\n",
       "\t<tr><th scope=row>11</th><td>10                 </td><td>25                 </td><td>female             </td><td>2                  </td><td>rent               </td><td>little             </td><td>moderate           </td><td>1295               </td><td>12                 </td><td>car                </td><td>2                  </td><td>1                  </td></tr>\n",
       "</tbody>\n",
       "</table>\n"
      ],
      "text/latex": [
       "\\begin{tabular}{r|llllllllllll}\n",
       "  & X. & Age & Sex & Job & Housing & Saving.accounts & Checking.account & Credit.amount & Duration & Purpose & Credit.Risks & Sex\\_val\\\\\n",
       "\\hline\n",
       "\t2 &  1                  & 22                  & female              & 2                   & own                 & little              & moderate            & 5951                & 48                  & radio/TV            & 2                   & 1                  \\\\\n",
       "\t4 &  3                  & 45                  & male                & 2                   & free                & little              & little              & 7882                & 42                  & furniture/equipment & 1                   & 2                  \\\\\n",
       "\t5 &  4                  & 53                  & male                & 2                   & free                & little              & little              & 4870                & 24                  & car                 & 2                   & 2                  \\\\\n",
       "\t8 &  7                  & 35                  & male                & 3                   & rent                & little              & moderate            & 6948                & 36                  & car                 & 1                   & 2                  \\\\\n",
       "\t10 &  9                  & 28                  & male                & 3                   & own                 & little              & moderate            & 5234                & 30                  & car                 & 2                   & 2                  \\\\\n",
       "\t11 & 10                  & 25                  & female              & 2                   & rent                & little              & moderate            & 1295                & 12                  & car                 & 2                   & 1                  \\\\\n",
       "\\end{tabular}\n"
      ],
      "text/markdown": [
       "\n",
       "| <!--/--> | X. | Age | Sex | Job | Housing | Saving.accounts | Checking.account | Credit.amount | Duration | Purpose | Credit.Risks | Sex_val | \n",
       "|---|---|---|---|---|---|\n",
       "| 2 |  1                  | 22                  | female              | 2                   | own                 | little              | moderate            | 5951                | 48                  | radio/TV            | 2                   | 1                   | \n",
       "| 4 |  3                  | 45                  | male                | 2                   | free                | little              | little              | 7882                | 42                  | furniture/equipment | 1                   | 2                   | \n",
       "| 5 |  4                  | 53                  | male                | 2                   | free                | little              | little              | 4870                | 24                  | car                 | 2                   | 2                   | \n",
       "| 8 |  7                  | 35                  | male                | 3                   | rent                | little              | moderate            | 6948                | 36                  | car                 | 1                   | 2                   | \n",
       "| 10 |  9                  | 28                  | male                | 3                   | own                 | little              | moderate            | 5234                | 30                  | car                 | 2                   | 2                   | \n",
       "| 11 | 10                  | 25                  | female              | 2                   | rent                | little              | moderate            | 1295                | 12                  | car                 | 2                   | 1                   | \n",
       "\n",
       "\n"
      ],
      "text/plain": [
       "   X. Age Sex    Job Housing Saving.accounts Checking.account Credit.amount\n",
       "2   1 22  female 2   own     little          moderate         5951         \n",
       "4   3 45  male   2   free    little          little           7882         \n",
       "5   4 53  male   2   free    little          little           4870         \n",
       "8   7 35  male   3   rent    little          moderate         6948         \n",
       "10  9 28  male   3   own     little          moderate         5234         \n",
       "11 10 25  female 2   rent    little          moderate         1295         \n",
       "   Duration Purpose             Credit.Risks Sex_val\n",
       "2  48       radio/TV            2            1      \n",
       "4  42       furniture/equipment 1            2      \n",
       "5  24       car                 2            2      \n",
       "8  36       car                 1            2      \n",
       "10 30       car                 2            2      \n",
       "11 12       car                 2            1      "
      ]
     },
     "metadata": {},
     "output_type": "display_data"
    }
   ],
   "source": [
    "Dataset$Sex_val <- factor(Dataset$Sex, labels=c(1,2))\n",
    "head(Dataset)"
   ]
  },
  {
   "cell_type": "markdown",
   "metadata": {},
   "source": [
    "Assigning 1 to female and 2 to male in the coloumn Sex_val"
   ]
  },
  {
   "cell_type": "code",
   "execution_count": 182,
   "metadata": {
    "collapsed": false
   },
   "outputs": [
    {
     "data": {
      "text/html": [
       "<table>\n",
       "<thead><tr><th></th><th scope=col>X.</th><th scope=col>Age</th><th scope=col>Sex</th><th scope=col>Job</th><th scope=col>Housing</th><th scope=col>Saving.accounts</th><th scope=col>Checking.account</th><th scope=col>Credit.amount</th><th scope=col>Duration</th><th scope=col>Purpose</th><th scope=col>Credit.Risks</th><th scope=col>Sex_val</th><th scope=col>Purpose_vals</th></tr></thead>\n",
       "<tbody>\n",
       "\t<tr><th scope=row>2</th><td> 1                 </td><td>22                 </td><td>female             </td><td>2                  </td><td>own                </td><td>little             </td><td>moderate           </td><td>5951               </td><td>48                 </td><td>radio/TV           </td><td>2                  </td><td>1                  </td><td>6                  </td></tr>\n",
       "\t<tr><th scope=row>4</th><td> 3                 </td><td>45                 </td><td>male               </td><td>2                  </td><td>free               </td><td>little             </td><td>little             </td><td>7882               </td><td>42                 </td><td>furniture/equipment</td><td>1                  </td><td>2                  </td><td>5                  </td></tr>\n",
       "\t<tr><th scope=row>5</th><td> 4                 </td><td>53                 </td><td>male               </td><td>2                  </td><td>free               </td><td>little             </td><td>little             </td><td>4870               </td><td>24                 </td><td>car                </td><td>2                  </td><td>2                  </td><td>2                  </td></tr>\n",
       "\t<tr><th scope=row>8</th><td> 7                 </td><td>35                 </td><td>male               </td><td>3                  </td><td>rent               </td><td>little             </td><td>moderate           </td><td>6948               </td><td>36                 </td><td>car                </td><td>1                  </td><td>2                  </td><td>2                  </td></tr>\n",
       "\t<tr><th scope=row>10</th><td> 9                 </td><td>28                 </td><td>male               </td><td>3                  </td><td>own                </td><td>little             </td><td>moderate           </td><td>5234               </td><td>30                 </td><td>car                </td><td>2                  </td><td>2                  </td><td>2                  </td></tr>\n",
       "\t<tr><th scope=row>11</th><td>10                 </td><td>25                 </td><td>female             </td><td>2                  </td><td>rent               </td><td>little             </td><td>moderate           </td><td>1295               </td><td>12                 </td><td>car                </td><td>2                  </td><td>1                  </td><td>2                  </td></tr>\n",
       "</tbody>\n",
       "</table>\n"
      ],
      "text/latex": [
       "\\begin{tabular}{r|lllllllllllll}\n",
       "  & X. & Age & Sex & Job & Housing & Saving.accounts & Checking.account & Credit.amount & Duration & Purpose & Credit.Risks & Sex\\_val & Purpose\\_vals\\\\\n",
       "\\hline\n",
       "\t2 &  1                  & 22                  & female              & 2                   & own                 & little              & moderate            & 5951                & 48                  & radio/TV            & 2                   & 1                   & 6                  \\\\\n",
       "\t4 &  3                  & 45                  & male                & 2                   & free                & little              & little              & 7882                & 42                  & furniture/equipment & 1                   & 2                   & 5                  \\\\\n",
       "\t5 &  4                  & 53                  & male                & 2                   & free                & little              & little              & 4870                & 24                  & car                 & 2                   & 2                   & 2                  \\\\\n",
       "\t8 &  7                  & 35                  & male                & 3                   & rent                & little              & moderate            & 6948                & 36                  & car                 & 1                   & 2                   & 2                  \\\\\n",
       "\t10 &  9                  & 28                  & male                & 3                   & own                 & little              & moderate            & 5234                & 30                  & car                 & 2                   & 2                   & 2                  \\\\\n",
       "\t11 & 10                  & 25                  & female              & 2                   & rent                & little              & moderate            & 1295                & 12                  & car                 & 2                   & 1                   & 2                  \\\\\n",
       "\\end{tabular}\n"
      ],
      "text/markdown": [
       "\n",
       "| <!--/--> | X. | Age | Sex | Job | Housing | Saving.accounts | Checking.account | Credit.amount | Duration | Purpose | Credit.Risks | Sex_val | Purpose_vals | \n",
       "|---|---|---|---|---|---|\n",
       "| 2 |  1                  | 22                  | female              | 2                   | own                 | little              | moderate            | 5951                | 48                  | radio/TV            | 2                   | 1                   | 6                   | \n",
       "| 4 |  3                  | 45                  | male                | 2                   | free                | little              | little              | 7882                | 42                  | furniture/equipment | 1                   | 2                   | 5                   | \n",
       "| 5 |  4                  | 53                  | male                | 2                   | free                | little              | little              | 4870                | 24                  | car                 | 2                   | 2                   | 2                   | \n",
       "| 8 |  7                  | 35                  | male                | 3                   | rent                | little              | moderate            | 6948                | 36                  | car                 | 1                   | 2                   | 2                   | \n",
       "| 10 |  9                  | 28                  | male                | 3                   | own                 | little              | moderate            | 5234                | 30                  | car                 | 2                   | 2                   | 2                   | \n",
       "| 11 | 10                  | 25                  | female              | 2                   | rent                | little              | moderate            | 1295                | 12                  | car                 | 2                   | 1                   | 2                   | \n",
       "\n",
       "\n"
      ],
      "text/plain": [
       "   X. Age Sex    Job Housing Saving.accounts Checking.account Credit.amount\n",
       "2   1 22  female 2   own     little          moderate         5951         \n",
       "4   3 45  male   2   free    little          little           7882         \n",
       "5   4 53  male   2   free    little          little           4870         \n",
       "8   7 35  male   3   rent    little          moderate         6948         \n",
       "10  9 28  male   3   own     little          moderate         5234         \n",
       "11 10 25  female 2   rent    little          moderate         1295         \n",
       "   Duration Purpose             Credit.Risks Sex_val Purpose_vals\n",
       "2  48       radio/TV            2            1       6           \n",
       "4  42       furniture/equipment 1            2       5           \n",
       "5  24       car                 2            2       2           \n",
       "8  36       car                 1            2       2           \n",
       "10 30       car                 2            2       2           \n",
       "11 12       car                 2            1       2           "
      ]
     },
     "metadata": {},
     "output_type": "display_data"
    }
   ],
   "source": [
    "Dataset$Purpose_vals <- factor(Dataset$Purpose, labels=c(1,2,3,4,5,6,7,8))\n",
    "head(Dataset)"
   ]
  },
  {
   "cell_type": "markdown",
   "metadata": {},
   "source": [
    "Assigning the following numeric values to the various purposes as described below and creating an new coloumn called Purpose_vals.\n",
    "\n",
    "1=Business, 2=Car, 3=Domestic appliances, 4=education, 5=Furniture/equipment, 6=radio/TV, 7=repairs, 8=Vacation/others"
   ]
  },
  {
   "cell_type": "code",
   "execution_count": 183,
   "metadata": {
    "collapsed": false
   },
   "outputs": [
    {
     "data": {
      "text/html": [
       "<ol class=list-inline>\n",
       "\t<li>'free'</li>\n",
       "\t<li>'own'</li>\n",
       "\t<li>'rent'</li>\n",
       "</ol>\n"
      ],
      "text/latex": [
       "\\begin{enumerate*}\n",
       "\\item 'free'\n",
       "\\item 'own'\n",
       "\\item 'rent'\n",
       "\\end{enumerate*}\n"
      ],
      "text/markdown": [
       "1. 'free'\n",
       "2. 'own'\n",
       "3. 'rent'\n",
       "\n",
       "\n"
      ],
      "text/plain": [
       "[1] \"free\" \"own\"  \"rent\""
      ]
     },
     "metadata": {},
     "output_type": "display_data"
    },
    {
     "data": {
      "text/html": [
       "<ol class=list-inline>\n",
       "\t<li>'little'</li>\n",
       "\t<li>'moderate'</li>\n",
       "\t<li>'quite rich'</li>\n",
       "\t<li>'rich'</li>\n",
       "</ol>\n"
      ],
      "text/latex": [
       "\\begin{enumerate*}\n",
       "\\item 'little'\n",
       "\\item 'moderate'\n",
       "\\item 'quite rich'\n",
       "\\item 'rich'\n",
       "\\end{enumerate*}\n"
      ],
      "text/markdown": [
       "1. 'little'\n",
       "2. 'moderate'\n",
       "3. 'quite rich'\n",
       "4. 'rich'\n",
       "\n",
       "\n"
      ],
      "text/plain": [
       "[1] \"little\"     \"moderate\"   \"quite rich\" \"rich\"      "
      ]
     },
     "metadata": {},
     "output_type": "display_data"
    },
    {
     "data": {
      "text/html": [
       "<ol class=list-inline>\n",
       "\t<li>'little'</li>\n",
       "\t<li>'moderate'</li>\n",
       "\t<li>'rich'</li>\n",
       "</ol>\n"
      ],
      "text/latex": [
       "\\begin{enumerate*}\n",
       "\\item 'little'\n",
       "\\item 'moderate'\n",
       "\\item 'rich'\n",
       "\\end{enumerate*}\n"
      ],
      "text/markdown": [
       "1. 'little'\n",
       "2. 'moderate'\n",
       "3. 'rich'\n",
       "\n",
       "\n"
      ],
      "text/plain": [
       "[1] \"little\"   \"moderate\" \"rich\"    "
      ]
     },
     "metadata": {},
     "output_type": "display_data"
    }
   ],
   "source": [
    "Housing <- levels(Dataset$Housing)\n",
    "Housing\n",
    "Saving_acc <- levels(Dataset$Saving.accounts)\n",
    "Saving_acc\n",
    "checking_acc <- levels(Dataset$Checking.account)\n",
    "checking_acc"
   ]
  },
  {
   "cell_type": "code",
   "execution_count": 184,
   "metadata": {
    "collapsed": false
   },
   "outputs": [
    {
     "data": {
      "text/html": [
       "<table>\n",
       "<thead><tr><th></th><th scope=col>X.</th><th scope=col>Age</th><th scope=col>Sex</th><th scope=col>Job</th><th scope=col>Housing</th><th scope=col>Saving.accounts</th><th scope=col>Checking.account</th><th scope=col>Credit.amount</th><th scope=col>Duration</th><th scope=col>Purpose</th><th scope=col>Credit.Risks</th><th scope=col>Sex_val</th><th scope=col>Purpose_vals</th><th scope=col>Housing_vals</th><th scope=col>Saving_vals</th><th scope=col>Checking_vals</th></tr></thead>\n",
       "<tbody>\n",
       "\t<tr><th scope=row>2</th><td> 1                 </td><td>22                 </td><td>female             </td><td>2                  </td><td>own                </td><td>little             </td><td>moderate           </td><td>5951               </td><td>48                 </td><td>radio/TV           </td><td>2                  </td><td>1                  </td><td>6                  </td><td>2                  </td><td>1                  </td><td>2                  </td></tr>\n",
       "\t<tr><th scope=row>4</th><td> 3                 </td><td>45                 </td><td>male               </td><td>2                  </td><td>free               </td><td>little             </td><td>little             </td><td>7882               </td><td>42                 </td><td>furniture/equipment</td><td>1                  </td><td>2                  </td><td>5                  </td><td>1                  </td><td>1                  </td><td>1                  </td></tr>\n",
       "\t<tr><th scope=row>5</th><td> 4                 </td><td>53                 </td><td>male               </td><td>2                  </td><td>free               </td><td>little             </td><td>little             </td><td>4870               </td><td>24                 </td><td>car                </td><td>2                  </td><td>2                  </td><td>2                  </td><td>1                  </td><td>1                  </td><td>1                  </td></tr>\n",
       "\t<tr><th scope=row>8</th><td> 7                 </td><td>35                 </td><td>male               </td><td>3                  </td><td>rent               </td><td>little             </td><td>moderate           </td><td>6948               </td><td>36                 </td><td>car                </td><td>1                  </td><td>2                  </td><td>2                  </td><td>3                  </td><td>1                  </td><td>2                  </td></tr>\n",
       "\t<tr><th scope=row>10</th><td> 9                 </td><td>28                 </td><td>male               </td><td>3                  </td><td>own                </td><td>little             </td><td>moderate           </td><td>5234               </td><td>30                 </td><td>car                </td><td>2                  </td><td>2                  </td><td>2                  </td><td>2                  </td><td>1                  </td><td>2                  </td></tr>\n",
       "\t<tr><th scope=row>11</th><td>10                 </td><td>25                 </td><td>female             </td><td>2                  </td><td>rent               </td><td>little             </td><td>moderate           </td><td>1295               </td><td>12                 </td><td>car                </td><td>2                  </td><td>1                  </td><td>2                  </td><td>3                  </td><td>1                  </td><td>2                  </td></tr>\n",
       "</tbody>\n",
       "</table>\n"
      ],
      "text/latex": [
       "\\begin{tabular}{r|llllllllllllllll}\n",
       "  & X. & Age & Sex & Job & Housing & Saving.accounts & Checking.account & Credit.amount & Duration & Purpose & Credit.Risks & Sex\\_val & Purpose\\_vals & Housing\\_vals & Saving\\_vals & Checking\\_vals\\\\\n",
       "\\hline\n",
       "\t2 &  1                  & 22                  & female              & 2                   & own                 & little              & moderate            & 5951                & 48                  & radio/TV            & 2                   & 1                   & 6                   & 2                   & 1                   & 2                  \\\\\n",
       "\t4 &  3                  & 45                  & male                & 2                   & free                & little              & little              & 7882                & 42                  & furniture/equipment & 1                   & 2                   & 5                   & 1                   & 1                   & 1                  \\\\\n",
       "\t5 &  4                  & 53                  & male                & 2                   & free                & little              & little              & 4870                & 24                  & car                 & 2                   & 2                   & 2                   & 1                   & 1                   & 1                  \\\\\n",
       "\t8 &  7                  & 35                  & male                & 3                   & rent                & little              & moderate            & 6948                & 36                  & car                 & 1                   & 2                   & 2                   & 3                   & 1                   & 2                  \\\\\n",
       "\t10 &  9                  & 28                  & male                & 3                   & own                 & little              & moderate            & 5234                & 30                  & car                 & 2                   & 2                   & 2                   & 2                   & 1                   & 2                  \\\\\n",
       "\t11 & 10                  & 25                  & female              & 2                   & rent                & little              & moderate            & 1295                & 12                  & car                 & 2                   & 1                   & 2                   & 3                   & 1                   & 2                  \\\\\n",
       "\\end{tabular}\n"
      ],
      "text/markdown": [
       "\n",
       "| <!--/--> | X. | Age | Sex | Job | Housing | Saving.accounts | Checking.account | Credit.amount | Duration | Purpose | Credit.Risks | Sex_val | Purpose_vals | Housing_vals | Saving_vals | Checking_vals | \n",
       "|---|---|---|---|---|---|\n",
       "| 2 |  1                  | 22                  | female              | 2                   | own                 | little              | moderate            | 5951                | 48                  | radio/TV            | 2                   | 1                   | 6                   | 2                   | 1                   | 2                   | \n",
       "| 4 |  3                  | 45                  | male                | 2                   | free                | little              | little              | 7882                | 42                  | furniture/equipment | 1                   | 2                   | 5                   | 1                   | 1                   | 1                   | \n",
       "| 5 |  4                  | 53                  | male                | 2                   | free                | little              | little              | 4870                | 24                  | car                 | 2                   | 2                   | 2                   | 1                   | 1                   | 1                   | \n",
       "| 8 |  7                  | 35                  | male                | 3                   | rent                | little              | moderate            | 6948                | 36                  | car                 | 1                   | 2                   | 2                   | 3                   | 1                   | 2                   | \n",
       "| 10 |  9                  | 28                  | male                | 3                   | own                 | little              | moderate            | 5234                | 30                  | car                 | 2                   | 2                   | 2                   | 2                   | 1                   | 2                   | \n",
       "| 11 | 10                  | 25                  | female              | 2                   | rent                | little              | moderate            | 1295                | 12                  | car                 | 2                   | 1                   | 2                   | 3                   | 1                   | 2                   | \n",
       "\n",
       "\n"
      ],
      "text/plain": [
       "   X. Age Sex    Job Housing Saving.accounts Checking.account Credit.amount\n",
       "2   1 22  female 2   own     little          moderate         5951         \n",
       "4   3 45  male   2   free    little          little           7882         \n",
       "5   4 53  male   2   free    little          little           4870         \n",
       "8   7 35  male   3   rent    little          moderate         6948         \n",
       "10  9 28  male   3   own     little          moderate         5234         \n",
       "11 10 25  female 2   rent    little          moderate         1295         \n",
       "   Duration Purpose             Credit.Risks Sex_val Purpose_vals Housing_vals\n",
       "2  48       radio/TV            2            1       6            2           \n",
       "4  42       furniture/equipment 1            2       5            1           \n",
       "5  24       car                 2            2       2            1           \n",
       "8  36       car                 1            2       2            3           \n",
       "10 30       car                 2            2       2            2           \n",
       "11 12       car                 2            1       2            3           \n",
       "   Saving_vals Checking_vals\n",
       "2  1           2            \n",
       "4  1           1            \n",
       "5  1           1            \n",
       "8  1           2            \n",
       "10 1           2            \n",
       "11 1           2            "
      ]
     },
     "metadata": {},
     "output_type": "display_data"
    }
   ],
   "source": [
    "Dataset$Housing_vals <- factor(Dataset$Housing, labels=c(1,2,3))\n",
    "Dataset$Saving_vals <- factor(Dataset$Saving.accounts, labels=c(1,2,4,3))\n",
    "Dataset$Checking_vals <- factor(Dataset$Checking.account, labels=c(1,2,3))\n",
    "head(Dataset)"
   ]
  },
  {
   "cell_type": "markdown",
   "metadata": {},
   "source": [
    "All the lines above dealt with converting character fields to numeric by specifying numbers to the levels of the coloumn."
   ]
  },
  {
   "cell_type": "code",
   "execution_count": 185,
   "metadata": {
    "collapsed": false
   },
   "outputs": [
    {
     "data": {
      "text/html": [],
      "text/latex": [],
      "text/markdown": [],
      "text/plain": [
       "<0 x 0 matrix>"
      ]
     },
     "metadata": {},
     "output_type": "display_data"
    }
   ],
   "source": [
    "total_rows <- nrow(Dataset)\n",
    "output = data.frame()\n",
    "head(output)"
   ]
  },
  {
   "cell_type": "code",
   "execution_count": 186,
   "metadata": {
    "collapsed": false
   },
   "outputs": [
    {
     "data": {
      "text/html": [
       "<dl class=dl-horizontal>\n",
       "\t<dt>Age</dt>\n",
       "\t\t<dd>'integer'</dd>\n",
       "\t<dt>Sex_val</dt>\n",
       "\t\t<dd>'integer'</dd>\n",
       "\t<dt>Job</dt>\n",
       "\t\t<dd>'integer'</dd>\n",
       "\t<dt>Housing_vals</dt>\n",
       "\t\t<dd>'integer'</dd>\n",
       "\t<dt>Saving_vals</dt>\n",
       "\t\t<dd>'integer'</dd>\n",
       "\t<dt>Checking_vals</dt>\n",
       "\t\t<dd>'integer'</dd>\n",
       "\t<dt>Credit.amount</dt>\n",
       "\t\t<dd>'integer'</dd>\n",
       "\t<dt>Duration</dt>\n",
       "\t\t<dd>'integer'</dd>\n",
       "\t<dt>Purpose_vals</dt>\n",
       "\t\t<dd>'integer'</dd>\n",
       "</dl>\n"
      ],
      "text/latex": [
       "\\begin{description*}\n",
       "\\item[Age] 'integer'\n",
       "\\item[Sex\\textbackslash{}\\_val] 'integer'\n",
       "\\item[Job] 'integer'\n",
       "\\item[Housing\\textbackslash{}\\_vals] 'integer'\n",
       "\\item[Saving\\textbackslash{}\\_vals] 'integer'\n",
       "\\item[Checking\\textbackslash{}\\_vals] 'integer'\n",
       "\\item[Credit.amount] 'integer'\n",
       "\\item[Duration] 'integer'\n",
       "\\item[Purpose\\textbackslash{}\\_vals] 'integer'\n",
       "\\end{description*}\n"
      ],
      "text/markdown": [
       "Age\n",
       ":   'integer'Sex_val\n",
       ":   'integer'Job\n",
       ":   'integer'Housing_vals\n",
       ":   'integer'Saving_vals\n",
       ":   'integer'Checking_vals\n",
       ":   'integer'Credit.amount\n",
       ":   'integer'Duration\n",
       ":   'integer'Purpose_vals\n",
       ":   'integer'\n",
       "\n"
      ],
      "text/plain": [
       "          Age       Sex_val           Job  Housing_vals   Saving_vals \n",
       "    \"integer\"     \"integer\"     \"integer\"     \"integer\"     \"integer\" \n",
       "Checking_vals Credit.amount      Duration  Purpose_vals \n",
       "    \"integer\"     \"integer\"     \"integer\"     \"integer\" "
      ]
     },
     "metadata": {},
     "output_type": "display_data"
    },
    {
     "data": {
      "text/html": [
       "<table>\n",
       "<thead><tr><th></th><th scope=col>Age</th><th scope=col>Sex_val</th><th scope=col>Job</th><th scope=col>Housing_vals</th><th scope=col>Saving_vals</th><th scope=col>Checking_vals</th><th scope=col>Credit.amount</th><th scope=col>Duration</th><th scope=col>Purpose_vals</th></tr></thead>\n",
       "<tbody>\n",
       "\t<tr><th scope=row>2</th><td>-1.093398286</td><td>-1.4502090  </td><td>0.1823654   </td><td>-0.1444395  </td><td>-0.4506841  </td><td> 0.5567678  </td><td> 0.9122954  </td><td> 2.1373056  </td><td> 1.0622872  </td></tr>\n",
       "\t<tr><th scope=row>4</th><td> 0.857752104</td><td> 0.6882348  </td><td>0.1823654   </td><td>-1.8978678  </td><td>-0.4506841  </td><td>-0.9569447  </td><td> 1.5715298  </td><td> 1.6563082  </td><td> 0.5609184  </td></tr>\n",
       "\t<tr><th scope=row>5</th><td> 1.536413109</td><td> 0.6882348  </td><td>0.1823654   </td><td>-1.8978678  </td><td>-0.4506841  </td><td>-0.9569447  </td><td> 0.5432470  </td><td> 0.2133159  </td><td>-0.9431881  </td></tr>\n",
       "\t<tr><th scope=row>8</th><td> 0.009425847</td><td> 0.6882348  </td><td>1.6469000   </td><td> 1.6089888  </td><td>-0.4506841  </td><td> 0.5567678  </td><td> 1.2526666  </td><td> 1.1753108  </td><td>-0.9431881  </td></tr>\n",
       "\t<tr><th scope=row>10</th><td>-0.584402532</td><td> 0.6882348  </td><td>1.6469000   </td><td>-0.1444395  </td><td>-0.4506841  </td><td> 0.5567678  </td><td> 0.6675149  </td><td> 0.6943133  </td><td>-0.9431881  </td></tr>\n",
       "\t<tr><th scope=row>11</th><td>-0.838900409</td><td>-1.4502090  </td><td>0.1823654   </td><td> 1.6089888  </td><td>-0.4506841  </td><td> 0.5567678  </td><td>-0.6772414  </td><td>-0.7486789  </td><td>-0.9431881  </td></tr>\n",
       "</tbody>\n",
       "</table>\n"
      ],
      "text/latex": [
       "\\begin{tabular}{r|lllllllll}\n",
       "  & Age & Sex\\_val & Job & Housing\\_vals & Saving\\_vals & Checking\\_vals & Credit.amount & Duration & Purpose\\_vals\\\\\n",
       "\\hline\n",
       "\t2 & -1.093398286 & -1.4502090   & 0.1823654    & -0.1444395   & -0.4506841   &  0.5567678   &  0.9122954   &  2.1373056   &  1.0622872  \\\\\n",
       "\t4 &  0.857752104 &  0.6882348   & 0.1823654    & -1.8978678   & -0.4506841   & -0.9569447   &  1.5715298   &  1.6563082   &  0.5609184  \\\\\n",
       "\t5 &  1.536413109 &  0.6882348   & 0.1823654    & -1.8978678   & -0.4506841   & -0.9569447   &  0.5432470   &  0.2133159   & -0.9431881  \\\\\n",
       "\t8 &  0.009425847 &  0.6882348   & 1.6469000    &  1.6089888   & -0.4506841   &  0.5567678   &  1.2526666   &  1.1753108   & -0.9431881  \\\\\n",
       "\t10 & -0.584402532 &  0.6882348   & 1.6469000    & -0.1444395   & -0.4506841   &  0.5567678   &  0.6675149   &  0.6943133   & -0.9431881  \\\\\n",
       "\t11 & -0.838900409 & -1.4502090   & 0.1823654    &  1.6089888   & -0.4506841   &  0.5567678   & -0.6772414   & -0.7486789   & -0.9431881  \\\\\n",
       "\\end{tabular}\n"
      ],
      "text/markdown": [
       "\n",
       "| <!--/--> | Age | Sex_val | Job | Housing_vals | Saving_vals | Checking_vals | Credit.amount | Duration | Purpose_vals | \n",
       "|---|---|---|---|---|---|\n",
       "| 2 | -1.093398286 | -1.4502090   | 0.1823654    | -0.1444395   | -0.4506841   |  0.5567678   |  0.9122954   |  2.1373056   |  1.0622872   | \n",
       "| 4 |  0.857752104 |  0.6882348   | 0.1823654    | -1.8978678   | -0.4506841   | -0.9569447   |  1.5715298   |  1.6563082   |  0.5609184   | \n",
       "| 5 |  1.536413109 |  0.6882348   | 0.1823654    | -1.8978678   | -0.4506841   | -0.9569447   |  0.5432470   |  0.2133159   | -0.9431881   | \n",
       "| 8 |  0.009425847 |  0.6882348   | 1.6469000    |  1.6089888   | -0.4506841   |  0.5567678   |  1.2526666   |  1.1753108   | -0.9431881   | \n",
       "| 10 | -0.584402532 |  0.6882348   | 1.6469000    | -0.1444395   | -0.4506841   |  0.5567678   |  0.6675149   |  0.6943133   | -0.9431881   | \n",
       "| 11 | -0.838900409 | -1.4502090   | 0.1823654    |  1.6089888   | -0.4506841   |  0.5567678   | -0.6772414   | -0.7486789   | -0.9431881   | \n",
       "\n",
       "\n"
      ],
      "text/plain": [
       "   Age          Sex_val    Job       Housing_vals Saving_vals Checking_vals\n",
       "2  -1.093398286 -1.4502090 0.1823654 -0.1444395   -0.4506841   0.5567678   \n",
       "4   0.857752104  0.6882348 0.1823654 -1.8978678   -0.4506841  -0.9569447   \n",
       "5   1.536413109  0.6882348 0.1823654 -1.8978678   -0.4506841  -0.9569447   \n",
       "8   0.009425847  0.6882348 1.6469000  1.6089888   -0.4506841   0.5567678   \n",
       "10 -0.584402532  0.6882348 1.6469000 -0.1444395   -0.4506841   0.5567678   \n",
       "11 -0.838900409 -1.4502090 0.1823654  1.6089888   -0.4506841   0.5567678   \n",
       "   Credit.amount Duration   Purpose_vals\n",
       "2   0.9122954     2.1373056  1.0622872  \n",
       "4   1.5715298     1.6563082  0.5609184  \n",
       "5   0.5432470     0.2133159 -0.9431881  \n",
       "8   1.2526666     1.1753108 -0.9431881  \n",
       "10  0.6675149     0.6943133 -0.9431881  \n",
       "11 -0.6772414    -0.7486789 -0.9431881  "
      ]
     },
     "metadata": {},
     "output_type": "display_data"
    }
   ],
   "source": [
    "Dataset_final <- subset(Dataset, select = c(Age, Sex_val, Job, Housing_vals, Saving_vals, Checking_vals, Credit.amount, Duration, Purpose_vals))\n",
    "# Dataset_final_1 <- scale(Dataset_final)\n",
    "Dataset_final$Sex_val <- as.integer(Dataset_final$Sex_val)\n",
    "Dataset_final$Housing_vals <- as.integer(Dataset_final$Housing_vals)\n",
    "Dataset_final$Saving_vals <- as.integer(Dataset_final$Saving_vals)\n",
    "Dataset_final$Checking_vals <- as.integer(Dataset_final$Checking_vals)\n",
    "Dataset_final$Purpose_vals <- as.integer(Dataset_final$Purpose_vals)\n",
    "sapply(Dataset_final, class)\n",
    "Dataset_final <- scale(Dataset_final)\n",
    "head(Dataset_final)"
   ]
  },
  {
   "cell_type": "markdown",
   "metadata": {},
   "source": [
    "Creating a new dataframe with Scaled and normalized fields to be used in knn."
   ]
  },
  {
   "cell_type": "code",
   "execution_count": 187,
   "metadata": {
    "collapsed": false
   },
   "outputs": [],
   "source": [
    "for(s in c(0.9, 0.8, 0.7, 0.6, 0.5, 0.4, 0.3, 0.2, 0.1)){\n",
    "    sampling_rate <- s # Sampling Rate\n",
    "    total_labels <- total_rows * (1-sampling_rate)\n",
    "    training <- sample(1:total_rows, sampling_rate * total_rows, replace=FALSE)\n",
    "    training_data <- subset(Dataset_final[training,], select = c(Age, Sex_val, Job, Housing_vals, Saving_vals, Checking_vals, Credit.amount, Duration, Purpose_vals))\n",
    "    #Creating Training Data\n",
    "    testing <- setdiff(1:total_rows, training)\n",
    "    testing_data <- subset(Dataset_final[testing, ], select = c(Age, Sex_val, Job, Housing_vals, Saving_vals, Checking_vals, Credit.amount, Duration, Purpose_vals))\n",
    "    # Creating Testing Data\n",
    "    Credit <- Dataset$Credit.Risks[training]\n",
    "    Credit_true <- Dataset$Credit.Risks[testing]\n",
    "    \n",
    "    for (k in 1:20) {\n",
    "        Credit_prediction <- knn(training_data, testing_data, Credit, k)\n",
    "        # We're using the R function knn()\n",
    "        total_incorrect_labels <- sum(Credit_prediction != Credit_true) \n",
    "        misclassification <- total_incorrect_labels / total_labels\n",
    "        # Finding Misclassification and recording the values of the sampling rates, K and their \n",
    "        # respective misclassification in a data frame\n",
    "        output = rbind(output, data.frame(s, k, misclassification))\n",
    "    }\n",
    "}"
   ]
  },
  {
   "cell_type": "code",
   "execution_count": 188,
   "metadata": {
    "collapsed": false
   },
   "outputs": [
    {
     "data": {
      "text/html": [
       "<table>\n",
       "<thead><tr><th scope=col>s</th><th scope=col>k</th><th scope=col>misclassification</th></tr></thead>\n",
       "<tbody>\n",
       "\t<tr><td>0.9      </td><td>1        </td><td>0.4597701</td></tr>\n",
       "\t<tr><td>0.9      </td><td>2        </td><td>0.4980843</td></tr>\n",
       "\t<tr><td>0.9      </td><td>3        </td><td>0.3639847</td></tr>\n",
       "\t<tr><td>0.9      </td><td>4        </td><td>0.3065134</td></tr>\n",
       "\t<tr><td>0.9      </td><td>5        </td><td>0.3448276</td></tr>\n",
       "\t<tr><td>0.9      </td><td>6        </td><td>0.3639847</td></tr>\n",
       "</tbody>\n",
       "</table>\n"
      ],
      "text/latex": [
       "\\begin{tabular}{r|lll}\n",
       " s & k & misclassification\\\\\n",
       "\\hline\n",
       "\t 0.9       & 1         & 0.4597701\\\\\n",
       "\t 0.9       & 2         & 0.4980843\\\\\n",
       "\t 0.9       & 3         & 0.3639847\\\\\n",
       "\t 0.9       & 4         & 0.3065134\\\\\n",
       "\t 0.9       & 5         & 0.3448276\\\\\n",
       "\t 0.9       & 6         & 0.3639847\\\\\n",
       "\\end{tabular}\n"
      ],
      "text/markdown": [
       "\n",
       "s | k | misclassification | \n",
       "|---|---|---|---|---|---|\n",
       "| 0.9       | 1         | 0.4597701 | \n",
       "| 0.9       | 2         | 0.4980843 | \n",
       "| 0.9       | 3         | 0.3639847 | \n",
       "| 0.9       | 4         | 0.3065134 | \n",
       "| 0.9       | 5         | 0.3448276 | \n",
       "| 0.9       | 6         | 0.3639847 | \n",
       "\n",
       "\n"
      ],
      "text/plain": [
       "  s   k misclassification\n",
       "1 0.9 1 0.4597701        \n",
       "2 0.9 2 0.4980843        \n",
       "3 0.9 3 0.3639847        \n",
       "4 0.9 4 0.3065134        \n",
       "5 0.9 5 0.3448276        \n",
       "6 0.9 6 0.3639847        "
      ]
     },
     "metadata": {},
     "output_type": "display_data"
    }
   ],
   "source": [
    "head(output)"
   ]
  },
  {
   "cell_type": "markdown",
   "metadata": {},
   "source": [
    "Here Output dataframe contains all the misclassification from sampling rates = .1 to .9 and k = 1 to 20\n",
    "This Dataframe can be arranged and printed to find all the values. For example in the code below we sort the dataframe according to decreasing order of Misclassifications to find the best sampling rates and K values to use for prediction."
   ]
  },
  {
   "cell_type": "code",
   "execution_count": 189,
   "metadata": {
    "collapsed": false
   },
   "outputs": [
    {
     "data": {
      "text/html": [
       "<table>\n",
       "<thead><tr><th scope=col>s</th><th scope=col>k</th><th scope=col>misclassification</th></tr></thead>\n",
       "<tbody>\n",
       "\t<tr><td>0.9      </td><td>12       </td><td>0.2681992</td></tr>\n",
       "\t<tr><td>0.9      </td><td>15       </td><td>0.2681992</td></tr>\n",
       "\t<tr><td>0.8      </td><td>20       </td><td>0.2777778</td></tr>\n",
       "\t<tr><td>0.8      </td><td> 3       </td><td>0.2873563</td></tr>\n",
       "\t<tr><td>0.8      </td><td>14       </td><td>0.2969349</td></tr>\n",
       "\t<tr><td>0.9      </td><td> 4       </td><td>0.3065134</td></tr>\n",
       "</tbody>\n",
       "</table>\n"
      ],
      "text/latex": [
       "\\begin{tabular}{r|lll}\n",
       " s & k & misclassification\\\\\n",
       "\\hline\n",
       "\t 0.9       & 12        & 0.2681992\\\\\n",
       "\t 0.9       & 15        & 0.2681992\\\\\n",
       "\t 0.8       & 20        & 0.2777778\\\\\n",
       "\t 0.8       &  3        & 0.2873563\\\\\n",
       "\t 0.8       & 14        & 0.2969349\\\\\n",
       "\t 0.9       &  4        & 0.3065134\\\\\n",
       "\\end{tabular}\n"
      ],
      "text/markdown": [
       "\n",
       "s | k | misclassification | \n",
       "|---|---|---|---|---|---|\n",
       "| 0.9       | 12        | 0.2681992 | \n",
       "| 0.9       | 15        | 0.2681992 | \n",
       "| 0.8       | 20        | 0.2777778 | \n",
       "| 0.8       |  3        | 0.2873563 | \n",
       "| 0.8       | 14        | 0.2969349 | \n",
       "| 0.9       |  4        | 0.3065134 | \n",
       "\n",
       "\n"
      ],
      "text/plain": [
       "  s   k  misclassification\n",
       "1 0.9 12 0.2681992        \n",
       "2 0.9 15 0.2681992        \n",
       "3 0.8 20 0.2777778        \n",
       "4 0.8  3 0.2873563        \n",
       "5 0.8 14 0.2969349        \n",
       "6 0.9  4 0.3065134        "
      ]
     },
     "metadata": {},
     "output_type": "display_data"
    }
   ],
   "source": [
    "output <- output %>% arrange((misclassification))\n",
    "head(output)"
   ]
  },
  {
   "cell_type": "markdown",
   "metadata": {},
   "source": [
    "sampling rate and K for which the Misclassification rate is the least can be used to create a new Knn model which can be used to predict future data accurately."
   ]
  },
  {
   "cell_type": "code",
   "execution_count": 192,
   "metadata": {
    "collapsed": false
   },
   "outputs": [
    {
     "data": {
      "text/html": [
       "<table>\n",
       "<thead><tr><th scope=col>s</th><th scope=col>k</th><th scope=col>misclassification</th></tr></thead>\n",
       "<tbody>\n",
       "\t<tr><td>0.1      </td><td>1        </td><td>0.4427416</td></tr>\n",
       "\t<tr><td>0.1      </td><td>2        </td><td>0.4640272</td></tr>\n",
       "\t<tr><td>0.1      </td><td>3        </td><td>0.3937846</td></tr>\n",
       "\t<tr><td>0.1      </td><td>4        </td><td>0.4129417</td></tr>\n",
       "\t<tr><td>0.1      </td><td>5        </td><td>0.4129417</td></tr>\n",
       "\t<tr><td>0.1      </td><td>6        </td><td>0.4278416</td></tr>\n",
       "</tbody>\n",
       "</table>\n"
      ],
      "text/latex": [
       "\\begin{tabular}{r|lll}\n",
       " s & k & misclassification\\\\\n",
       "\\hline\n",
       "\t 0.1       & 1         & 0.4427416\\\\\n",
       "\t 0.1       & 2         & 0.4640272\\\\\n",
       "\t 0.1       & 3         & 0.3937846\\\\\n",
       "\t 0.1       & 4         & 0.4129417\\\\\n",
       "\t 0.1       & 5         & 0.4129417\\\\\n",
       "\t 0.1       & 6         & 0.4278416\\\\\n",
       "\\end{tabular}\n"
      ],
      "text/markdown": [
       "\n",
       "s | k | misclassification | \n",
       "|---|---|---|---|---|---|\n",
       "| 0.1       | 1         | 0.4427416 | \n",
       "| 0.1       | 2         | 0.4640272 | \n",
       "| 0.1       | 3         | 0.3937846 | \n",
       "| 0.1       | 4         | 0.4129417 | \n",
       "| 0.1       | 5         | 0.4129417 | \n",
       "| 0.1       | 6         | 0.4278416 | \n",
       "\n",
       "\n"
      ],
      "text/plain": [
       "  s   k misclassification\n",
       "1 0.1 1 0.4427416        \n",
       "2 0.1 2 0.4640272        \n",
       "3 0.1 3 0.3937846        \n",
       "4 0.1 4 0.4129417        \n",
       "5 0.1 5 0.4129417        \n",
       "6 0.1 6 0.4278416        "
      ]
     },
     "metadata": {},
     "output_type": "display_data"
    }
   ],
   "source": [
    "Final <- output %>% arrange((k)) %>% arrange(s)\n",
    "head(Final)"
   ]
  },
  {
   "cell_type": "code",
   "execution_count": null,
   "metadata": {
    "collapsed": true
   },
   "outputs": [],
   "source": [
    "# write.csv(Final, \"Url\")"
   ]
  },
  {
   "cell_type": "markdown",
   "metadata": {},
   "source": [
    "Writes a spreadsheet (csv) of all the misclassifications from sampling rates = .1 to .9 and k = 1 to 20\n",
    "\n",
    "Please specify URL and uncomment the line."
   ]
  },
  {
   "cell_type": "code",
   "execution_count": null,
   "metadata": {
    "collapsed": true
   },
   "outputs": [],
   "source": [
    "# Write.csv(output, \"Url\")"
   ]
  },
  {
   "cell_type": "markdown",
   "metadata": {},
   "source": [
    "Writes a spreadsheet (csv) ordered by misclassification rates in increasing order, Helpful for choosing ideal sampling and k values.\n",
    "Please specify URL and uncomment the line."
   ]
  }
 ],
 "metadata": {
  "kernelspec": {
   "display_name": "R",
   "language": "R",
   "name": "ir"
  },
  "language_info": {
   "codemirror_mode": "r",
   "file_extension": ".r",
   "mimetype": "text/x-r-source",
   "name": "R",
   "pygments_lexer": "r",
   "version": "3.3.2"
  }
 },
 "nbformat": 4,
 "nbformat_minor": 2
}
