{
 "cells": [
  {
   "cell_type": "code",
   "execution_count": 1,
   "metadata": {
    "collapsed": false
   },
   "outputs": [],
   "source": [
    "# install.packages('dplyr',repos=\"http://cran.us.r-project.org/\")"
   ]
  },
  {
   "cell_type": "code",
   "execution_count": 2,
   "metadata": {
    "collapsed": false
   },
   "outputs": [
    {
     "name": "stderr",
     "output_type": "stream",
     "text": [
      "\n",
      "Attaching package: ‘dplyr’\n",
      "\n",
      "The following objects are masked from ‘package:stats’:\n",
      "\n",
      "    filter, lag\n",
      "\n",
      "The following objects are masked from ‘package:base’:\n",
      "\n",
      "    intersect, setdiff, setequal, union\n",
      "\n"
     ]
    }
   ],
   "source": [
    "library(RSQLite)\n",
    "library(dplyr)"
   ]
  },
  {
   "cell_type": "code",
   "execution_count": 3,
   "metadata": {
    "collapsed": false
   },
   "outputs": [],
   "source": [
    "con <- dbConnect(SQLite(), dbname=\"/Users/Amardeep/Documents/Semester_2/Dic/lab_2/database.sqlite\")"
   ]
  },
  {
   "cell_type": "markdown",
   "metadata": {},
   "source": [
    "Please change the connection Url accordingly"
   ]
  },
  {
   "cell_type": "markdown",
   "metadata": {},
   "source": [
    "## Making the ideal Player data frame"
   ]
  },
  {
   "cell_type": "code",
   "execution_count": 4,
   "metadata": {
    "collapsed": false
   },
   "outputs": [],
   "source": [
    "Player1 <- dbGetQuery(con, \"SELECT * FROM `Player`\")\n",
    "player_name = data.frame(Player1$player_api_id,Player1$player_name)\n",
    "colnames(player_name) <- c(\"player_api_id\", \"player_name\")"
   ]
  },
  {
   "cell_type": "markdown",
   "metadata": {},
   "source": [
    "The above block of code creates two data frames Player1 (contains all coloumns from table, Player) and player_name(contains the player id and player name)."
   ]
  },
  {
   "cell_type": "code",
   "execution_count": 5,
   "metadata": {
    "collapsed": false
   },
   "outputs": [],
   "source": [
    "Match <- dbGetQuery(con, \"SELECT * FROM `Match`\")"
   ]
  },
  {
   "cell_type": "markdown",
   "metadata": {},
   "source": [
    "above block of code creates a Data frame called Match having all the attributes from Match table"
   ]
  },
  {
   "cell_type": "code",
   "execution_count": 6,
   "metadata": {
    "collapsed": true
   },
   "outputs": [],
   "source": [
    "appearences = c(Match$home_player_1, Match$home_player_2, Match$home_player_3, Match$home_player_4, Match$home_player_5, Match$home_player_6, Match$home_player_7, Match$home_player_8, Match$home_player_9, Match$home_player_10, Match$home_player_11, Match$away_player_1, Match$away_player_2, Match$away_player_3, Match$away_player_4, Match$away_player_5, Match$away_player_6, Match$away_player_7, Match$away_player_8, Match$away_player_9, Match$away_player_10, Match$away_player_11)"
   ]
  },
  {
   "cell_type": "code",
   "execution_count": 7,
   "metadata": {
    "collapsed": false
   },
   "outputs": [
    {
     "data": {
      "text/html": [
       "571538"
      ],
      "text/latex": [
       "571538"
      ],
      "text/markdown": [
       "571538"
      ],
      "text/plain": [
       "[1] 571538"
      ]
     },
     "metadata": {},
     "output_type": "display_data"
    }
   ],
   "source": [
    "appearences <- as.data.frame(appearences)\n",
    "nrow(appearences)"
   ]
  },
  {
   "cell_type": "markdown",
   "metadata": {},
   "source": [
    "The above blocks of code concatinate all the home player and away player fields into one and create a data frame"
   ]
  },
  {
   "cell_type": "code",
   "execution_count": 8,
   "metadata": {
    "collapsed": false
   },
   "outputs": [],
   "source": [
    "appearences <- appearences %>% filter(!is.na(appearences)) %>% arrange(appearences)"
   ]
  },
  {
   "cell_type": "code",
   "execution_count": 9,
   "metadata": {
    "collapsed": false
   },
   "outputs": [
    {
     "name": "stdout",
     "output_type": "stream",
     "text": [
      "# A tibble: 11,060 × 2\n",
      "   player_api_id total_appearances\n",
      "           <int>             <int>\n",
      "1          31293               300\n",
      "2          41097               294\n",
      "3          33764               286\n",
      "4          42422               286\n",
      "5          26295               282\n",
      "6          31465               282\n",
      "7          31432               275\n",
      "8          26168               268\n",
      "9          26399               262\n",
      "10         94550               260\n",
      "# ... with 11,050 more rows\n"
     ]
    }
   ],
   "source": [
    "no_appear <- appearences %>% count(appearences, sort = TRUE)\n",
    "\n",
    "colnames(no_appear) <- c(\"player_api_id\", \"total_appearances\")\n",
    "print(no_appear)"
   ]
  },
  {
   "cell_type": "markdown",
   "metadata": {},
   "source": [
    "The code block above counts the repeated entries in the coloumn and creates a new row containing frequency of the player api id."
   ]
  },
  {
   "cell_type": "code",
   "execution_count": 10,
   "metadata": {
    "collapsed": false
   },
   "outputs": [],
   "source": [
    "Player2 <- dbGetQuery(con, \"SELECT * FROM `Player_Attributes`\")\n",
    "#Creates a dataframe containing all the player attributes."
   ]
  },
  {
   "cell_type": "code",
   "execution_count": 11,
   "metadata": {
    "collapsed": false
   },
   "outputs": [
    {
     "data": {
      "text/html": [
       "<table>\n",
       "<thead><tr><th scope=col>player_api_id</th><th scope=col>gk_rating</th></tr></thead>\n",
       "<tbody>\n",
       "\t<tr><td>30717</td><td>449  </td></tr>\n",
       "\t<tr><td>39989</td><td>447  </td></tr>\n",
       "\t<tr><td>30859</td><td>445  </td></tr>\n",
       "\t<tr><td>30657</td><td>442  </td></tr>\n",
       "\t<tr><td>27299</td><td>440  </td></tr>\n",
       "\t<tr><td>30989</td><td>438  </td></tr>\n",
       "</tbody>\n",
       "</table>\n"
      ],
      "text/latex": [
       "\\begin{tabular}{r|ll}\n",
       " player\\_api\\_id & gk\\_rating\\\\\n",
       "\\hline\n",
       "\t 30717 & 449  \\\\\n",
       "\t 39989 & 447  \\\\\n",
       "\t 30859 & 445  \\\\\n",
       "\t 30657 & 442  \\\\\n",
       "\t 27299 & 440  \\\\\n",
       "\t 30989 & 438  \\\\\n",
       "\\end{tabular}\n"
      ],
      "text/markdown": [
       "\n",
       "player_api_id | gk_rating | \n",
       "|---|---|---|---|---|---|\n",
       "| 30717 | 449   | \n",
       "| 39989 | 447   | \n",
       "| 30859 | 445   | \n",
       "| 30657 | 442   | \n",
       "| 27299 | 440   | \n",
       "| 30989 | 438   | \n",
       "\n",
       "\n"
      ],
      "text/plain": [
       "  player_api_id gk_rating\n",
       "1 30717         449      \n",
       "2 39989         447      \n",
       "3 30859         445      \n",
       "4 30657         442      \n",
       "5 27299         440      \n",
       "6 30989         438      "
      ]
     },
     "metadata": {},
     "output_type": "display_data"
    }
   ],
   "source": [
    "player_att <- mutate(Player2, gk_rating = gk_diving + gk_handling + gk_kicking + gk_positioning + gk_reflexes)\n",
    "#Adds all goal keeper attributes in a single coloumn called gk_rating\n",
    "\n",
    "gk_rating <- data.frame(player_att$player_api_id,player_att$gk_rating)\n",
    "colnames(gk_rating) <- c(\"player_api_id\", \"gk_rating\")\n",
    "gk_rating <- gk_rating %>% arrange(desc(gk_rating))\n",
    "# creates a new data frame called gk_attributes containing only the player api id and gk_attributes\n",
    "\n",
    "gk_rating <- gk_rating %>% group_by(player_api_id) %>% summarise(gk_rating=max(gk_rating))\n",
    "# groups similar player ids together and finds the maximum gk_attibute from the group\n",
    "\n",
    "gk_rating <- gk_rating %>% arrange(desc(gk_rating))\n",
    "# arranges the data frame in decreasing order of gk_ratings\n",
    "\n",
    "head(gk_rating)"
   ]
  },
  {
   "cell_type": "code",
   "execution_count": 12,
   "metadata": {
    "collapsed": false
   },
   "outputs": [
    {
     "data": {
      "text/html": [
       "<table>\n",
       "<thead><tr><th scope=col>player_api_id</th><th scope=col>overall_rating</th></tr></thead>\n",
       "<tbody>\n",
       "\t<tr><td>30981</td><td>94   </td></tr>\n",
       "\t<tr><td>30717</td><td>93   </td></tr>\n",
       "\t<tr><td>30829</td><td>93   </td></tr>\n",
       "\t<tr><td>30893</td><td>93   </td></tr>\n",
       "\t<tr><td>39854</td><td>92   </td></tr>\n",
       "\t<tr><td>39989</td><td>92   </td></tr>\n",
       "</tbody>\n",
       "</table>\n"
      ],
      "text/latex": [
       "\\begin{tabular}{r|ll}\n",
       " player\\_api\\_id & overall\\_rating\\\\\n",
       "\\hline\n",
       "\t 30981 & 94   \\\\\n",
       "\t 30717 & 93   \\\\\n",
       "\t 30829 & 93   \\\\\n",
       "\t 30893 & 93   \\\\\n",
       "\t 39854 & 92   \\\\\n",
       "\t 39989 & 92   \\\\\n",
       "\\end{tabular}\n"
      ],
      "text/markdown": [
       "\n",
       "player_api_id | overall_rating | \n",
       "|---|---|---|---|---|---|\n",
       "| 30981 | 94    | \n",
       "| 30717 | 93    | \n",
       "| 30829 | 93    | \n",
       "| 30893 | 93    | \n",
       "| 39854 | 92    | \n",
       "| 39989 | 92    | \n",
       "\n",
       "\n"
      ],
      "text/plain": [
       "  player_api_id overall_rating\n",
       "1 30981         94            \n",
       "2 30717         93            \n",
       "3 30829         93            \n",
       "4 30893         93            \n",
       "5 39854         92            \n",
       "6 39989         92            "
      ]
     },
     "metadata": {},
     "output_type": "display_data"
    }
   ],
   "source": [
    "ovr_rating <- data.frame(player_att$player_api_id,player_att$overall_rating)\n",
    "colnames(ovr_rating) <- c(\"player_api_id\", \"overall_rating\")\n",
    "# creates a new data frame called ovr_rating containing only the player api id and overall attributes\n",
    "\n",
    "ovr_rating <- ovr_rating %>% group_by(player_api_id) %>% summarise(overall_rating=max(overall_rating))\n",
    "# groups similar player ids together and finds the maximum overall_rating from the group\n",
    "\n",
    "ovr_rating <- ovr_rating %>% arrange(desc(overall_rating))\n",
    "# arranges the data frame in decreasing order\n",
    "\n",
    "head(ovr_rating)"
   ]
  },
  {
   "cell_type": "code",
   "execution_count": 13,
   "metadata": {
    "collapsed": false
   },
   "outputs": [
    {
     "data": {
      "text/html": [
       "11060"
      ],
      "text/latex": [
       "11060"
      ],
      "text/markdown": [
       "11060"
      ],
      "text/plain": [
       "[1] 11060"
      ]
     },
     "metadata": {},
     "output_type": "display_data"
    },
    {
     "data": {
      "text/html": [
       "<table>\n",
       "<thead><tr><th scope=col>player_api_id</th><th scope=col>league_appearances</th></tr></thead>\n",
       "<tbody>\n",
       "\t<tr><td> 42119</td><td>6     </td></tr>\n",
       "\t<tr><td>116750</td><td>5     </td></tr>\n",
       "\t<tr><td>178538</td><td>5     </td></tr>\n",
       "\t<tr><td> 22543</td><td>4     </td></tr>\n",
       "\t<tr><td> 24123</td><td>4     </td></tr>\n",
       "\t<tr><td> 25816</td><td>4     </td></tr>\n",
       "</tbody>\n",
       "</table>\n"
      ],
      "text/latex": [
       "\\begin{tabular}{r|ll}\n",
       " player\\_api\\_id & league\\_appearances\\\\\n",
       "\\hline\n",
       "\t  42119 & 6     \\\\\n",
       "\t 116750 & 5     \\\\\n",
       "\t 178538 & 5     \\\\\n",
       "\t  22543 & 4     \\\\\n",
       "\t  24123 & 4     \\\\\n",
       "\t  25816 & 4     \\\\\n",
       "\\end{tabular}\n"
      ],
      "text/markdown": [
       "\n",
       "player_api_id | league_appearances | \n",
       "|---|---|---|---|---|---|\n",
       "|  42119 | 6      | \n",
       "| 116750 | 5      | \n",
       "| 178538 | 5      | \n",
       "|  22543 | 4      | \n",
       "|  24123 | 4      | \n",
       "|  25816 | 4      | \n",
       "\n",
       "\n"
      ],
      "text/plain": [
       "  player_api_id league_appearances\n",
       "1  42119        6                 \n",
       "2 116750        5                 \n",
       "3 178538        5                 \n",
       "4  22543        4                 \n",
       "5  24123        4                 \n",
       "6  25816        4                 "
      ]
     },
     "metadata": {},
     "output_type": "display_data"
    }
   ],
   "source": [
    "l_id <- data.frame(Match$home_player_1,Match$league_id)\n",
    "colnames(l_id) <- c(\"player_api_id\", \"league_id\")\n",
    "\n",
    "for(i in 2:11){\n",
    "    l_temp <- data.frame(Match[[paste(\"home_player_\", i, sep=\"\")]],Match$league_id)\n",
    "    colnames(l_temp) <- c(\"player_api_id\", \"league_id\")\n",
    "    l_id <- rbind(l_id,l_temp)\n",
    "}\n",
    "\n",
    "for(i in 1:11){\n",
    "    l_temp <- data.frame(Match[[paste(\"away_player_\", i, sep=\"\")]],Match$league_id)\n",
    "    colnames(l_temp) <- c(\"player_api_id\", \"league_id\")\n",
    "    l_id <- rbind(l_id,l_temp)\n",
    "}\n",
    "# loops to add all the home team api ids and their respective league ids to two coloumns\n",
    "\n",
    "l_id <- l_id %>% filter(!is.na(player_api_id)) %>% arrange(player_api_id)\n",
    "l_id <- l_id %>% group_by(player_api_id) %>% distinct(league_id)  %>% count(player_api_id, sort = TRUE)\n",
    "# Groups the players according to player api ids, finds the distinct entries and calculates its frequency\n",
    "\n",
    "colnames(l_id) <- c(\"player_api_id\", \"league_appearances\")\n",
    "\n",
    "nrow(l_id)\n",
    "head(l_id)"
   ]
  },
  {
   "cell_type": "markdown",
   "metadata": {},
   "source": [
    "Now that we have all individual data frames having the attributes that we want in the final table, we join all these data frames together using left join."
   ]
  },
  {
   "cell_type": "code",
   "execution_count": 14,
   "metadata": {
    "collapsed": false
   },
   "outputs": [
    {
     "data": {
      "text/html": [
       "11060"
      ],
      "text/latex": [
       "11060"
      ],
      "text/markdown": [
       "11060"
      ],
      "text/plain": [
       "[1] 11060"
      ]
     },
     "metadata": {},
     "output_type": "display_data"
    },
    {
     "data": {
      "text/html": [
       "<table>\n",
       "<thead><tr><th scope=col>player_api_id</th><th scope=col>player_name</th><th scope=col>total_appearances</th><th scope=col>gk_rating</th><th scope=col>overall_rating</th><th scope=col>league_appearances</th></tr></thead>\n",
       "<tbody>\n",
       "\t<tr><td>505942            </td><td>Aaron Appindangoye</td><td>  8               </td><td> 43               </td><td>67                </td><td>1                 </td></tr>\n",
       "\t<tr><td>155782            </td><td>Aaron Cresswell   </td><td> 75               </td><td>121               </td><td>74                </td><td>1                 </td></tr>\n",
       "\t<tr><td>162549            </td><td>Aaron Doran       </td><td>104               </td><td>125               </td><td>71                </td><td>1                 </td></tr>\n",
       "\t<tr><td> 30572            </td><td>Aaron Galindo     </td><td> 10               </td><td>111               </td><td>75                </td><td>1                 </td></tr>\n",
       "\t<tr><td> 23780            </td><td>Aaron Hughes      </td><td>162               </td><td>129               </td><td>78                </td><td>1                 </td></tr>\n",
       "\t<tr><td> 27316            </td><td>Aaron Hunt        </td><td>158               </td><td>132               </td><td>79                </td><td>1                 </td></tr>\n",
       "</tbody>\n",
       "</table>\n"
      ],
      "text/latex": [
       "\\begin{tabular}{r|llllll}\n",
       " player\\_api\\_id & player\\_name & total\\_appearances & gk\\_rating & overall\\_rating & league\\_appearances\\\\\n",
       "\\hline\n",
       "\t 505942             & Aaron Appindangoye &   8                &  43                & 67                 & 1                 \\\\\n",
       "\t 155782             & Aaron Cresswell    &  75                & 121                & 74                 & 1                 \\\\\n",
       "\t 162549             & Aaron Doran        & 104                & 125                & 71                 & 1                 \\\\\n",
       "\t  30572             & Aaron Galindo      &  10                & 111                & 75                 & 1                 \\\\\n",
       "\t  23780             & Aaron Hughes       & 162                & 129                & 78                 & 1                 \\\\\n",
       "\t  27316             & Aaron Hunt         & 158                & 132                & 79                 & 1                 \\\\\n",
       "\\end{tabular}\n"
      ],
      "text/markdown": [
       "\n",
       "player_api_id | player_name | total_appearances | gk_rating | overall_rating | league_appearances | \n",
       "|---|---|---|---|---|---|\n",
       "| 505942             | Aaron Appindangoye |   8                |  43                | 67                 | 1                  | \n",
       "| 155782             | Aaron Cresswell    |  75                | 121                | 74                 | 1                  | \n",
       "| 162549             | Aaron Doran        | 104                | 125                | 71                 | 1                  | \n",
       "|  30572             | Aaron Galindo      |  10                | 111                | 75                 | 1                  | \n",
       "|  23780             | Aaron Hughes       | 162                | 129                | 78                 | 1                  | \n",
       "|  27316             | Aaron Hunt         | 158                | 132                | 79                 | 1                  | \n",
       "\n",
       "\n"
      ],
      "text/plain": [
       "  player_api_id player_name        total_appearances gk_rating overall_rating\n",
       "1 505942        Aaron Appindangoye   8                43       67            \n",
       "2 155782        Aaron Cresswell     75               121       74            \n",
       "3 162549        Aaron Doran        104               125       71            \n",
       "4  30572        Aaron Galindo       10               111       75            \n",
       "5  23780        Aaron Hughes       162               129       78            \n",
       "6  27316        Aaron Hunt         158               132       79            \n",
       "  league_appearances\n",
       "1 1                 \n",
       "2 1                 \n",
       "3 1                 \n",
       "4 1                 \n",
       "5 1                 \n",
       "6 1                 "
      ]
     },
     "metadata": {},
     "output_type": "display_data"
    }
   ],
   "source": [
    "Player <- player_name %>% left_join(no_appear, by = \"player_api_id\")\n",
    "Player <- Player %>% left_join(gk_rating, by = \"player_api_id\")\n",
    "Player <- Player %>% left_join(ovr_rating, by = \"player_api_id\")\n",
    "Player <- Player %>% left_join(l_id, by = \"player_api_id\")\n",
    "# Player <- Player %>% arrange(desc(overall_rating))\n",
    "\n",
    "#left join to add all the data frenes based on Player api ids.\n",
    "nrow(Player)\n",
    "head(Player)"
   ]
  },
  {
   "cell_type": "markdown",
   "metadata": {},
   "source": [
    "## Making the ideal Team data frame"
   ]
  },
  {
   "cell_type": "code",
   "execution_count": 26,
   "metadata": {
    "collapsed": false
   },
   "outputs": [
    {
     "data": {
      "text/html": [
       "1458"
      ],
      "text/latex": [
       "1458"
      ],
      "text/markdown": [
       "1458"
      ],
      "text/plain": [
       "[1] 1458"
      ]
     },
     "metadata": {},
     "output_type": "display_data"
    }
   ],
   "source": [
    "team1 <- dbGetQuery(con, \"SELECT * FROM `Team`\")\n",
    "team_att <- dbGetQuery(con, \"SELECT * FROM `Team_Attributes`\")\n",
    "nrow(team_att)"
   ]
  },
  {
   "cell_type": "code",
   "execution_count": 16,
   "metadata": {
    "collapsed": false
   },
   "outputs": [
    {
     "data": {
      "text/html": [
       "<table>\n",
       "<thead><tr><th scope=col>team_api_id</th><th scope=col>team_long_name</th><th scope=col>team_short_name</th></tr></thead>\n",
       "<tbody>\n",
       "\t<tr><td> 9987            </td><td>KRC Genk         </td><td>GEN              </td></tr>\n",
       "\t<tr><td> 9993            </td><td>Beerschot AC     </td><td>BAC              </td></tr>\n",
       "\t<tr><td>10000            </td><td>SV Zulte-Waregem </td><td>ZUL              </td></tr>\n",
       "\t<tr><td> 9994            </td><td>Sporting Lokeren </td><td>LOK              </td></tr>\n",
       "\t<tr><td> 9984            </td><td>KSV Cercle Brugge</td><td>CEB              </td></tr>\n",
       "\t<tr><td> 8635            </td><td>RSC Anderlecht   </td><td>AND              </td></tr>\n",
       "</tbody>\n",
       "</table>\n"
      ],
      "text/latex": [
       "\\begin{tabular}{r|lll}\n",
       " team\\_api\\_id & team\\_long\\_name & team\\_short\\_name\\\\\n",
       "\\hline\n",
       "\t  9987             & KRC Genk          & GEN              \\\\\n",
       "\t  9993             & Beerschot AC      & BAC              \\\\\n",
       "\t 10000             & SV Zulte-Waregem  & ZUL              \\\\\n",
       "\t  9994             & Sporting Lokeren  & LOK              \\\\\n",
       "\t  9984             & KSV Cercle Brugge & CEB              \\\\\n",
       "\t  8635             & RSC Anderlecht    & AND              \\\\\n",
       "\\end{tabular}\n"
      ],
      "text/markdown": [
       "\n",
       "team_api_id | team_long_name | team_short_name | \n",
       "|---|---|---|---|---|---|\n",
       "|  9987             | KRC Genk          | GEN               | \n",
       "|  9993             | Beerschot AC      | BAC               | \n",
       "| 10000             | SV Zulte-Waregem  | ZUL               | \n",
       "|  9994             | Sporting Lokeren  | LOK               | \n",
       "|  9984             | KSV Cercle Brugge | CEB               | \n",
       "|  8635             | RSC Anderlecht    | AND               | \n",
       "\n",
       "\n"
      ],
      "text/plain": [
       "  team_api_id team_long_name    team_short_name\n",
       "1  9987       KRC Genk          GEN            \n",
       "2  9993       Beerschot AC      BAC            \n",
       "3 10000       SV Zulte-Waregem  ZUL            \n",
       "4  9994       Sporting Lokeren  LOK            \n",
       "5  9984       KSV Cercle Brugge CEB            \n",
       "6  8635       RSC Anderlecht    AND            "
      ]
     },
     "metadata": {},
     "output_type": "display_data"
    }
   ],
   "source": [
    "Team_name <- data.frame(team1$team_api_id, team1$team_long_name, team1$team_short_name)\n",
    "colnames(Team_name) <- c(\"team_api_id\", \"team_long_name\", \"team_short_name\")\n",
    "head(Team_name)"
   ]
  },
  {
   "cell_type": "markdown",
   "metadata": {},
   "source": [
    "Creates a data frame having the team names and team ids."
   ]
  },
  {
   "cell_type": "code",
   "execution_count": 46,
   "metadata": {
    "collapsed": false
   },
   "outputs": [
    {
     "data": {
      "text/html": [
       "288"
      ],
      "text/latex": [
       "288"
      ],
      "text/markdown": [
       "288"
      ],
      "text/plain": [
       "[1] 288"
      ]
     },
     "metadata": {},
     "output_type": "display_data"
    },
    {
     "data": {
      "text/html": [
       "<table>\n",
       "<thead><tr><th scope=col>team_api_id</th><th scope=col>buildUp_rating</th></tr></thead>\n",
       "<tbody>\n",
       "\t<tr><td>1601</td><td>139 </td></tr>\n",
       "\t<tr><td>1773</td><td>153 </td></tr>\n",
       "\t<tr><td>1957</td><td>158 </td></tr>\n",
       "\t<tr><td>2033</td><td>147 </td></tr>\n",
       "\t<tr><td>2182</td><td>176 </td></tr>\n",
       "\t<tr><td>2183</td><td> 80 </td></tr>\n",
       "</tbody>\n",
       "</table>\n"
      ],
      "text/latex": [
       "\\begin{tabular}{r|ll}\n",
       " team\\_api\\_id & buildUp\\_rating\\\\\n",
       "\\hline\n",
       "\t 1601 & 139 \\\\\n",
       "\t 1773 & 153 \\\\\n",
       "\t 1957 & 158 \\\\\n",
       "\t 2033 & 147 \\\\\n",
       "\t 2182 & 176 \\\\\n",
       "\t 2183 &  80 \\\\\n",
       "\\end{tabular}\n"
      ],
      "text/markdown": [
       "\n",
       "team_api_id | buildUp_rating | \n",
       "|---|---|---|---|---|---|\n",
       "| 1601 | 139  | \n",
       "| 1773 | 153  | \n",
       "| 1957 | 158  | \n",
       "| 2033 | 147  | \n",
       "| 2182 | 176  | \n",
       "| 2183 |  80  | \n",
       "\n",
       "\n"
      ],
      "text/plain": [
       "  team_api_id buildUp_rating\n",
       "1 1601        139           \n",
       "2 1773        153           \n",
       "3 1957        158           \n",
       "4 2033        147           \n",
       "5 2182        176           \n",
       "6 2183         80           "
      ]
     },
     "metadata": {},
     "output_type": "display_data"
    }
   ],
   "source": [
    "buildup1 <- data.frame(team_att$team_api_id, team_att$buildUpPlaySpeed, team_att$buildUpPlayDribbling, team_att$buildUpPlayPassing)\n",
    "\n",
    "colnames(buildup1) <- c(\"team_api_id\", \"buildUpPlaySpeed\", \"buildUpPlayDribbling\", \"buildUpPlayPassing\")\n",
    " buildup1[is.na(buildup1)] <- 0\n",
    "# transforms all NA to 0\n",
    "buildup1 <- mutate(buildup1, buildup_rating = buildUpPlaySpeed + buildUpPlayDribbling + buildUpPlayPassing)\n",
    "# adds all build up attributes together\n",
    "\n",
    "buildup1 <- data.frame(buildup1$team_api_id, buildup1$buildup_rating)\n",
    "colnames(buildup1) <- c(\"team_api_id\", \"buildUp_rating\")\n",
    "#creates a new data frame having only the team api id and the build up rating\n",
    "\n",
    "buildup1 <- buildup1 %>% group_by(team_api_id) %>% summarise(buildUp_rating=max(buildUp_rating))\n",
    "# groups similar player ids together and finds the maximum build up rating from the group\n",
    "\n",
    "\n",
    "nrow(buildup1)\n",
    "head(buildup1)"
   ]
  },
  {
   "cell_type": "code",
   "execution_count": 48,
   "metadata": {
    "collapsed": false
   },
   "outputs": [
    {
     "data": {
      "text/html": [
       "288"
      ],
      "text/latex": [
       "288"
      ],
      "text/markdown": [
       "288"
      ],
      "text/plain": [
       "[1] 288"
      ]
     },
     "metadata": {},
     "output_type": "display_data"
    },
    {
     "data": {
      "text/html": [
       "<table>\n",
       "<thead><tr><th scope=col>team_api_id</th><th scope=col>chance_rating</th></tr></thead>\n",
       "<tbody>\n",
       "\t<tr><td>8543</td><td>220 </td></tr>\n",
       "\t<tr><td>8697</td><td>216 </td></tr>\n",
       "\t<tr><td>9875</td><td>215 </td></tr>\n",
       "\t<tr><td>8178</td><td>210 </td></tr>\n",
       "\t<tr><td>8191</td><td>210 </td></tr>\n",
       "\t<tr><td>8344</td><td>210 </td></tr>\n",
       "</tbody>\n",
       "</table>\n"
      ],
      "text/latex": [
       "\\begin{tabular}{r|ll}\n",
       " team\\_api\\_id & chance\\_rating\\\\\n",
       "\\hline\n",
       "\t 8543 & 220 \\\\\n",
       "\t 8697 & 216 \\\\\n",
       "\t 9875 & 215 \\\\\n",
       "\t 8178 & 210 \\\\\n",
       "\t 8191 & 210 \\\\\n",
       "\t 8344 & 210 \\\\\n",
       "\\end{tabular}\n"
      ],
      "text/markdown": [
       "\n",
       "team_api_id | chance_rating | \n",
       "|---|---|---|---|---|---|\n",
       "| 8543 | 220  | \n",
       "| 8697 | 216  | \n",
       "| 9875 | 215  | \n",
       "| 8178 | 210  | \n",
       "| 8191 | 210  | \n",
       "| 8344 | 210  | \n",
       "\n",
       "\n"
      ],
      "text/plain": [
       "  team_api_id chance_rating\n",
       "1 8543        220          \n",
       "2 8697        216          \n",
       "3 9875        215          \n",
       "4 8178        210          \n",
       "5 8191        210          \n",
       "6 8344        210          "
      ]
     },
     "metadata": {},
     "output_type": "display_data"
    }
   ],
   "source": [
    "chance <- data.frame(team_att$team_api_id, team_att$chanceCreationPassing, team_att$chanceCreationCrossing, team_att$chanceCreationShooting)\n",
    "colnames(chance) <- c(\"team_api_id\", \"chanceCreationPassing\", \"chanceCreationCrossing\", \"chanceCreationShooting\")\n",
    "chance[is.na(chance)] <- 0\n",
    "# transforms all NA to 0\n",
    "chance <- mutate(chance, chance_rating = chanceCreationPassing + chanceCreationCrossing + chanceCreationShooting)\n",
    "# adds all chance attributes together\n",
    "\n",
    "chance <- data.frame(chance$team_api_id, chance$chance_rating)\n",
    "colnames(chance) <- c(\"team_api_id\", \"chance_rating\")\n",
    "#creates a new data frame having only the team api id and the chance rating\n",
    "\n",
    "chance <- chance %>% group_by(team_api_id) %>% summarise(chance_rating=max(chance_rating))\n",
    "# groups similar player ids together and finds the maximum chance rating from the group\n",
    "chance <- chance %>% arrange(desc(chance_rating))\n",
    "nrow(chance)\n",
    "head(chance)"
   ]
  },
  {
   "cell_type": "code",
   "execution_count": 49,
   "metadata": {
    "collapsed": false
   },
   "outputs": [
    {
     "data": {
      "text/html": [
       "288"
      ],
      "text/latex": [
       "288"
      ],
      "text/markdown": [
       "288"
      ],
      "text/plain": [
       "[1] 288"
      ]
     },
     "metadata": {},
     "output_type": "display_data"
    },
    {
     "data": {
      "text/html": [
       "<table>\n",
       "<thead><tr><th scope=col>team_api_id</th><th scope=col>defence_rating</th></tr></thead>\n",
       "<tbody>\n",
       "\t<tr><td>1957</td><td>210 </td></tr>\n",
       "\t<tr><td>7794</td><td>210 </td></tr>\n",
       "\t<tr><td>8021</td><td>210 </td></tr>\n",
       "\t<tr><td>8197</td><td>210 </td></tr>\n",
       "\t<tr><td>8344</td><td>210 </td></tr>\n",
       "\t<tr><td>8350</td><td>210 </td></tr>\n",
       "</tbody>\n",
       "</table>\n"
      ],
      "text/latex": [
       "\\begin{tabular}{r|ll}\n",
       " team\\_api\\_id & defence\\_rating\\\\\n",
       "\\hline\n",
       "\t 1957 & 210 \\\\\n",
       "\t 7794 & 210 \\\\\n",
       "\t 8021 & 210 \\\\\n",
       "\t 8197 & 210 \\\\\n",
       "\t 8344 & 210 \\\\\n",
       "\t 8350 & 210 \\\\\n",
       "\\end{tabular}\n"
      ],
      "text/markdown": [
       "\n",
       "team_api_id | defence_rating | \n",
       "|---|---|---|---|---|---|\n",
       "| 1957 | 210  | \n",
       "| 7794 | 210  | \n",
       "| 8021 | 210  | \n",
       "| 8197 | 210  | \n",
       "| 8344 | 210  | \n",
       "| 8350 | 210  | \n",
       "\n",
       "\n"
      ],
      "text/plain": [
       "  team_api_id defence_rating\n",
       "1 1957        210           \n",
       "2 7794        210           \n",
       "3 8021        210           \n",
       "4 8197        210           \n",
       "5 8344        210           \n",
       "6 8350        210           "
      ]
     },
     "metadata": {},
     "output_type": "display_data"
    }
   ],
   "source": [
    "defence <- data.frame(team_att$team_api_id, team_att$defencePressure, team_att$defenceAggression, team_att$defenceTeamWidth)\n",
    "colnames(defence) <- c(\"team_api_id\", \"defencePressure\", \"defenceAggression\", \"defenceTeamWidth\")\n",
    "defence[is.na(defence)] <- 0\n",
    "# transforms all NA to 0\n",
    "defence <- mutate(defence, defence_rating = defencePressure + defenceAggression + defenceTeamWidth)\n",
    "# adds all defence attributes together\n",
    "defence <- data.frame(defence$team_api_id, defence$defence_rating)\n",
    "colnames(defence) <- c(\"team_api_id\", \"defence_rating\")\n",
    "#creates a new data frame having only the team api id and the defence rating\n",
    "\n",
    "defence <- defence %>% group_by(team_api_id) %>% summarise(defence_rating=max(defence_rating))\n",
    "# groups similar player ids together and finds the maximum defence rating from the group\n",
    "defence <- defence %>% arrange(desc(defence_rating))\n",
    "nrow(defence)\n",
    "head(defence)"
   ]
  },
  {
   "cell_type": "code",
   "execution_count": 52,
   "metadata": {
    "collapsed": false
   },
   "outputs": [
    {
     "data": {
      "text/html": [
       "299"
      ],
      "text/latex": [
       "299"
      ],
      "text/markdown": [
       "299"
      ],
      "text/plain": [
       "[1] 299"
      ]
     },
     "metadata": {},
     "output_type": "display_data"
    },
    {
     "data": {
      "text/html": [
       "<table>\n",
       "<thead><tr><th scope=col>team_api_id</th><th scope=col>team_goals</th></tr></thead>\n",
       "<tbody>\n",
       "\t<tr><td>8634</td><td>849 </td></tr>\n",
       "\t<tr><td>8633</td><td>843 </td></tr>\n",
       "\t<tr><td>9925</td><td>695 </td></tr>\n",
       "\t<tr><td>9823</td><td>653 </td></tr>\n",
       "\t<tr><td>8640</td><td>652 </td></tr>\n",
       "\t<tr><td>8593</td><td>647 </td></tr>\n",
       "</tbody>\n",
       "</table>\n"
      ],
      "text/latex": [
       "\\begin{tabular}{r|ll}\n",
       " team\\_api\\_id & team\\_goals\\\\\n",
       "\\hline\n",
       "\t 8634 & 849 \\\\\n",
       "\t 8633 & 843 \\\\\n",
       "\t 9925 & 695 \\\\\n",
       "\t 9823 & 653 \\\\\n",
       "\t 8640 & 652 \\\\\n",
       "\t 8593 & 647 \\\\\n",
       "\\end{tabular}\n"
      ],
      "text/markdown": [
       "\n",
       "team_api_id | team_goals | \n",
       "|---|---|---|---|---|---|\n",
       "| 8634 | 849  | \n",
       "| 8633 | 843  | \n",
       "| 9925 | 695  | \n",
       "| 9823 | 653  | \n",
       "| 8640 | 652  | \n",
       "| 8593 | 647  | \n",
       "\n",
       "\n"
      ],
      "text/plain": [
       "  team_api_id team_goals\n",
       "1 8634        849       \n",
       "2 8633        843       \n",
       "3 9925        695       \n",
       "4 9823        653       \n",
       "5 8640        652       \n",
       "6 8593        647       "
      ]
     },
     "metadata": {},
     "output_type": "display_data"
    }
   ],
   "source": [
    "home_goal <- data.frame(Match$home_team_api_id, Match$home_team_goal)\n",
    "colnames(home_goal) <- c(\"team_api_id\", \"goal\")\n",
    "#Data frame having all team pi ids and home goals\n",
    "away_goal <- data.frame(Match$away_team_api_id, Match$away_team_goal)\n",
    "colnames(away_goal) <- c(\"team_api_id\", \"goal\")\n",
    "#Data frame having all team pi ids and away goals\n",
    "team_goal <- rbind(home_goal, away_goal)\n",
    "#appends the two data frame into one\n",
    "team_goal <- team_goal %>% group_by(team_api_id) %>% summarise(team_goals=sum(goal))\n",
    "# Groups all similar team api ids together and sums up all the goals in the group\n",
    "team_goal <- team_goal %>% arrange(desc(team_goals))\n",
    "nrow(team_goal)\n",
    "head(team_goal)"
   ]
  },
  {
   "cell_type": "markdown",
   "metadata": {},
   "source": [
    "Now that we have all individual data frames having the attributes that we want in the final table, we join all these data frames together using left join."
   ]
  },
  {
   "cell_type": "code",
   "execution_count": 53,
   "metadata": {
    "collapsed": false
   },
   "outputs": [
    {
     "data": {
      "text/html": [
       "<table>\n",
       "<thead><tr><th scope=col>team_api_id</th><th scope=col>team_long_name</th><th scope=col>team_short_name</th><th scope=col>buildUp_rating</th><th scope=col>chance_rating</th><th scope=col>defence_rating</th><th scope=col>team_goals</th></tr></thead>\n",
       "<tbody>\n",
       "\t<tr><td> 9987            </td><td>KRC Genk         </td><td>GEN              </td><td>148              </td><td>182              </td><td>205              </td><td>348              </td></tr>\n",
       "\t<tr><td> 9993            </td><td>Beerschot AC     </td><td>BAC              </td><td>110              </td><td>185              </td><td>210              </td><td>174              </td></tr>\n",
       "\t<tr><td>10000            </td><td>SV Zulte-Waregem </td><td>ZUL              </td><td>147              </td><td>153              </td><td>200              </td><td>306              </td></tr>\n",
       "\t<tr><td> 9994            </td><td>Sporting Lokeren </td><td>LOK              </td><td>159              </td><td>154              </td><td>200              </td><td>279              </td></tr>\n",
       "\t<tr><td> 9984            </td><td>KSV Cercle Brugge</td><td>CEB              </td><td>145              </td><td>200              </td><td>195              </td><td>213              </td></tr>\n",
       "\t<tr><td> 8635            </td><td>RSC Anderlecht   </td><td>AND              </td><td>149              </td><td>182              </td><td>190              </td><td>427              </td></tr>\n",
       "</tbody>\n",
       "</table>\n"
      ],
      "text/latex": [
       "\\begin{tabular}{r|lllllll}\n",
       " team\\_api\\_id & team\\_long\\_name & team\\_short\\_name & buildUp\\_rating & chance\\_rating & defence\\_rating & team\\_goals\\\\\n",
       "\\hline\n",
       "\t  9987             & KRC Genk          & GEN               & 148               & 182               & 205               & 348              \\\\\n",
       "\t  9993             & Beerschot AC      & BAC               & 110               & 185               & 210               & 174              \\\\\n",
       "\t 10000             & SV Zulte-Waregem  & ZUL               & 147               & 153               & 200               & 306              \\\\\n",
       "\t  9994             & Sporting Lokeren  & LOK               & 159               & 154               & 200               & 279              \\\\\n",
       "\t  9984             & KSV Cercle Brugge & CEB               & 145               & 200               & 195               & 213              \\\\\n",
       "\t  8635             & RSC Anderlecht    & AND               & 149               & 182               & 190               & 427              \\\\\n",
       "\\end{tabular}\n"
      ],
      "text/markdown": [
       "\n",
       "team_api_id | team_long_name | team_short_name | buildUp_rating | chance_rating | defence_rating | team_goals | \n",
       "|---|---|---|---|---|---|\n",
       "|  9987             | KRC Genk          | GEN               | 148               | 182               | 205               | 348               | \n",
       "|  9993             | Beerschot AC      | BAC               | 110               | 185               | 210               | 174               | \n",
       "| 10000             | SV Zulte-Waregem  | ZUL               | 147               | 153               | 200               | 306               | \n",
       "|  9994             | Sporting Lokeren  | LOK               | 159               | 154               | 200               | 279               | \n",
       "|  9984             | KSV Cercle Brugge | CEB               | 145               | 200               | 195               | 213               | \n",
       "|  8635             | RSC Anderlecht    | AND               | 149               | 182               | 190               | 427               | \n",
       "\n",
       "\n"
      ],
      "text/plain": [
       "  team_api_id team_long_name    team_short_name buildUp_rating chance_rating\n",
       "1  9987       KRC Genk          GEN             148            182          \n",
       "2  9993       Beerschot AC      BAC             110            185          \n",
       "3 10000       SV Zulte-Waregem  ZUL             147            153          \n",
       "4  9994       Sporting Lokeren  LOK             159            154          \n",
       "5  9984       KSV Cercle Brugge CEB             145            200          \n",
       "6  8635       RSC Anderlecht    AND             149            182          \n",
       "  defence_rating team_goals\n",
       "1 205            348       \n",
       "2 210            174       \n",
       "3 200            306       \n",
       "4 200            279       \n",
       "5 195            213       \n",
       "6 190            427       "
      ]
     },
     "metadata": {},
     "output_type": "display_data"
    }
   ],
   "source": [
    "Team <- Team_name %>% left_join(buildup1, by = \"team_api_id\")\n",
    "Team <- Team %>% left_join(chance, by = \"team_api_id\")\n",
    "Team <- Team %>% left_join(defence, by = \"team_api_id\")\n",
    "Team <- Team %>% left_join(team_goal, by = \"team_api_id\")\n",
    "head(Team)"
   ]
  },
  {
   "cell_type": "markdown",
   "metadata": {},
   "source": [
    "## Writing the final data frames into their respective csv files"
   ]
  },
  {
   "cell_type": "code",
   "execution_count": 54,
   "metadata": {
    "collapsed": true
   },
   "outputs": [],
   "source": [
    "write.csv(Player, \"/Users/Amardeep/Documents/Semester_2/Dic/lab_2/player.csv\")\n",
    "write.csv(Team, \"/Users/Amardeep/Documents/Semester_2/Dic/lab_2/team.csv\")"
   ]
  },
  {
   "cell_type": "markdown",
   "metadata": {},
   "source": [
    "Writes the final data frames into csv files, please change the url accordingly."
   ]
  }
 ],
 "metadata": {
  "kernelspec": {
   "display_name": "R",
   "language": "R",
   "name": "ir"
  },
  "language_info": {
   "codemirror_mode": "r",
   "file_extension": ".r",
   "mimetype": "text/x-r-source",
   "name": "R",
   "pygments_lexer": "r",
   "version": "3.3.2"
  }
 },
 "nbformat": 4,
 "nbformat_minor": 2
}
