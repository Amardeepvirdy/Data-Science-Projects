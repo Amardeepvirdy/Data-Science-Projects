{
 "cells": [
  {
   "cell_type": "code",
   "execution_count": 3,
   "metadata": {
    "collapsed": false
   },
   "outputs": [
    {
     "name": "stderr",
     "output_type": "stream",
     "text": [
      "Warning message:\n",
      "“package ‘RPostgres’ is not available (for R version 3.3.2)”"
     ]
    }
   ],
   "source": [
    "# install.packages('nycflights13',repos=\"http://cran.us.r-project.org/\")\n",
    "\n",
    "# install.packages('RPostgreSQL',repos=\"http://cran.us.r-project.org/\")\n",
    "\n",
    "install.packages('RPostgres',repos=\"http://cran.us.r-project.org/\")"
   ]
  },
  {
   "cell_type": "markdown",
   "metadata": {},
   "source": [
    "Cannot work through postgresql. Followed the same steps as given in https://piazza.com/class/iyg1btjjihw1a6?cid=129 still to no avail."
   ]
  },
  {
   "cell_type": "code",
   "execution_count": 4,
   "metadata": {
    "collapsed": false
   },
   "outputs": [
    {
     "name": "stderr",
     "output_type": "stream",
     "text": [
      "\n",
      "Attaching package: ‘dplyr’\n",
      "\n",
      "The following objects are masked from ‘package:stats’:\n",
      "\n",
      "    filter, lag\n",
      "\n",
      "The following objects are masked from ‘package:base’:\n",
      "\n",
      "    intersect, setdiff, setequal, union\n",
      "\n"
     ]
    }
   ],
   "source": [
    "library(nycflights13)\n",
    "library(dplyr)"
   ]
  },
  {
   "cell_type": "code",
   "execution_count": 5,
   "metadata": {
    "collapsed": false
   },
   "outputs": [
    {
     "name": "stderr",
     "output_type": "stream",
     "text": [
      "Caching nycflights db at /var/folders/6v/k9nv_ccx7qs58wqq65w2_5300000gn/T//RtmpCp06dg/nycflights13.sqlite\n",
      "Creating table: airlines\n",
      "Creating table: airports\n",
      "Creating table: flights\n",
      "Creating table: planes\n",
      "Creating table: weather\n"
     ]
    },
    {
     "data": {
      "text/plain": [
       "Source:   query [?? x 19]\n",
       "Database: sqlite 3.11.1 [/var/folders/6v/k9nv_ccx7qs58wqq65w2_5300000gn/T//RtmpCp06dg/nycflights13.sqlite]\n",
       "\n",
       "    year month   day dep_time sched_dep_time dep_delay arr_time sched_arr_time\n",
       "   <int> <int> <int>    <int>          <int>     <dbl>    <int>          <int>\n",
       "1   2013     1     1      517            515         2      830            819\n",
       "2   2013     1     1      533            529         4      850            830\n",
       "3   2013     1     1      542            540         2      923            850\n",
       "4   2013     1     1      544            545        -1     1004           1022\n",
       "5   2013     1     1      554            600        -6      812            837\n",
       "6   2013     1     1      554            558        -4      740            728\n",
       "7   2013     1     1      555            600        -5      913            854\n",
       "8   2013     1     1      557            600        -3      709            723\n",
       "9   2013     1     1      557            600        -3      838            846\n",
       "10  2013     1     1      558            600        -2      753            745\n",
       "# ... with more rows, and 11 more variables: arr_delay <dbl>, carrier <chr>,\n",
       "#   flight <int>, tailnum <chr>, origin <chr>, dest <chr>, air_time <dbl>,\n",
       "#   distance <dbl>, hour <dbl>, minute <dbl>, time_hour <dbl>"
      ]
     },
     "metadata": {},
     "output_type": "display_data"
    }
   ],
   "source": [
    "flights_db <- tbl(nycflights13_sqlite(), \"flights\")\n",
    "flights_db"
   ]
  },
  {
   "cell_type": "code",
   "execution_count": 6,
   "metadata": {
    "collapsed": false
   },
   "outputs": [
    {
     "data": {
      "text/plain": [
       "Source:   query [?? x 5]\n",
       "Database: sqlite 3.11.1 [/var/folders/6v/k9nv_ccx7qs58wqq65w2_5300000gn/T//RtmpCp06dg/nycflights13.sqlite]\n",
       "\n",
       "    year month   day dep_delay arr_delay\n",
       "   <int> <int> <int>     <dbl>     <dbl>\n",
       "1   2013     1     1         2        11\n",
       "2   2013     1     1         4        20\n",
       "3   2013     1     1         2        33\n",
       "4   2013     1     1        -1       -18\n",
       "5   2013     1     1        -6       -25\n",
       "6   2013     1     1        -4        12\n",
       "7   2013     1     1        -5        19\n",
       "8   2013     1     1        -3       -14\n",
       "9   2013     1     1        -3        -8\n",
       "10  2013     1     1        -2         8\n",
       "# ... with more rows"
      ]
     },
     "metadata": {},
     "output_type": "display_data"
    }
   ],
   "source": [
    "select(flights_db, year:day, dep_delay, arr_delay)"
   ]
  },
  {
   "cell_type": "code",
   "execution_count": 7,
   "metadata": {
    "collapsed": false
   },
   "outputs": [
    {
     "data": {
      "text/plain": [
       "Source:   query [?? x 19]\n",
       "Database: sqlite 3.11.1 [/var/folders/6v/k9nv_ccx7qs58wqq65w2_5300000gn/T//RtmpCp06dg/nycflights13.sqlite]\n",
       "\n",
       "    year month   day dep_time sched_dep_time dep_delay arr_time sched_arr_time\n",
       "   <int> <int> <int>    <int>          <int>     <dbl>    <int>          <int>\n",
       "1   2013     1     1      848           1835       853     1001           1950\n",
       "2   2013     1     1     1815           1325       290     2120           1542\n",
       "3   2013     1     1     2205           1720       285       46           2040\n",
       "4   2013     1     1     2343           1724       379      314           1938\n",
       "5   2013     1     2     1412            838       334     1710           1147\n",
       "6   2013     1     2     1607           1030       337     2003           1355\n",
       "7   2013     1     2     2131           1512       379     2340           1741\n",
       "8   2013     1     3     2056           1605       291     2239           1754\n",
       "9   2013     1     4     2123           1635       288     2332           1856\n",
       "10  2013     1     5     1344            817       327     1635           1127\n",
       "# ... with more rows, and 11 more variables: arr_delay <dbl>, carrier <chr>,\n",
       "#   flight <int>, tailnum <chr>, origin <chr>, dest <chr>, air_time <dbl>,\n",
       "#   distance <dbl>, hour <dbl>, minute <dbl>, time_hour <dbl>"
      ]
     },
     "metadata": {},
     "output_type": "display_data"
    }
   ],
   "source": [
    "filter(flights_db, dep_delay > 280)"
   ]
  },
  {
   "cell_type": "code",
   "execution_count": 8,
   "metadata": {
    "collapsed": false
   },
   "outputs": [
    {
     "data": {
      "text/plain": [
       "Source:   query [?? x 19]\n",
       "Database: sqlite 3.11.1 [/var/folders/6v/k9nv_ccx7qs58wqq65w2_5300000gn/T//RtmpCp06dg/nycflights13.sqlite]\n",
       "\n",
       "    year month   day dep_time sched_dep_time dep_delay arr_time sched_arr_time\n",
       "   <int> <int> <int>    <int>          <int>     <dbl>    <int>          <int>\n",
       "1   2013     1     1      517            515         2      830            819\n",
       "2   2013     1     1      533            529         4      850            830\n",
       "3   2013     1     1      542            540         2      923            850\n",
       "4   2013     1     1      544            545        -1     1004           1022\n",
       "5   2013     1     1      554            600        -6      812            837\n",
       "6   2013     1     1      554            558        -4      740            728\n",
       "7   2013     1     1      555            600        -5      913            854\n",
       "8   2013     1     1      557            600        -3      709            723\n",
       "9   2013     1     1      557            600        -3      838            846\n",
       "10  2013     1     1      558            600        -2      753            745\n",
       "# ... with more rows, and 11 more variables: arr_delay <dbl>, carrier <chr>,\n",
       "#   flight <int>, tailnum <chr>, origin <chr>, dest <chr>, air_time <dbl>,\n",
       "#   distance <dbl>, hour <dbl>, minute <dbl>, time_hour <dbl>"
      ]
     },
     "metadata": {},
     "output_type": "display_data"
    }
   ],
   "source": [
    "arrange(flights_db, year, month, day)"
   ]
  },
  {
   "cell_type": "code",
   "execution_count": 9,
   "metadata": {
    "collapsed": false
   },
   "outputs": [
    {
     "data": {
      "text/plain": [
       "Source:   query [?? x 19]\n",
       "Database: sqlite 3.11.1 [/var/folders/6v/k9nv_ccx7qs58wqq65w2_5300000gn/T//RtmpCp06dg/nycflights13.sqlite]\n",
       "\n",
       "    year month   day dep_time sched_dep_time dep_delay arr_time sched_arr_time\n",
       "   <int> <int> <int>    <int>          <int>     <dbl>    <int>          <int>\n",
       "1   2013     1     1      517            515         2      830            819\n",
       "2   2013     1     1      533            529         4      850            830\n",
       "3   2013     1     1      542            540         2      923            850\n",
       "4   2013     1     1      544            545        -1     1004           1022\n",
       "5   2013     1     1      554            600        -6      812            837\n",
       "6   2013     1     1      554            558        -4      740            728\n",
       "7   2013     1     1      555            600        -5      913            854\n",
       "8   2013     1     1      557            600        -3      709            723\n",
       "9   2013     1     1      557            600        -3      838            846\n",
       "10  2013     1     1      558            600        -2      753            745\n",
       "# ... with more rows, and 11 more variables: carrier <chr>, flight <int>,\n",
       "#   tailnum <chr>, origin <chr>, dest <chr>, air_time <dbl>, distance <dbl>,\n",
       "#   hour <dbl>, minute <dbl>, time_hour <dbl>, arr_delay <int>"
      ]
     },
     "metadata": {},
     "output_type": "display_data"
    }
   ],
   "source": [
    "mutate(flights_db, arr_delay = arr_time - sched_arr_time)"
   ]
  },
  {
   "cell_type": "code",
   "execution_count": 10,
   "metadata": {
    "collapsed": false
   },
   "outputs": [
    {
     "data": {
      "text/plain": [
       "Source:   query [?? x 1]\n",
       "Database: sqlite 3.11.1 [/var/folders/6v/k9nv_ccx7qs58wqq65w2_5300000gn/T//RtmpCp06dg/nycflights13.sqlite]\n",
       "\n",
       "     delay\n",
       "     <dbl>\n",
       "1 12.63907"
      ]
     },
     "metadata": {},
     "output_type": "display_data"
    }
   ],
   "source": [
    "summarise(flights_db, delay = mean(dep_delay))"
   ]
  },
  {
   "cell_type": "code",
   "execution_count": 14,
   "metadata": {
    "collapsed": false
   },
   "outputs": [],
   "source": [
    "a1 <- filter(flights_db, year == 2013, month == 4, day == 6)\n",
    "a2 <- select(a1, year, month, day, carrier, dep_delay, air_time, distance)\n",
    "a3 <- mutate(a2, speed = distance / air_time * 60)\n",
    "a4 <- arrange(a3, year, month, day, carrier)"
   ]
  },
  {
   "cell_type": "code",
   "execution_count": 15,
   "metadata": {
    "collapsed": false
   },
   "outputs": [
    {
     "data": {
      "text/plain": [
       "Source:   query [?? x 8]\n",
       "Database: sqlite 3.11.1 [/var/folders/6v/k9nv_ccx7qs58wqq65w2_5300000gn/T//RtmpCp06dg/nycflights13.sqlite]\n",
       "\n",
       "    year month   day carrier dep_delay air_time distance    speed\n",
       "   <int> <int> <int>   <chr>     <dbl>    <dbl>    <dbl>    <dbl>\n",
       "1   2013     4     6      9E        -7       92      509 331.9565\n",
       "2   2013     4     6      9E       -12       68      340 300.0000\n",
       "3   2013     4     6      9E        -4       95      636 401.6842\n",
       "4   2013     4     6      9E        -6      122      740 363.9344\n",
       "5   2013     4     6      9E        26      162     1029 381.1111\n",
       "6   2013     4     6      9E        -4       69      427 371.3043\n",
       "7   2013     4     6      9E        -6       88      488 332.7273\n",
       "8   2013     4     6      9E         9       35      187 320.5714\n",
       "9   2013     4     6      9E        -5       49      264 323.2653\n",
       "10  2013     4     6      9E        -6       27       94 208.8889\n",
       "# ... with more rows"
      ]
     },
     "metadata": {},
     "output_type": "display_data"
    },
    {
     "data": {
      "text/html": [
       "<table>\n",
       "<thead><tr><th scope=col>year</th><th scope=col>month</th><th scope=col>day</th><th scope=col>carrier</th><th scope=col>dep_delay</th><th scope=col>air_time</th><th scope=col>distance</th><th scope=col>speed</th></tr></thead>\n",
       "<tbody>\n",
       "\t<tr><td>2013    </td><td>4       </td><td>6       </td><td>9E      </td><td> -7     </td><td> 92     </td><td> 509    </td><td>331.9565</td></tr>\n",
       "\t<tr><td>2013    </td><td>4       </td><td>6       </td><td>9E      </td><td>-12     </td><td> 68     </td><td> 340    </td><td>300.0000</td></tr>\n",
       "\t<tr><td>2013    </td><td>4       </td><td>6       </td><td>9E      </td><td> -4     </td><td> 95     </td><td> 636    </td><td>401.6842</td></tr>\n",
       "\t<tr><td>2013    </td><td>4       </td><td>6       </td><td>9E      </td><td> -6     </td><td>122     </td><td> 740    </td><td>363.9344</td></tr>\n",
       "\t<tr><td>2013    </td><td>4       </td><td>6       </td><td>9E      </td><td> 26     </td><td>162     </td><td>1029    </td><td>381.1111</td></tr>\n",
       "\t<tr><td>2013    </td><td>4       </td><td>6       </td><td>9E      </td><td> -4     </td><td> 69     </td><td> 427    </td><td>371.3043</td></tr>\n",
       "\t<tr><td>2013    </td><td>4       </td><td>6       </td><td>9E      </td><td> -6     </td><td> 88     </td><td> 488    </td><td>332.7273</td></tr>\n",
       "\t<tr><td>2013    </td><td>4       </td><td>6       </td><td>9E      </td><td>  9     </td><td> 35     </td><td> 187    </td><td>320.5714</td></tr>\n",
       "\t<tr><td>2013    </td><td>4       </td><td>6       </td><td>9E      </td><td> -5     </td><td> 49     </td><td> 264    </td><td>323.2653</td></tr>\n",
       "\t<tr><td>2013    </td><td>4       </td><td>6       </td><td>9E      </td><td> -6     </td><td> 27     </td><td>  94    </td><td>208.8889</td></tr>\n",
       "\t<tr><td>2013    </td><td>4       </td><td>6       </td><td>9E      </td><td> -3     </td><td> 34     </td><td> 187    </td><td>330.0000</td></tr>\n",
       "\t<tr><td>2013    </td><td>4       </td><td>6       </td><td>9E      </td><td>-10     </td><td> 91     </td><td> 585    </td><td>385.7143</td></tr>\n",
       "\t<tr><td>2013    </td><td>4       </td><td>6       </td><td>9E      </td><td>317     </td><td> 38     </td><td> 184    </td><td>290.5263</td></tr>\n",
       "\t<tr><td>2013    </td><td>4       </td><td>6       </td><td>9E      </td><td>-12     </td><td>148     </td><td>1008    </td><td>408.6486</td></tr>\n",
       "\t<tr><td>2013    </td><td>4       </td><td>6       </td><td>9E      </td><td> -4     </td><td> 36     </td><td> 187    </td><td>311.6667</td></tr>\n",
       "\t<tr><td>2013    </td><td>4       </td><td>6       </td><td>9E      </td><td> -4     </td><td> 52     </td><td> 290    </td><td>334.6154</td></tr>\n",
       "\t<tr><td>2013    </td><td>4       </td><td>6       </td><td>9E      </td><td> -7     </td><td> 39     </td><td> 213    </td><td>327.6923</td></tr>\n",
       "\t<tr><td>2013    </td><td>4       </td><td>6       </td><td>9E      </td><td> -4     </td><td> 45     </td><td> 228    </td><td>304.0000</td></tr>\n",
       "\t<tr><td>2013    </td><td>4       </td><td>6       </td><td>9E      </td><td>-18     </td><td> 51     </td><td> 264    </td><td>310.5882</td></tr>\n",
       "\t<tr><td>2013    </td><td>4       </td><td>6       </td><td>9E      </td><td> 32     </td><td> 55     </td><td> 301    </td><td>328.3636</td></tr>\n",
       "\t<tr><td>2013    </td><td>4       </td><td>6       </td><td>9E      </td><td> -3     </td><td>103     </td><td> 665    </td><td>387.3786</td></tr>\n",
       "\t<tr><td>2013    </td><td>4       </td><td>6       </td><td>9E      </td><td> -7     </td><td>122     </td><td> 740    </td><td>363.9344</td></tr>\n",
       "\t<tr><td>2013    </td><td>4       </td><td>6       </td><td>9E      </td><td> -2     </td><td> 66     </td><td> 340    </td><td>309.0909</td></tr>\n",
       "\t<tr><td>2013    </td><td>4       </td><td>6       </td><td>9E      </td><td> 18     </td><td>196     </td><td>1391    </td><td>425.8163</td></tr>\n",
       "\t<tr><td>2013    </td><td>4       </td><td>6       </td><td>9E      </td><td>  0     </td><td> 74     </td><td> 427    </td><td>346.2162</td></tr>\n",
       "\t<tr><td>2013    </td><td>4       </td><td>6       </td><td>9E      </td><td>  3     </td><td>121     </td><td> 745    </td><td>369.4215</td></tr>\n",
       "\t<tr><td>2013    </td><td>4       </td><td>6       </td><td>9E      </td><td> 21     </td><td> 28     </td><td>  94    </td><td>201.4286</td></tr>\n",
       "\t<tr><td>2013    </td><td>4       </td><td>6       </td><td>9E      </td><td> 32     </td><td> 36     </td><td> 187    </td><td>311.6667</td></tr>\n",
       "\t<tr><td>2013    </td><td>4       </td><td>6       </td><td>9E      </td><td> 43     </td><td>108     </td><td> 765    </td><td>425.0000</td></tr>\n",
       "\t<tr><td>2013    </td><td>4       </td><td>6       </td><td>9E      </td><td> 52     </td><td>155     </td><td>1029    </td><td>398.3226</td></tr>\n",
       "\t<tr><td>⋮</td><td>⋮</td><td>⋮</td><td>⋮</td><td>⋮</td><td>⋮</td><td>⋮</td><td>⋮</td></tr>\n",
       "\t<tr><td>2013    </td><td>4       </td><td>6       </td><td>VX      </td><td> 5      </td><td>335     </td><td>2475    </td><td>443.2836</td></tr>\n",
       "\t<tr><td>2013    </td><td>4       </td><td>6       </td><td>WN      </td><td>-3      </td><td>110     </td><td> 711    </td><td>387.8182</td></tr>\n",
       "\t<tr><td>2013    </td><td>4       </td><td>6       </td><td>WN      </td><td>-1      </td><td>132     </td><td> 888    </td><td>403.6364</td></tr>\n",
       "\t<tr><td>2013    </td><td>4       </td><td>6       </td><td>WN      </td><td>-2      </td><td>202     </td><td>1411    </td><td>419.1089</td></tr>\n",
       "\t<tr><td>2013    </td><td>4       </td><td>6       </td><td>WN      </td><td>-2      </td><td>238     </td><td>1620    </td><td>408.4034</td></tr>\n",
       "\t<tr><td>2013    </td><td>4       </td><td>6       </td><td>WN      </td><td> 0      </td><td>110     </td><td> 725    </td><td>395.4545</td></tr>\n",
       "\t<tr><td>2013    </td><td>4       </td><td>6       </td><td>WN      </td><td> 0      </td><td>132     </td><td> 872    </td><td>396.3636</td></tr>\n",
       "\t<tr><td>2013    </td><td>4       </td><td>6       </td><td>WN      </td><td> 8      </td><td>115     </td><td> 748    </td><td>390.2609</td></tr>\n",
       "\t<tr><td>2013    </td><td>4       </td><td>6       </td><td>WN      </td><td>-5      </td><td>112     </td><td> 764    </td><td>409.2857</td></tr>\n",
       "\t<tr><td>2013    </td><td>4       </td><td>6       </td><td>WN      </td><td>-1      </td><td>231     </td><td>1605    </td><td>416.8831</td></tr>\n",
       "\t<tr><td>2013    </td><td>4       </td><td>6       </td><td>WN      </td><td>-3      </td><td>163     </td><td>1167    </td><td>429.5706</td></tr>\n",
       "\t<tr><td>2013    </td><td>4       </td><td>6       </td><td>WN      </td><td>-1      </td><td>115     </td><td> 738    </td><td>385.0435</td></tr>\n",
       "\t<tr><td>2013    </td><td>4       </td><td>6       </td><td>WN      </td><td>-4      </td><td>114     </td><td> 725    </td><td>381.5789</td></tr>\n",
       "\t<tr><td>2013    </td><td>4       </td><td>6       </td><td>WN      </td><td>-3      </td><td>116     </td><td> 711    </td><td>367.7586</td></tr>\n",
       "\t<tr><td>2013    </td><td>4       </td><td>6       </td><td>WN      </td><td>-2      </td><td>217     </td><td>1504    </td><td>415.8525</td></tr>\n",
       "\t<tr><td>2013    </td><td>4       </td><td>6       </td><td>WN      </td><td>-5      </td><td>113     </td><td> 748    </td><td>397.1681</td></tr>\n",
       "\t<tr><td>2013    </td><td>4       </td><td>6       </td><td>WN      </td><td>-3      </td><td>114     </td><td> 738    </td><td>388.4211</td></tr>\n",
       "\t<tr><td>2013    </td><td>4       </td><td>6       </td><td>WN      </td><td>-2      </td><td>301     </td><td>2133    </td><td>425.1827</td></tr>\n",
       "\t<tr><td>2013    </td><td>4       </td><td>6       </td><td>WN      </td><td>-1      </td><td>112     </td><td> 764    </td><td>409.2857</td></tr>\n",
       "\t<tr><td>2013    </td><td>4       </td><td>6       </td><td>WN      </td><td> 4      </td><td>110     </td><td> 725    </td><td>395.4545</td></tr>\n",
       "\t<tr><td>2013    </td><td>4       </td><td>6       </td><td>WN      </td><td>-3      </td><td>135     </td><td> 888    </td><td>394.6667</td></tr>\n",
       "\t<tr><td>2013    </td><td>4       </td><td>6       </td><td>WN      </td><td>-3      </td><td>110     </td><td> 711    </td><td>387.8182</td></tr>\n",
       "\t<tr><td>2013    </td><td>4       </td><td>6       </td><td>WN      </td><td>18      </td><td>226     </td><td>1605    </td><td>426.1062</td></tr>\n",
       "\t<tr><td>2013    </td><td>4       </td><td>6       </td><td>WN      </td><td>-2      </td><td>133     </td><td> 872    </td><td>393.3835</td></tr>\n",
       "\t<tr><td>2013    </td><td>4       </td><td>6       </td><td>WN      </td><td>-5      </td><td>112     </td><td> 725    </td><td>388.3929</td></tr>\n",
       "\t<tr><td>2013    </td><td>4       </td><td>6       </td><td>WN      </td><td>-6      </td><td>107     </td><td> 711    </td><td>398.6916</td></tr>\n",
       "\t<tr><td>2013    </td><td>4       </td><td>6       </td><td>WN      </td><td>-2      </td><td>230     </td><td>1620    </td><td>422.6087</td></tr>\n",
       "\t<tr><td>2013    </td><td>4       </td><td>6       </td><td>WN      </td><td>-5      </td><td>112     </td><td> 725    </td><td>388.3929</td></tr>\n",
       "\t<tr><td>2013    </td><td>4       </td><td>6       </td><td>WN      </td><td>-6      </td><td>111     </td><td> 711    </td><td>384.3243</td></tr>\n",
       "\t<tr><td>2013    </td><td>4       </td><td>6       </td><td>YV      </td><td>-9      </td><td> 82     </td><td> 544    </td><td>398.0488</td></tr>\n",
       "</tbody>\n",
       "</table>\n"
      ],
      "text/latex": [
       "\\begin{tabular}{r|llllllll}\n",
       " year & month & day & carrier & dep\\_delay & air\\_time & distance & speed\\\\\n",
       "\\hline\n",
       "\t 2013     & 4        & 6        & 9E       &  -7      &  92      &  509     & 331.9565\\\\\n",
       "\t 2013     & 4        & 6        & 9E       & -12      &  68      &  340     & 300.0000\\\\\n",
       "\t 2013     & 4        & 6        & 9E       &  -4      &  95      &  636     & 401.6842\\\\\n",
       "\t 2013     & 4        & 6        & 9E       &  -6      & 122      &  740     & 363.9344\\\\\n",
       "\t 2013     & 4        & 6        & 9E       &  26      & 162      & 1029     & 381.1111\\\\\n",
       "\t 2013     & 4        & 6        & 9E       &  -4      &  69      &  427     & 371.3043\\\\\n",
       "\t 2013     & 4        & 6        & 9E       &  -6      &  88      &  488     & 332.7273\\\\\n",
       "\t 2013     & 4        & 6        & 9E       &   9      &  35      &  187     & 320.5714\\\\\n",
       "\t 2013     & 4        & 6        & 9E       &  -5      &  49      &  264     & 323.2653\\\\\n",
       "\t 2013     & 4        & 6        & 9E       &  -6      &  27      &   94     & 208.8889\\\\\n",
       "\t 2013     & 4        & 6        & 9E       &  -3      &  34      &  187     & 330.0000\\\\\n",
       "\t 2013     & 4        & 6        & 9E       & -10      &  91      &  585     & 385.7143\\\\\n",
       "\t 2013     & 4        & 6        & 9E       & 317      &  38      &  184     & 290.5263\\\\\n",
       "\t 2013     & 4        & 6        & 9E       & -12      & 148      & 1008     & 408.6486\\\\\n",
       "\t 2013     & 4        & 6        & 9E       &  -4      &  36      &  187     & 311.6667\\\\\n",
       "\t 2013     & 4        & 6        & 9E       &  -4      &  52      &  290     & 334.6154\\\\\n",
       "\t 2013     & 4        & 6        & 9E       &  -7      &  39      &  213     & 327.6923\\\\\n",
       "\t 2013     & 4        & 6        & 9E       &  -4      &  45      &  228     & 304.0000\\\\\n",
       "\t 2013     & 4        & 6        & 9E       & -18      &  51      &  264     & 310.5882\\\\\n",
       "\t 2013     & 4        & 6        & 9E       &  32      &  55      &  301     & 328.3636\\\\\n",
       "\t 2013     & 4        & 6        & 9E       &  -3      & 103      &  665     & 387.3786\\\\\n",
       "\t 2013     & 4        & 6        & 9E       &  -7      & 122      &  740     & 363.9344\\\\\n",
       "\t 2013     & 4        & 6        & 9E       &  -2      &  66      &  340     & 309.0909\\\\\n",
       "\t 2013     & 4        & 6        & 9E       &  18      & 196      & 1391     & 425.8163\\\\\n",
       "\t 2013     & 4        & 6        & 9E       &   0      &  74      &  427     & 346.2162\\\\\n",
       "\t 2013     & 4        & 6        & 9E       &   3      & 121      &  745     & 369.4215\\\\\n",
       "\t 2013     & 4        & 6        & 9E       &  21      &  28      &   94     & 201.4286\\\\\n",
       "\t 2013     & 4        & 6        & 9E       &  32      &  36      &  187     & 311.6667\\\\\n",
       "\t 2013     & 4        & 6        & 9E       &  43      & 108      &  765     & 425.0000\\\\\n",
       "\t 2013     & 4        & 6        & 9E       &  52      & 155      & 1029     & 398.3226\\\\\n",
       "\t ⋮ & ⋮ & ⋮ & ⋮ & ⋮ & ⋮ & ⋮ & ⋮\\\\\n",
       "\t 2013     & 4        & 6        & VX       &  5       & 335      & 2475     & 443.2836\\\\\n",
       "\t 2013     & 4        & 6        & WN       & -3       & 110      &  711     & 387.8182\\\\\n",
       "\t 2013     & 4        & 6        & WN       & -1       & 132      &  888     & 403.6364\\\\\n",
       "\t 2013     & 4        & 6        & WN       & -2       & 202      & 1411     & 419.1089\\\\\n",
       "\t 2013     & 4        & 6        & WN       & -2       & 238      & 1620     & 408.4034\\\\\n",
       "\t 2013     & 4        & 6        & WN       &  0       & 110      &  725     & 395.4545\\\\\n",
       "\t 2013     & 4        & 6        & WN       &  0       & 132      &  872     & 396.3636\\\\\n",
       "\t 2013     & 4        & 6        & WN       &  8       & 115      &  748     & 390.2609\\\\\n",
       "\t 2013     & 4        & 6        & WN       & -5       & 112      &  764     & 409.2857\\\\\n",
       "\t 2013     & 4        & 6        & WN       & -1       & 231      & 1605     & 416.8831\\\\\n",
       "\t 2013     & 4        & 6        & WN       & -3       & 163      & 1167     & 429.5706\\\\\n",
       "\t 2013     & 4        & 6        & WN       & -1       & 115      &  738     & 385.0435\\\\\n",
       "\t 2013     & 4        & 6        & WN       & -4       & 114      &  725     & 381.5789\\\\\n",
       "\t 2013     & 4        & 6        & WN       & -3       & 116      &  711     & 367.7586\\\\\n",
       "\t 2013     & 4        & 6        & WN       & -2       & 217      & 1504     & 415.8525\\\\\n",
       "\t 2013     & 4        & 6        & WN       & -5       & 113      &  748     & 397.1681\\\\\n",
       "\t 2013     & 4        & 6        & WN       & -3       & 114      &  738     & 388.4211\\\\\n",
       "\t 2013     & 4        & 6        & WN       & -2       & 301      & 2133     & 425.1827\\\\\n",
       "\t 2013     & 4        & 6        & WN       & -1       & 112      &  764     & 409.2857\\\\\n",
       "\t 2013     & 4        & 6        & WN       &  4       & 110      &  725     & 395.4545\\\\\n",
       "\t 2013     & 4        & 6        & WN       & -3       & 135      &  888     & 394.6667\\\\\n",
       "\t 2013     & 4        & 6        & WN       & -3       & 110      &  711     & 387.8182\\\\\n",
       "\t 2013     & 4        & 6        & WN       & 18       & 226      & 1605     & 426.1062\\\\\n",
       "\t 2013     & 4        & 6        & WN       & -2       & 133      &  872     & 393.3835\\\\\n",
       "\t 2013     & 4        & 6        & WN       & -5       & 112      &  725     & 388.3929\\\\\n",
       "\t 2013     & 4        & 6        & WN       & -6       & 107      &  711     & 398.6916\\\\\n",
       "\t 2013     & 4        & 6        & WN       & -2       & 230      & 1620     & 422.6087\\\\\n",
       "\t 2013     & 4        & 6        & WN       & -5       & 112      &  725     & 388.3929\\\\\n",
       "\t 2013     & 4        & 6        & WN       & -6       & 111      &  711     & 384.3243\\\\\n",
       "\t 2013     & 4        & 6        & YV       & -9       &  82      &  544     & 398.0488\\\\\n",
       "\\end{tabular}\n"
      ],
      "text/markdown": [
       "\n",
       "year | month | day | carrier | dep_delay | air_time | distance | speed | \n",
       "|---|---|---|---|---|---|---|---|---|---|---|---|---|---|---|---|---|---|---|---|---|---|---|---|---|---|---|---|---|---|---|---|---|---|---|---|---|---|---|---|---|---|---|---|---|---|---|---|---|---|---|---|---|---|---|---|---|---|---|---|---|\n",
       "| 2013     | 4        | 6        | 9E       |  -7      |  92      |  509     | 331.9565 | \n",
       "| 2013     | 4        | 6        | 9E       | -12      |  68      |  340     | 300.0000 | \n",
       "| 2013     | 4        | 6        | 9E       |  -4      |  95      |  636     | 401.6842 | \n",
       "| 2013     | 4        | 6        | 9E       |  -6      | 122      |  740     | 363.9344 | \n",
       "| 2013     | 4        | 6        | 9E       |  26      | 162      | 1029     | 381.1111 | \n",
       "| 2013     | 4        | 6        | 9E       |  -4      |  69      |  427     | 371.3043 | \n",
       "| 2013     | 4        | 6        | 9E       |  -6      |  88      |  488     | 332.7273 | \n",
       "| 2013     | 4        | 6        | 9E       |   9      |  35      |  187     | 320.5714 | \n",
       "| 2013     | 4        | 6        | 9E       |  -5      |  49      |  264     | 323.2653 | \n",
       "| 2013     | 4        | 6        | 9E       |  -6      |  27      |   94     | 208.8889 | \n",
       "| 2013     | 4        | 6        | 9E       |  -3      |  34      |  187     | 330.0000 | \n",
       "| 2013     | 4        | 6        | 9E       | -10      |  91      |  585     | 385.7143 | \n",
       "| 2013     | 4        | 6        | 9E       | 317      |  38      |  184     | 290.5263 | \n",
       "| 2013     | 4        | 6        | 9E       | -12      | 148      | 1008     | 408.6486 | \n",
       "| 2013     | 4        | 6        | 9E       |  -4      |  36      |  187     | 311.6667 | \n",
       "| 2013     | 4        | 6        | 9E       |  -4      |  52      |  290     | 334.6154 | \n",
       "| 2013     | 4        | 6        | 9E       |  -7      |  39      |  213     | 327.6923 | \n",
       "| 2013     | 4        | 6        | 9E       |  -4      |  45      |  228     | 304.0000 | \n",
       "| 2013     | 4        | 6        | 9E       | -18      |  51      |  264     | 310.5882 | \n",
       "| 2013     | 4        | 6        | 9E       |  32      |  55      |  301     | 328.3636 | \n",
       "| 2013     | 4        | 6        | 9E       |  -3      | 103      |  665     | 387.3786 | \n",
       "| 2013     | 4        | 6        | 9E       |  -7      | 122      |  740     | 363.9344 | \n",
       "| 2013     | 4        | 6        | 9E       |  -2      |  66      |  340     | 309.0909 | \n",
       "| 2013     | 4        | 6        | 9E       |  18      | 196      | 1391     | 425.8163 | \n",
       "| 2013     | 4        | 6        | 9E       |   0      |  74      |  427     | 346.2162 | \n",
       "| 2013     | 4        | 6        | 9E       |   3      | 121      |  745     | 369.4215 | \n",
       "| 2013     | 4        | 6        | 9E       |  21      |  28      |   94     | 201.4286 | \n",
       "| 2013     | 4        | 6        | 9E       |  32      |  36      |  187     | 311.6667 | \n",
       "| 2013     | 4        | 6        | 9E       |  43      | 108      |  765     | 425.0000 | \n",
       "| 2013     | 4        | 6        | 9E       |  52      | 155      | 1029     | 398.3226 | \n",
       "| ⋮ | ⋮ | ⋮ | ⋮ | ⋮ | ⋮ | ⋮ | ⋮ | \n",
       "| 2013     | 4        | 6        | VX       |  5       | 335      | 2475     | 443.2836 | \n",
       "| 2013     | 4        | 6        | WN       | -3       | 110      |  711     | 387.8182 | \n",
       "| 2013     | 4        | 6        | WN       | -1       | 132      |  888     | 403.6364 | \n",
       "| 2013     | 4        | 6        | WN       | -2       | 202      | 1411     | 419.1089 | \n",
       "| 2013     | 4        | 6        | WN       | -2       | 238      | 1620     | 408.4034 | \n",
       "| 2013     | 4        | 6        | WN       |  0       | 110      |  725     | 395.4545 | \n",
       "| 2013     | 4        | 6        | WN       |  0       | 132      |  872     | 396.3636 | \n",
       "| 2013     | 4        | 6        | WN       |  8       | 115      |  748     | 390.2609 | \n",
       "| 2013     | 4        | 6        | WN       | -5       | 112      |  764     | 409.2857 | \n",
       "| 2013     | 4        | 6        | WN       | -1       | 231      | 1605     | 416.8831 | \n",
       "| 2013     | 4        | 6        | WN       | -3       | 163      | 1167     | 429.5706 | \n",
       "| 2013     | 4        | 6        | WN       | -1       | 115      |  738     | 385.0435 | \n",
       "| 2013     | 4        | 6        | WN       | -4       | 114      |  725     | 381.5789 | \n",
       "| 2013     | 4        | 6        | WN       | -3       | 116      |  711     | 367.7586 | \n",
       "| 2013     | 4        | 6        | WN       | -2       | 217      | 1504     | 415.8525 | \n",
       "| 2013     | 4        | 6        | WN       | -5       | 113      |  748     | 397.1681 | \n",
       "| 2013     | 4        | 6        | WN       | -3       | 114      |  738     | 388.4211 | \n",
       "| 2013     | 4        | 6        | WN       | -2       | 301      | 2133     | 425.1827 | \n",
       "| 2013     | 4        | 6        | WN       | -1       | 112      |  764     | 409.2857 | \n",
       "| 2013     | 4        | 6        | WN       |  4       | 110      |  725     | 395.4545 | \n",
       "| 2013     | 4        | 6        | WN       | -3       | 135      |  888     | 394.6667 | \n",
       "| 2013     | 4        | 6        | WN       | -3       | 110      |  711     | 387.8182 | \n",
       "| 2013     | 4        | 6        | WN       | 18       | 226      | 1605     | 426.1062 | \n",
       "| 2013     | 4        | 6        | WN       | -2       | 133      |  872     | 393.3835 | \n",
       "| 2013     | 4        | 6        | WN       | -5       | 112      |  725     | 388.3929 | \n",
       "| 2013     | 4        | 6        | WN       | -6       | 107      |  711     | 398.6916 | \n",
       "| 2013     | 4        | 6        | WN       | -2       | 230      | 1620     | 422.6087 | \n",
       "| 2013     | 4        | 6        | WN       | -5       | 112      |  725     | 388.3929 | \n",
       "| 2013     | 4        | 6        | WN       | -6       | 111      |  711     | 384.3243 | \n",
       "| 2013     | 4        | 6        | YV       | -9       |  82      |  544     | 398.0488 | \n",
       "\n",
       "\n"
      ],
      "text/plain": [
       "    year month day carrier dep_delay air_time distance speed   \n",
       "1   2013 4     6   9E       -7        92       509     331.9565\n",
       "2   2013 4     6   9E      -12        68       340     300.0000\n",
       "3   2013 4     6   9E       -4        95       636     401.6842\n",
       "4   2013 4     6   9E       -6       122       740     363.9344\n",
       "5   2013 4     6   9E       26       162      1029     381.1111\n",
       "6   2013 4     6   9E       -4        69       427     371.3043\n",
       "7   2013 4     6   9E       -6        88       488     332.7273\n",
       "8   2013 4     6   9E        9        35       187     320.5714\n",
       "9   2013 4     6   9E       -5        49       264     323.2653\n",
       "10  2013 4     6   9E       -6        27        94     208.8889\n",
       "11  2013 4     6   9E       -3        34       187     330.0000\n",
       "12  2013 4     6   9E      -10        91       585     385.7143\n",
       "13  2013 4     6   9E      317        38       184     290.5263\n",
       "14  2013 4     6   9E      -12       148      1008     408.6486\n",
       "15  2013 4     6   9E       -4        36       187     311.6667\n",
       "16  2013 4     6   9E       -4        52       290     334.6154\n",
       "17  2013 4     6   9E       -7        39       213     327.6923\n",
       "18  2013 4     6   9E       -4        45       228     304.0000\n",
       "19  2013 4     6   9E      -18        51       264     310.5882\n",
       "20  2013 4     6   9E       32        55       301     328.3636\n",
       "21  2013 4     6   9E       -3       103       665     387.3786\n",
       "22  2013 4     6   9E       -7       122       740     363.9344\n",
       "23  2013 4     6   9E       -2        66       340     309.0909\n",
       "24  2013 4     6   9E       18       196      1391     425.8163\n",
       "25  2013 4     6   9E        0        74       427     346.2162\n",
       "26  2013 4     6   9E        3       121       745     369.4215\n",
       "27  2013 4     6   9E       21        28        94     201.4286\n",
       "28  2013 4     6   9E       32        36       187     311.6667\n",
       "29  2013 4     6   9E       43       108       765     425.0000\n",
       "30  2013 4     6   9E       52       155      1029     398.3226\n",
       "⋮   ⋮    ⋮     ⋮   ⋮       ⋮         ⋮        ⋮        ⋮       \n",
       "741 2013 4     6   VX       5        335      2475     443.2836\n",
       "742 2013 4     6   WN      -3        110       711     387.8182\n",
       "743 2013 4     6   WN      -1        132       888     403.6364\n",
       "744 2013 4     6   WN      -2        202      1411     419.1089\n",
       "745 2013 4     6   WN      -2        238      1620     408.4034\n",
       "746 2013 4     6   WN       0        110       725     395.4545\n",
       "747 2013 4     6   WN       0        132       872     396.3636\n",
       "748 2013 4     6   WN       8        115       748     390.2609\n",
       "749 2013 4     6   WN      -5        112       764     409.2857\n",
       "750 2013 4     6   WN      -1        231      1605     416.8831\n",
       "751 2013 4     6   WN      -3        163      1167     429.5706\n",
       "752 2013 4     6   WN      -1        115       738     385.0435\n",
       "753 2013 4     6   WN      -4        114       725     381.5789\n",
       "754 2013 4     6   WN      -3        116       711     367.7586\n",
       "755 2013 4     6   WN      -2        217      1504     415.8525\n",
       "756 2013 4     6   WN      -5        113       748     397.1681\n",
       "757 2013 4     6   WN      -3        114       738     388.4211\n",
       "758 2013 4     6   WN      -2        301      2133     425.1827\n",
       "759 2013 4     6   WN      -1        112       764     409.2857\n",
       "760 2013 4     6   WN       4        110       725     395.4545\n",
       "761 2013 4     6   WN      -3        135       888     394.6667\n",
       "762 2013 4     6   WN      -3        110       711     387.8182\n",
       "763 2013 4     6   WN      18        226      1605     426.1062\n",
       "764 2013 4     6   WN      -2        133       872     393.3835\n",
       "765 2013 4     6   WN      -5        112       725     388.3929\n",
       "766 2013 4     6   WN      -6        107       711     398.6916\n",
       "767 2013 4     6   WN      -2        230      1620     422.6087\n",
       "768 2013 4     6   WN      -5        112       725     388.3929\n",
       "769 2013 4     6   WN      -6        111       711     384.3243\n",
       "770 2013 4     6   YV      -9         82       544     398.0488"
      ]
     },
     "metadata": {},
     "output_type": "display_data"
    }
   ],
   "source": [
    "a4\n",
    "collect(a4)"
   ]
  },
  {
   "cell_type": "code",
   "execution_count": 16,
   "metadata": {
    "collapsed": false
   },
   "outputs": [
    {
     "data": {
      "text/plain": [
       "NULL"
      ]
     },
     "metadata": {},
     "output_type": "display_data"
    },
    {
     "name": "stderr",
     "output_type": "stream",
     "text": [
      "<SQL>\n",
      "SELECT *\n",
      "FROM (SELECT `year`, `month`, `day`, `carrier`, `dep_delay`, `air_time`, `distance`, `distance` / `air_time` * 60.0 AS `speed`\n",
      "FROM (SELECT `year` AS `year`, `month` AS `month`, `day` AS `day`, `carrier` AS `carrier`, `dep_delay` AS `dep_delay`, `air_time` AS `air_time`, `distance` AS `distance`\n",
      "FROM (SELECT *\n",
      "FROM `flights`\n",
      "WHERE ((`year` = 2013.0) AND (`month` = 4.0) AND (`day` = 6.0)))))\n",
      "ORDER BY `year`, `month`, `day`, `carrier`\n",
      "\n",
      "\n",
      "<PLAN>\n",
      "   addr       opcode p1    p2 p3           p4 p5 comment\n",
      "1     0         Init  0    56  0              00      NA\n",
      "2     1   SorterOpen  4     9  0       k(1,B) 00      NA\n",
      "3     2     OpenRead  3   131  0           19 00      NA\n",
      "4     3     OpenRead  5 22656  0     k(4,,,,) 02      NA\n",
      "5     4         Real  0     1  0         2013 00      NA\n",
      "6     5         Real  0     2  0            4 00      NA\n",
      "7     6         Real  0     3  0            6 00      NA\n",
      "8     7     Affinity  1     3  0          DDD 00      NA\n",
      "9     8       SeekGE  5    36  1            3 00      NA\n",
      "10    9        IdxGT  5    36  1            3 00      NA\n",
      "11   10         Seek  5     0  3              00      NA\n",
      "12   11       Column  5     0  8              00      NA\n",
      "13   12       Column  5     1  9              00      NA\n",
      "14   13       Column  5     2 10              00      NA\n",
      "15   14       Column  3     9 11              00      NA\n",
      "16   15       Column  3     5 12              00      NA\n",
      "17   16 RealAffinity 12     0  0              00      NA\n",
      "18   17       Column  3    14 13              00      NA\n",
      "19   18 RealAffinity 13     0  0              00      NA\n",
      "20   19       Column  3    15 14              00      NA\n",
      "21   20 RealAffinity 14     0  0              00      NA\n",
      "22   21       Divide 13    14 16              00      NA\n",
      "23   22     Multiply 18    16 15              00      NA\n",
      "24   23         Copy  8     4  0              00      NA\n",
      "25   24         Copy  9     5  0              00      NA\n",
      "26   25         Copy 10     6  0              00      NA\n",
      "27   26         Copy 11     7  0              00      NA\n",
      "28   27   MakeRecord  7     9 19              00      NA\n",
      "29   28 SequenceTest  4    33  0              00      NA\n",
      "30   29      Compare 20     4  3 k(4,B,B,B,B) 00      NA\n",
      "31   30         Jump 31    34 31              00      NA\n",
      "32   31        Gosub 23    40  0              00      NA\n",
      "33   32  ResetSorter  4     0  0              00      NA\n",
      "34   33         Move  4    20  3              00      NA\n",
      "35   34 SorterInsert  4    19  0              00      NA\n",
      "36   35         Next  5     9  1              00      NA\n",
      "37   36        Close  3     0  0              00      NA\n",
      "38   37        Close  5     0  0              00      NA\n",
      "39   38        Gosub 23    40  0              00      NA\n",
      "40   39         Goto  0    55  0              00      NA\n",
      "41   40         Once  0    42  0              00      NA\n",
      "42   41   OpenPseudo  6    24 10              00      NA\n",
      "43   42   SorterSort  4    55  0              00      NA\n",
      "44   43   SorterData  4    24  6              00      NA\n",
      "45   44       Column  6     1  8              00      NA\n",
      "46   45       Column  6     2  9              00      NA\n",
      "47   46       Column  6     3 10              00      NA\n",
      "48   47       Column  6     4 11              00      NA\n",
      "49   48       Column  6     5 12              00      NA\n",
      "50   49       Column  6     6 13              00      NA\n",
      "51   50       Column  6     7 14              00      NA\n",
      "52   51       Column  6     8 15              00      NA\n",
      "53   52    ResultRow  8     8  0              00      NA\n",
      "54   53   SorterNext  4    43  0              00      NA\n",
      "55   54       Return 23     0  0              00      NA\n",
      "56   55         Halt  0     0  0              00      NA\n",
      "57   56  Transaction  0     0 16            0 01      NA\n",
      "58   57    TableLock  0   131  0      flights 00      NA\n",
      "59   58         Real  0    18  0           60 00      NA\n",
      "60   59         Goto  0     1  0              00      NA\n"
     ]
    }
   ],
   "source": [
    "a4$query\n",
    "explain (a4)"
   ]
  },
  {
   "cell_type": "markdown",
   "metadata": {},
   "source": [
    "# translate_sql(Hello)\n",
    "translate_sql(\"Hello\")\n",
    "\n",
    "translate_sql(x == 45 && (y < 78 || z > 4))\n",
    "translate_sql(x ^ 3 < 98)\n",
    "#> <SQL> POWER(\"x\", 2.0) < 10.0\n",
    "translate_sql(x %% 3 == 10)"
   ]
  },
  {
   "cell_type": "code",
   "execution_count": 17,
   "metadata": {
    "collapsed": false
   },
   "outputs": [
    {
     "data": {
      "text/html": [
       "'GLOB(\"x\", \"y\")'"
      ],
      "text/latex": [
       "'GLOB(\"x\", \"y\")'"
      ],
      "text/markdown": [
       "'GLOB(\"x\", \"y\")'"
      ],
      "text/plain": [
       "<SQL> GLOB(\"x\", \"y\")"
      ]
     },
     "metadata": {},
     "output_type": "display_data"
    },
    {
     "data": {
      "text/html": [
       "'\"x\" LIKE \\'ab*''"
      ],
      "text/latex": [
       "'\"x\" LIKE \\textbackslash{}'ab*''"
      ],
      "text/markdown": [
       "'\"x\" LIKE \\'ab*''"
      ],
      "text/plain": [
       "<SQL> \"x\" LIKE 'ab*'"
      ]
     },
     "metadata": {},
     "output_type": "display_data"
    }
   ],
   "source": [
    "# translate_sql(mean(x, trim = T)) # Produces error\n",
    "translate_sql(glob(x, y))\n",
    "translate_sql(x %like% \"ab*\")"
   ]
  },
  {
   "cell_type": "code",
   "execution_count": 18,
   "metadata": {
    "collapsed": false
   },
   "outputs": [
    {
     "data": {
      "text/html": [
       "<table>\n",
       "<thead><tr><th scope=col>tailnum</th><th scope=col>count</th><th scope=col>dist</th><th scope=col>delay</th></tr></thead>\n",
       "<tbody>\n",
       "\t<tr><td>NA       </td><td>2512     </td><td>710.2576 </td><td>       NA</td></tr>\n",
       "\t<tr><td>N0EGMQ   </td><td> 371     </td><td>676.1887 </td><td> 9.982955</td></tr>\n",
       "\t<tr><td>N10156   </td><td> 153     </td><td>757.9477 </td><td>12.717241</td></tr>\n",
       "\t<tr><td>N10575   </td><td> 289     </td><td>519.7024 </td><td>20.691450</td></tr>\n",
       "\t<tr><td>N11106   </td><td> 129     </td><td>771.4109 </td><td>14.880952</td></tr>\n",
       "\t<tr><td>N11107   </td><td> 148     </td><td>705.8649 </td><td>15.014388</td></tr>\n",
       "</tbody>\n",
       "</table>\n"
      ],
      "text/latex": [
       "\\begin{tabular}{r|llll}\n",
       " tailnum & count & dist & delay\\\\\n",
       "\\hline\n",
       "\t NA        & 2512      & 710.2576  &        NA\\\\\n",
       "\t N0EGMQ    &  371      & 676.1887  &  9.982955\\\\\n",
       "\t N10156    &  153      & 757.9477  & 12.717241\\\\\n",
       "\t N10575    &  289      & 519.7024  & 20.691450\\\\\n",
       "\t N11106    &  129      & 771.4109  & 14.880952\\\\\n",
       "\t N11107    &  148      & 705.8649  & 15.014388\\\\\n",
       "\\end{tabular}\n"
      ],
      "text/markdown": [
       "\n",
       "tailnum | count | dist | delay | \n",
       "|---|---|---|---|---|---|\n",
       "| NA        | 2512      | 710.2576  |        NA | \n",
       "| N0EGMQ    |  371      | 676.1887  |  9.982955 | \n",
       "| N10156    |  153      | 757.9477  | 12.717241 | \n",
       "| N10575    |  289      | 519.7024  | 20.691450 | \n",
       "| N11106    |  129      | 771.4109  | 14.880952 | \n",
       "| N11107    |  148      | 705.8649  | 15.014388 | \n",
       "\n",
       "\n"
      ],
      "text/plain": [
       "  tailnum count dist     delay    \n",
       "1 NA      2512  710.2576        NA\n",
       "2 N0EGMQ   371  676.1887  9.982955\n",
       "3 N10156   153  757.9477 12.717241\n",
       "4 N10575   289  519.7024 20.691450\n",
       "5 N11106   129  771.4109 14.880952\n",
       "6 N11107   148  705.8649 15.014388"
      ]
     },
     "metadata": {},
     "output_type": "display_data"
    }
   ],
   "source": [
    "tailnum <- group_by(flights_db, tailnum)\n",
    "delay <- summarise(tailnum,\n",
    "  count = n(),\n",
    "  dist = mean(distance),\n",
    "  delay = mean(arr_delay)\n",
    ")\n",
    "delay <- filter(delay, count > 80, dist < 2500)\n",
    "delay_local <- collect(delay)\n",
    "head(delay_local)"
   ]
  },
  {
   "cell_type": "markdown",
   "metadata": {},
   "source": [
    "## PostgreSQL"
   ]
  },
  {
   "cell_type": "code",
   "execution_count": 19,
   "metadata": {
    "collapsed": false
   },
   "outputs": [
    {
     "ename": "ERROR",
     "evalue": "Error in library(RPostgres): there is no package called ‘RPostgres’\n",
     "output_type": "error",
     "traceback": [
      "Error in library(RPostgres): there is no package called ‘RPostgres’\nTraceback:\n",
      "1. library(RPostgres)",
      "2. stop(txt, domain = NA)"
     ]
    }
   ],
   "source": [
    "library(RPostgreSQL)\n",
    "library(DBI)\n",
    "library(RPostgres)"
   ]
  },
  {
   "cell_type": "code",
   "execution_count": 20,
   "metadata": {
    "collapsed": false
   },
   "outputs": [
    {
     "ename": "ERROR",
     "evalue": "Error in postgresqlNewConnection(drv, ...): RS-DBI driver: (could not connect Amardeep@local on dbname \"nycflights13\"\n)\n",
     "output_type": "error",
     "traceback": [
      "Error in postgresqlNewConnection(drv, ...): RS-DBI driver: (could not connect Amardeep@local on dbname \"nycflights13\"\n)\nTraceback:\n",
      "1. tbl(src_postgres(dbname = \"nycflights13\"), \"flights\")",
      "2. src_postgres(dbname = \"nycflights13\")",
      "3. dbConnect(RPostgreSQL::PostgreSQL(), host = host %||% \"\", dbname = dbname %||% \n .     \"\", user = user, password = password %||% \"\", port = port %||% \n .     \"\", ...)",
      "4. dbConnect(RPostgreSQL::PostgreSQL(), host = host %||% \"\", dbname = dbname %||% \n .     \"\", user = user, password = password %||% \"\", port = port %||% \n .     \"\", ...)",
      "5. postgresqlNewConnection(drv, ...)"
     ]
    }
   ],
   "source": [
    "flights_postgres <- tbl(src_postgres(dbname = \"nycflights13\"), \"flights\")"
   ]
  },
  {
   "cell_type": "markdown",
   "metadata": {},
   "source": [
    "couldn't proceed past this step\n",
    "\n",
    "As stated by Luigi Di Tacchio on piazza. \"I am guessing you are going over the dplyr database tutorial and trying to run the code that's there. You need to create a PostgreSQL local database for the code to work. It is also stated in the tutorial:\n",
    " \"For example, the following code allows me to connect to a local PostgreSQL database that contains a copy of the flights data:\"\n",
    " \n",
    "Anyways, I would recommend to work with SQLite for Lab 2.\n",
    "\n",
    "I followed the steps given by the student in the post but it didn't work. As a consequnce I am using SQLlite for Lab 2."
   ]
  }
 ],
 "metadata": {
  "kernelspec": {
   "display_name": "R",
   "language": "R",
   "name": "ir"
  },
  "language_info": {
   "codemirror_mode": "r",
   "file_extension": ".r",
   "mimetype": "text/x-r-source",
   "name": "R",
   "pygments_lexer": "r",
   "version": "3.3.2"
  }
 },
 "nbformat": 4,
 "nbformat_minor": 2
}
