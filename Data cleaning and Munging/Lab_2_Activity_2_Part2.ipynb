{
 "cells": [
  {
   "cell_type": "code",
   "execution_count": 1,
   "metadata": {
    "collapsed": false
   },
   "outputs": [
    {
     "name": "stderr",
     "output_type": "stream",
     "text": [
      "\n",
      "Attaching package: ‘dplyr’\n",
      "\n",
      "The following objects are masked from ‘package:stats’:\n",
      "\n",
      "    filter, lag\n",
      "\n",
      "The following objects are masked from ‘package:base’:\n",
      "\n",
      "    intersect, setdiff, setequal, union\n",
      "\n"
     ]
    }
   ],
   "source": [
    "library(dplyr)"
   ]
  },
  {
   "cell_type": "code",
   "execution_count": 2,
   "metadata": {
    "collapsed": true
   },
   "outputs": [],
   "source": [
    "Player <- read.csv(\"/Users/Amardeep/Documents/Semester_2/Dic/lab_2/player.csv\")\n",
    "Team <- read.csv(\"/Users/Amardeep/Documents/Semester_2/Dic/lab_2/team.csv\")"
   ]
  },
  {
   "cell_type": "markdown",
   "metadata": {},
   "source": [
    "Please provide the absolote paths of the player.csv files and team.csv files"
   ]
  },
  {
   "cell_type": "markdown",
   "metadata": {},
   "source": [
    "### Q1 Which are the top 10 players by overall rating?"
   ]
  },
  {
   "cell_type": "code",
   "execution_count": 3,
   "metadata": {
    "collapsed": false
   },
   "outputs": [
    {
     "data": {
      "text/html": [
       "<table>\n",
       "<thead><tr><th scope=col>player_name</th><th scope=col>overall_rating</th></tr></thead>\n",
       "<tbody>\n",
       "\t<tr><td>Lionel Messi     </td><td>94               </td></tr>\n",
       "\t<tr><td>Cristiano Ronaldo</td><td>93               </td></tr>\n",
       "\t<tr><td>Gianluigi Buffon </td><td>93               </td></tr>\n",
       "\t<tr><td>Wayne Rooney     </td><td>93               </td></tr>\n",
       "\t<tr><td>Gregory Coupet   </td><td>92               </td></tr>\n",
       "\t<tr><td>Xavi Hernandez   </td><td>92               </td></tr>\n",
       "\t<tr><td>Alessandro Nesta </td><td>91               </td></tr>\n",
       "\t<tr><td>Andres Iniesta   </td><td>91               </td></tr>\n",
       "\t<tr><td>Fabio Cannavaro  </td><td>91               </td></tr>\n",
       "\t<tr><td>Iker Casillas    </td><td>91               </td></tr>\n",
       "</tbody>\n",
       "</table>\n"
      ],
      "text/latex": [
       "\\begin{tabular}{r|ll}\n",
       " player\\_name & overall\\_rating\\\\\n",
       "\\hline\n",
       "\t Lionel Messi      & 94               \\\\\n",
       "\t Cristiano Ronaldo & 93               \\\\\n",
       "\t Gianluigi Buffon  & 93               \\\\\n",
       "\t Wayne Rooney      & 93               \\\\\n",
       "\t Gregory Coupet    & 92               \\\\\n",
       "\t Xavi Hernandez    & 92               \\\\\n",
       "\t Alessandro Nesta  & 91               \\\\\n",
       "\t Andres Iniesta    & 91               \\\\\n",
       "\t Fabio Cannavaro   & 91               \\\\\n",
       "\t Iker Casillas     & 91               \\\\\n",
       "\\end{tabular}\n"
      ],
      "text/markdown": [
       "\n",
       "player_name | overall_rating | \n",
       "|---|---|---|---|---|---|---|---|---|---|\n",
       "| Lionel Messi      | 94                | \n",
       "| Cristiano Ronaldo | 93                | \n",
       "| Gianluigi Buffon  | 93                | \n",
       "| Wayne Rooney      | 93                | \n",
       "| Gregory Coupet    | 92                | \n",
       "| Xavi Hernandez    | 92                | \n",
       "| Alessandro Nesta  | 91                | \n",
       "| Andres Iniesta    | 91                | \n",
       "| Fabio Cannavaro   | 91                | \n",
       "| Iker Casillas     | 91                | \n",
       "\n",
       "\n"
      ],
      "text/plain": [
       "   player_name       overall_rating\n",
       "1  Lionel Messi      94            \n",
       "2  Cristiano Ronaldo 93            \n",
       "3  Gianluigi Buffon  93            \n",
       "4  Wayne Rooney      93            \n",
       "5  Gregory Coupet    92            \n",
       "6  Xavi Hernandez    92            \n",
       "7  Alessandro Nesta  91            \n",
       "8  Andres Iniesta    91            \n",
       "9  Fabio Cannavaro   91            \n",
       "10 Iker Casillas     91            "
      ]
     },
     "metadata": {},
     "output_type": "display_data"
    }
   ],
   "source": [
    "ovr_rating = data.frame(Player$player_name,Player$overall_rating)\n",
    "#Create a new Data frame with relevant coloumns and rename it\n",
    "colnames(ovr_rating) <- c(\"player_name\", \"overall_rating\")\n",
    "ovr_rating <- ovr_rating %>% arrange(desc(overall_rating))\n",
    "#Sort Data frame in Decreasing order\n",
    "head(ovr_rating, 10)\n",
    "#List Top 10"
   ]
  },
  {
   "cell_type": "markdown",
   "metadata": {},
   "source": [
    "### Q2 Which are the top 10 goalkeepers by sum of gk attributes?"
   ]
  },
  {
   "cell_type": "code",
   "execution_count": 4,
   "metadata": {
    "collapsed": false
   },
   "outputs": [
    {
     "data": {
      "text/html": [
       "<table>\n",
       "<thead><tr><th scope=col>player_name</th><th scope=col>gk_rating</th></tr></thead>\n",
       "<tbody>\n",
       "\t<tr><td>Gianluigi Buffon </td><td>449              </td></tr>\n",
       "\t<tr><td>Gregory Coupet   </td><td>447              </td></tr>\n",
       "\t<tr><td>Petr Cech        </td><td>445              </td></tr>\n",
       "\t<tr><td>Iker Casillas    </td><td>442              </td></tr>\n",
       "\t<tr><td>Manuel Neuer     </td><td>440              </td></tr>\n",
       "\t<tr><td>Julio Cesar      </td><td>438              </td></tr>\n",
       "\t<tr><td>Sebastian Frey   </td><td>437              </td></tr>\n",
       "\t<tr><td>Edwin van der Sar</td><td>436              </td></tr>\n",
       "\t<tr><td>David De Gea     </td><td>429              </td></tr>\n",
       "\t<tr><td>Pepe Reina       </td><td>428              </td></tr>\n",
       "</tbody>\n",
       "</table>\n"
      ],
      "text/latex": [
       "\\begin{tabular}{r|ll}\n",
       " player\\_name & gk\\_rating\\\\\n",
       "\\hline\n",
       "\t Gianluigi Buffon  & 449              \\\\\n",
       "\t Gregory Coupet    & 447              \\\\\n",
       "\t Petr Cech         & 445              \\\\\n",
       "\t Iker Casillas     & 442              \\\\\n",
       "\t Manuel Neuer      & 440              \\\\\n",
       "\t Julio Cesar       & 438              \\\\\n",
       "\t Sebastian Frey    & 437              \\\\\n",
       "\t Edwin van der Sar & 436              \\\\\n",
       "\t David De Gea      & 429              \\\\\n",
       "\t Pepe Reina        & 428              \\\\\n",
       "\\end{tabular}\n"
      ],
      "text/markdown": [
       "\n",
       "player_name | gk_rating | \n",
       "|---|---|---|---|---|---|---|---|---|---|\n",
       "| Gianluigi Buffon  | 449               | \n",
       "| Gregory Coupet    | 447               | \n",
       "| Petr Cech         | 445               | \n",
       "| Iker Casillas     | 442               | \n",
       "| Manuel Neuer      | 440               | \n",
       "| Julio Cesar       | 438               | \n",
       "| Sebastian Frey    | 437               | \n",
       "| Edwin van der Sar | 436               | \n",
       "| David De Gea      | 429               | \n",
       "| Pepe Reina        | 428               | \n",
       "\n",
       "\n"
      ],
      "text/plain": [
       "   player_name       gk_rating\n",
       "1  Gianluigi Buffon  449      \n",
       "2  Gregory Coupet    447      \n",
       "3  Petr Cech         445      \n",
       "4  Iker Casillas     442      \n",
       "5  Manuel Neuer      440      \n",
       "6  Julio Cesar       438      \n",
       "7  Sebastian Frey    437      \n",
       "8  Edwin van der Sar 436      \n",
       "9  David De Gea      429      \n",
       "10 Pepe Reina        428      "
      ]
     },
     "metadata": {},
     "output_type": "display_data"
    }
   ],
   "source": [
    "gk_rating = data.frame(Player$player_name,Player$gk_rating)\n",
    "#Create a new Data frame with relevant coloumns and rename it\n",
    "colnames(gk_rating) <- c(\"player_name\", \"gk_rating\")\n",
    "gk_rating <- gk_rating %>% arrange(desc(gk_rating))\n",
    "#Sort Data frame in Decreasing order\n",
    "head(gk_rating, 10)\n",
    "#List Top 10"
   ]
  },
  {
   "cell_type": "markdown",
   "metadata": {},
   "source": [
    "### Q3 Which are the top 10 players by number of appearances (with any team they played with)?"
   ]
  },
  {
   "cell_type": "code",
   "execution_count": 5,
   "metadata": {
    "collapsed": false
   },
   "outputs": [
    {
     "data": {
      "text/html": [
       "<table>\n",
       "<thead><tr><th scope=col>player_name</th><th scope=col>total_appearances</th></tr></thead>\n",
       "<tbody>\n",
       "\t<tr><td>Steve Mandanda      </td><td>300                 </td></tr>\n",
       "\t<tr><td>Stephane Ruffier    </td><td>294                 </td></tr>\n",
       "\t<tr><td>Gorka Iraizoz Moreno</td><td>286                 </td></tr>\n",
       "\t<tr><td>Samir Handanovic    </td><td>286                 </td></tr>\n",
       "\t<tr><td>Hugo Lloris         </td><td>282                 </td></tr>\n",
       "\t<tr><td>Tim Howard          </td><td>282                 </td></tr>\n",
       "\t<tr><td>Joe Hart            </td><td>275                 </td></tr>\n",
       "\t<tr><td>Cedric Carrasso     </td><td>268                 </td></tr>\n",
       "\t<tr><td>Daniel Congre       </td><td>262                 </td></tr>\n",
       "\t<tr><td>Moussa Sissoko      </td><td>260                 </td></tr>\n",
       "</tbody>\n",
       "</table>\n"
      ],
      "text/latex": [
       "\\begin{tabular}{r|ll}\n",
       " player\\_name & total\\_appearances\\\\\n",
       "\\hline\n",
       "\t Steve Mandanda       & 300                 \\\\\n",
       "\t Stephane Ruffier     & 294                 \\\\\n",
       "\t Gorka Iraizoz Moreno & 286                 \\\\\n",
       "\t Samir Handanovic     & 286                 \\\\\n",
       "\t Hugo Lloris          & 282                 \\\\\n",
       "\t Tim Howard           & 282                 \\\\\n",
       "\t Joe Hart             & 275                 \\\\\n",
       "\t Cedric Carrasso      & 268                 \\\\\n",
       "\t Daniel Congre        & 262                 \\\\\n",
       "\t Moussa Sissoko       & 260                 \\\\\n",
       "\\end{tabular}\n"
      ],
      "text/markdown": [
       "\n",
       "player_name | total_appearances | \n",
       "|---|---|---|---|---|---|---|---|---|---|\n",
       "| Steve Mandanda       | 300                  | \n",
       "| Stephane Ruffier     | 294                  | \n",
       "| Gorka Iraizoz Moreno | 286                  | \n",
       "| Samir Handanovic     | 286                  | \n",
       "| Hugo Lloris          | 282                  | \n",
       "| Tim Howard           | 282                  | \n",
       "| Joe Hart             | 275                  | \n",
       "| Cedric Carrasso      | 268                  | \n",
       "| Daniel Congre        | 262                  | \n",
       "| Moussa Sissoko       | 260                  | \n",
       "\n",
       "\n"
      ],
      "text/plain": [
       "   player_name          total_appearances\n",
       "1  Steve Mandanda       300              \n",
       "2  Stephane Ruffier     294              \n",
       "3  Gorka Iraizoz Moreno 286              \n",
       "4  Samir Handanovic     286              \n",
       "5  Hugo Lloris          282              \n",
       "6  Tim Howard           282              \n",
       "7  Joe Hart             275              \n",
       "8  Cedric Carrasso      268              \n",
       "9  Daniel Congre        262              \n",
       "10 Moussa Sissoko       260              "
      ]
     },
     "metadata": {},
     "output_type": "display_data"
    }
   ],
   "source": [
    "total_appearances = data.frame(Player$player_name,Player$total_appearances)\n",
    "#Create a new Data frame with relevant coloumns and rename it\n",
    "colnames(total_appearances) <- c(\"player_name\", \"total_appearances\")\n",
    "total_appearances <- total_appearances %>% arrange(desc(total_appearances))\n",
    "#Sort Data frame in Decreasing order\n",
    "head(total_appearances, 10)\n",
    "#List Top 10"
   ]
  },
  {
   "cell_type": "markdown",
   "metadata": {},
   "source": [
    "### Q4 Which are the top 10 players by number of leagues they played in?"
   ]
  },
  {
   "cell_type": "code",
   "execution_count": 6,
   "metadata": {
    "collapsed": false
   },
   "outputs": [
    {
     "data": {
      "text/html": [
       "<table>\n",
       "<thead><tr><th scope=col>player_name</th><th scope=col>league_appearances</th></tr></thead>\n",
       "<tbody>\n",
       "\t<tr><td>Gelson Fernandes     </td><td>6                    </td></tr>\n",
       "\t<tr><td>Filip Djuricic       </td><td>5                    </td></tr>\n",
       "\t<tr><td>Ricky van Wolfswinkel</td><td>5                    </td></tr>\n",
       "\t<tr><td>Aleksandar Tonev     </td><td>4                    </td></tr>\n",
       "\t<tr><td>Alfred Finnbogason   </td><td>4                    </td></tr>\n",
       "\t<tr><td>Almen Abdi           </td><td>4                    </td></tr>\n",
       "\t<tr><td>Aly Cissokho         </td><td>4                    </td></tr>\n",
       "\t<tr><td>Angel Di Maria       </td><td>4                    </td></tr>\n",
       "\t<tr><td>Bojan Krkic          </td><td>4                    </td></tr>\n",
       "\t<tr><td>Bryan Ruiz           </td><td>4                    </td></tr>\n",
       "</tbody>\n",
       "</table>\n"
      ],
      "text/latex": [
       "\\begin{tabular}{r|ll}\n",
       " player\\_name & league\\_appearances\\\\\n",
       "\\hline\n",
       "\t Gelson Fernandes      & 6                    \\\\\n",
       "\t Filip Djuricic        & 5                    \\\\\n",
       "\t Ricky van Wolfswinkel & 5                    \\\\\n",
       "\t Aleksandar Tonev      & 4                    \\\\\n",
       "\t Alfred Finnbogason    & 4                    \\\\\n",
       "\t Almen Abdi            & 4                    \\\\\n",
       "\t Aly Cissokho          & 4                    \\\\\n",
       "\t Angel Di Maria        & 4                    \\\\\n",
       "\t Bojan Krkic           & 4                    \\\\\n",
       "\t Bryan Ruiz            & 4                    \\\\\n",
       "\\end{tabular}\n"
      ],
      "text/markdown": [
       "\n",
       "player_name | league_appearances | \n",
       "|---|---|---|---|---|---|---|---|---|---|\n",
       "| Gelson Fernandes      | 6                     | \n",
       "| Filip Djuricic        | 5                     | \n",
       "| Ricky van Wolfswinkel | 5                     | \n",
       "| Aleksandar Tonev      | 4                     | \n",
       "| Alfred Finnbogason    | 4                     | \n",
       "| Almen Abdi            | 4                     | \n",
       "| Aly Cissokho          | 4                     | \n",
       "| Angel Di Maria        | 4                     | \n",
       "| Bojan Krkic           | 4                     | \n",
       "| Bryan Ruiz            | 4                     | \n",
       "\n",
       "\n"
      ],
      "text/plain": [
       "   player_name           league_appearances\n",
       "1  Gelson Fernandes      6                 \n",
       "2  Filip Djuricic        5                 \n",
       "3  Ricky van Wolfswinkel 5                 \n",
       "4  Aleksandar Tonev      4                 \n",
       "5  Alfred Finnbogason    4                 \n",
       "6  Almen Abdi            4                 \n",
       "7  Aly Cissokho          4                 \n",
       "8  Angel Di Maria        4                 \n",
       "9  Bojan Krkic           4                 \n",
       "10 Bryan Ruiz            4                 "
      ]
     },
     "metadata": {},
     "output_type": "display_data"
    }
   ],
   "source": [
    "league_appearances = data.frame(Player$player_name,Player$league_appearances)\n",
    "#Create a new Data frame with relevant coloumns and rename it\n",
    "colnames(league_appearances) <- c(\"player_name\", \"league_appearances\")\n",
    "league_appearances <- league_appearances %>% arrange(desc(league_appearances))\n",
    "#Sort Data frame in Decreasing order\n",
    "head(league_appearances, 10)\n",
    "#List Top 10"
   ]
  },
  {
   "cell_type": "markdown",
   "metadata": {},
   "source": [
    "### Q5 Which are the top 10 teams by sum of build up play attributes?"
   ]
  },
  {
   "cell_type": "code",
   "execution_count": 8,
   "metadata": {
    "collapsed": false
   },
   "outputs": [
    {
     "data": {
      "text/html": [
       "<table>\n",
       "<thead><tr><th scope=col>team_long_name</th><th scope=col>team_short_name</th><th scope=col>buildUp_rating</th></tr></thead>\n",
       "<tbody>\n",
       "\t<tr><td>Torino                    </td><td>TOR                       </td><td>209                       </td></tr>\n",
       "\t<tr><td>Udinese                   </td><td>UDI                       </td><td>205                       </td></tr>\n",
       "\t<tr><td>Fortuna Düsseldorf        </td><td>FDU                       </td><td>198                       </td></tr>\n",
       "\t<tr><td>Podbeskidzie Bielsko-Biała</td><td>POD                       </td><td>193                       </td></tr>\n",
       "\t<tr><td>Korona Kielce             </td><td>KKI                       </td><td>192                       </td></tr>\n",
       "\t<tr><td>Carpi                     </td><td>CAP                       </td><td>190                       </td></tr>\n",
       "\t<tr><td>Widzew Łódź               </td><td>LOD                       </td><td>190                       </td></tr>\n",
       "\t<tr><td>Widzew Łódź               </td><td>WID                       </td><td>190                       </td></tr>\n",
       "\t<tr><td>FC Nantes                 </td><td>NAN                       </td><td>189                       </td></tr>\n",
       "\t<tr><td>Lazio                     </td><td>LAZ                       </td><td>188                       </td></tr>\n",
       "</tbody>\n",
       "</table>\n"
      ],
      "text/latex": [
       "\\begin{tabular}{r|lll}\n",
       " team\\_long\\_name & team\\_short\\_name & buildUp\\_rating\\\\\n",
       "\\hline\n",
       "\t Torino                     & TOR                        & 209                       \\\\\n",
       "\t Udinese                    & UDI                        & 205                       \\\\\n",
       "\t Fortuna Düsseldorf         & FDU                        & 198                       \\\\\n",
       "\t Podbeskidzie Bielsko-Biała & POD                        & 193                       \\\\\n",
       "\t Korona Kielce              & KKI                        & 192                       \\\\\n",
       "\t Carpi                      & CAP                        & 190                       \\\\\n",
       "\t Widzew Łódź                & LOD                        & 190                       \\\\\n",
       "\t Widzew Łódź                & WID                        & 190                       \\\\\n",
       "\t FC Nantes                  & NAN                        & 189                       \\\\\n",
       "\t Lazio                      & LAZ                        & 188                       \\\\\n",
       "\\end{tabular}\n"
      ],
      "text/markdown": [
       "\n",
       "team_long_name | team_short_name | buildUp_rating | \n",
       "|---|---|---|---|---|---|---|---|---|---|\n",
       "| Torino                     | TOR                        | 209                        | \n",
       "| Udinese                    | UDI                        | 205                        | \n",
       "| Fortuna Düsseldorf         | FDU                        | 198                        | \n",
       "| Podbeskidzie Bielsko-Biała | POD                        | 193                        | \n",
       "| Korona Kielce              | KKI                        | 192                        | \n",
       "| Carpi                      | CAP                        | 190                        | \n",
       "| Widzew Łódź                | LOD                        | 190                        | \n",
       "| Widzew Łódź                | WID                        | 190                        | \n",
       "| FC Nantes                  | NAN                        | 189                        | \n",
       "| Lazio                      | LAZ                        | 188                        | \n",
       "\n",
       "\n"
      ],
      "text/plain": [
       "   team_long_name             team_short_name buildUp_rating\n",
       "1  Torino                     TOR             209           \n",
       "2  Udinese                    UDI             205           \n",
       "3  Fortuna Düsseldorf         FDU             198           \n",
       "4  Podbeskidzie Bielsko-Biała POD             193           \n",
       "5  Korona Kielce              KKI             192           \n",
       "6  Carpi                      CAP             190           \n",
       "7  Widzew Łódź                LOD             190           \n",
       "8  Widzew Łódź                WID             190           \n",
       "9  FC Nantes                  NAN             189           \n",
       "10 Lazio                      LAZ             188           "
      ]
     },
     "metadata": {},
     "output_type": "display_data"
    }
   ],
   "source": [
    "buildUp_rating= data.frame(Team$team_long_name,Team$team_short_name,Team$buildUp_rating)\n",
    "#Create a new Data frame with relevant coloumns and rename it\n",
    "colnames(buildUp_rating) <- c(\"team_long_name\",\"team_short_name\", \"buildUp_rating\")\n",
    "buildUp_rating <- buildUp_rating %>% arrange(desc(buildUp_rating))\n",
    "#Sort Data frame in Decreasing order\n",
    "head(buildUp_rating, 10)\n",
    "#List Top 10"
   ]
  },
  {
   "cell_type": "markdown",
   "metadata": {},
   "source": [
    "### Q6 Which are the top 10 teams by sum of chance creation attributes?"
   ]
  },
  {
   "cell_type": "code",
   "execution_count": 9,
   "metadata": {
    "collapsed": false
   },
   "outputs": [
    {
     "data": {
      "text/html": [
       "<table>\n",
       "<thead><tr><th scope=col>team_long_name</th><th scope=col>team_short_name</th><th scope=col>chance_rating</th></tr></thead>\n",
       "<tbody>\n",
       "\t<tr><td>Lazio                  </td><td>LAZ                    </td><td>220                    </td></tr>\n",
       "\t<tr><td>SV Werder Bremen       </td><td>WBR                    </td><td>216                    </td></tr>\n",
       "\t<tr><td>Napoli                 </td><td>NAP                    </td><td>215                    </td></tr>\n",
       "\t<tr><td>Manchester City        </td><td>MCI                    </td><td>210                    </td></tr>\n",
       "\t<tr><td>Tottenham Hotspur      </td><td>TOT                    </td><td>210                    </td></tr>\n",
       "\t<tr><td>Birmingham City        </td><td>BIR                    </td><td>210                    </td></tr>\n",
       "\t<tr><td>Wolverhampton Wanderers</td><td>WOL                    </td><td>210                    </td></tr>\n",
       "\t<tr><td>Burnley                </td><td>BUR                    </td><td>210                    </td></tr>\n",
       "\t<tr><td>Swansea City           </td><td>SWA                    </td><td>210                    </td></tr>\n",
       "\t<tr><td>Queens Park Rangers    </td><td>QPR                    </td><td>210                    </td></tr>\n",
       "</tbody>\n",
       "</table>\n"
      ],
      "text/latex": [
       "\\begin{tabular}{r|lll}\n",
       " team\\_long\\_name & team\\_short\\_name & chance\\_rating\\\\\n",
       "\\hline\n",
       "\t Lazio                   & LAZ                     & 220                    \\\\\n",
       "\t SV Werder Bremen        & WBR                     & 216                    \\\\\n",
       "\t Napoli                  & NAP                     & 215                    \\\\\n",
       "\t Manchester City         & MCI                     & 210                    \\\\\n",
       "\t Tottenham Hotspur       & TOT                     & 210                    \\\\\n",
       "\t Birmingham City         & BIR                     & 210                    \\\\\n",
       "\t Wolverhampton Wanderers & WOL                     & 210                    \\\\\n",
       "\t Burnley                 & BUR                     & 210                    \\\\\n",
       "\t Swansea City            & SWA                     & 210                    \\\\\n",
       "\t Queens Park Rangers     & QPR                     & 210                    \\\\\n",
       "\\end{tabular}\n"
      ],
      "text/markdown": [
       "\n",
       "team_long_name | team_short_name | chance_rating | \n",
       "|---|---|---|---|---|---|---|---|---|---|\n",
       "| Lazio                   | LAZ                     | 220                     | \n",
       "| SV Werder Bremen        | WBR                     | 216                     | \n",
       "| Napoli                  | NAP                     | 215                     | \n",
       "| Manchester City         | MCI                     | 210                     | \n",
       "| Tottenham Hotspur       | TOT                     | 210                     | \n",
       "| Birmingham City         | BIR                     | 210                     | \n",
       "| Wolverhampton Wanderers | WOL                     | 210                     | \n",
       "| Burnley                 | BUR                     | 210                     | \n",
       "| Swansea City            | SWA                     | 210                     | \n",
       "| Queens Park Rangers     | QPR                     | 210                     | \n",
       "\n",
       "\n"
      ],
      "text/plain": [
       "   team_long_name          team_short_name chance_rating\n",
       "1  Lazio                   LAZ             220          \n",
       "2  SV Werder Bremen        WBR             216          \n",
       "3  Napoli                  NAP             215          \n",
       "4  Manchester City         MCI             210          \n",
       "5  Tottenham Hotspur       TOT             210          \n",
       "6  Birmingham City         BIR             210          \n",
       "7  Wolverhampton Wanderers WOL             210          \n",
       "8  Burnley                 BUR             210          \n",
       "9  Swansea City            SWA             210          \n",
       "10 Queens Park Rangers     QPR             210          "
      ]
     },
     "metadata": {},
     "output_type": "display_data"
    }
   ],
   "source": [
    "chance_rating = data.frame(Team$team_long_name,Team$team_short_name,Team$chance_rating)\n",
    "#Create a new Data frame with relevant coloumns and rename it\n",
    "colnames(chance_rating) <- c(\"team_long_name\",\"team_short_name\", \"chance_rating\")\n",
    "chance_rating <- chance_rating %>% arrange(desc(chance_rating))\n",
    "#Sort Data frame in Decreasing order\n",
    "head(chance_rating, 10)\n",
    "#List Top 10"
   ]
  },
  {
   "cell_type": "markdown",
   "metadata": {},
   "source": [
    "### Q7 Which are the top 10 teams by sum of defense attributes?"
   ]
  },
  {
   "cell_type": "code",
   "execution_count": 10,
   "metadata": {
    "collapsed": false
   },
   "outputs": [
    {
     "data": {
      "text/html": [
       "<table>\n",
       "<thead><tr><th scope=col>team_long_name</th><th scope=col>team_short_name</th><th scope=col>defence_rating</th></tr></thead>\n",
       "<tbody>\n",
       "\t<tr><td>Beerschot AC           </td><td>BAC                    </td><td>210                    </td></tr>\n",
       "\t<tr><td>KVC Westerlo           </td><td>WES                    </td><td>210                    </td></tr>\n",
       "\t<tr><td>Sporting Charleroi     </td><td>CHA                    </td><td>210                    </td></tr>\n",
       "\t<tr><td>West Bromwich Albion   </td><td>WBA                    </td><td>210                    </td></tr>\n",
       "\t<tr><td>Hull City              </td><td>HUL                    </td><td>210                    </td></tr>\n",
       "\t<tr><td>Birmingham City        </td><td>BIR                    </td><td>210                    </td></tr>\n",
       "\t<tr><td>Wolverhampton Wanderers</td><td>WOL                    </td><td>210                    </td></tr>\n",
       "\t<tr><td>Blackpool              </td><td>BLA                    </td><td>210                    </td></tr>\n",
       "\t<tr><td>Swansea City           </td><td>SWA                    </td><td>210                    </td></tr>\n",
       "\t<tr><td>Queens Park Rangers    </td><td>QPR                    </td><td>210                    </td></tr>\n",
       "</tbody>\n",
       "</table>\n"
      ],
      "text/latex": [
       "\\begin{tabular}{r|lll}\n",
       " team\\_long\\_name & team\\_short\\_name & defence\\_rating\\\\\n",
       "\\hline\n",
       "\t Beerschot AC            & BAC                     & 210                    \\\\\n",
       "\t KVC Westerlo            & WES                     & 210                    \\\\\n",
       "\t Sporting Charleroi      & CHA                     & 210                    \\\\\n",
       "\t West Bromwich Albion    & WBA                     & 210                    \\\\\n",
       "\t Hull City               & HUL                     & 210                    \\\\\n",
       "\t Birmingham City         & BIR                     & 210                    \\\\\n",
       "\t Wolverhampton Wanderers & WOL                     & 210                    \\\\\n",
       "\t Blackpool               & BLA                     & 210                    \\\\\n",
       "\t Swansea City            & SWA                     & 210                    \\\\\n",
       "\t Queens Park Rangers     & QPR                     & 210                    \\\\\n",
       "\\end{tabular}\n"
      ],
      "text/markdown": [
       "\n",
       "team_long_name | team_short_name | defence_rating | \n",
       "|---|---|---|---|---|---|---|---|---|---|\n",
       "| Beerschot AC            | BAC                     | 210                     | \n",
       "| KVC Westerlo            | WES                     | 210                     | \n",
       "| Sporting Charleroi      | CHA                     | 210                     | \n",
       "| West Bromwich Albion    | WBA                     | 210                     | \n",
       "| Hull City               | HUL                     | 210                     | \n",
       "| Birmingham City         | BIR                     | 210                     | \n",
       "| Wolverhampton Wanderers | WOL                     | 210                     | \n",
       "| Blackpool               | BLA                     | 210                     | \n",
       "| Swansea City            | SWA                     | 210                     | \n",
       "| Queens Park Rangers     | QPR                     | 210                     | \n",
       "\n",
       "\n"
      ],
      "text/plain": [
       "   team_long_name          team_short_name defence_rating\n",
       "1  Beerschot AC            BAC             210           \n",
       "2  KVC Westerlo            WES             210           \n",
       "3  Sporting Charleroi      CHA             210           \n",
       "4  West Bromwich Albion    WBA             210           \n",
       "5  Hull City               HUL             210           \n",
       "6  Birmingham City         BIR             210           \n",
       "7  Wolverhampton Wanderers WOL             210           \n",
       "8  Blackpool               BLA             210           \n",
       "9  Swansea City            SWA             210           \n",
       "10 Queens Park Rangers     QPR             210           "
      ]
     },
     "metadata": {},
     "output_type": "display_data"
    }
   ],
   "source": [
    "defence_rating = data.frame(Team$team_long_name,Team$team_short_name,Team$defence_rating)\n",
    "#Create a new Data frame with relevant coloumns and rename it\n",
    "colnames(defence_rating) <- c(\"team_long_name\",\"team_short_name\", \"defence_rating\")\n",
    "defence_rating <- defence_rating %>% arrange(desc(defence_rating))\n",
    "#Sort Data frame in Decreasing order\n",
    "head(defence_rating, 10)\n",
    "#List Top 10"
   ]
  },
  {
   "cell_type": "markdown",
   "metadata": {},
   "source": [
    "### Q8 Which are the top 10 teams by number of scored goals?"
   ]
  },
  {
   "cell_type": "code",
   "execution_count": 11,
   "metadata": {
    "collapsed": false
   },
   "outputs": [
    {
     "data": {
      "text/html": [
       "<table>\n",
       "<thead><tr><th scope=col>team_long_name</th><th scope=col>team_short_name</th><th scope=col>team_goals</th></tr></thead>\n",
       "<tbody>\n",
       "\t<tr><td>FC Barcelona     </td><td>BAR              </td><td>849              </td></tr>\n",
       "\t<tr><td>Real Madrid CF   </td><td>REA              </td><td>843              </td></tr>\n",
       "\t<tr><td>Celtic           </td><td>CEL              </td><td>695              </td></tr>\n",
       "\t<tr><td>FC Bayern Munich </td><td>BMU              </td><td>653              </td></tr>\n",
       "\t<tr><td>PSV              </td><td>PSV              </td><td>652              </td></tr>\n",
       "\t<tr><td>Ajax             </td><td>AJA              </td><td>647              </td></tr>\n",
       "\t<tr><td>FC Basel         </td><td>BAS              </td><td>619              </td></tr>\n",
       "\t<tr><td>Manchester City  </td><td>MCI              </td><td>606              </td></tr>\n",
       "\t<tr><td>Chelsea          </td><td>CHE              </td><td>583              </td></tr>\n",
       "\t<tr><td>Manchester United</td><td>MUN              </td><td>582              </td></tr>\n",
       "</tbody>\n",
       "</table>\n"
      ],
      "text/latex": [
       "\\begin{tabular}{r|lll}\n",
       " team\\_long\\_name & team\\_short\\_name & team\\_goals\\\\\n",
       "\\hline\n",
       "\t FC Barcelona      & BAR               & 849              \\\\\n",
       "\t Real Madrid CF    & REA               & 843              \\\\\n",
       "\t Celtic            & CEL               & 695              \\\\\n",
       "\t FC Bayern Munich  & BMU               & 653              \\\\\n",
       "\t PSV               & PSV               & 652              \\\\\n",
       "\t Ajax              & AJA               & 647              \\\\\n",
       "\t FC Basel          & BAS               & 619              \\\\\n",
       "\t Manchester City   & MCI               & 606              \\\\\n",
       "\t Chelsea           & CHE               & 583              \\\\\n",
       "\t Manchester United & MUN               & 582              \\\\\n",
       "\\end{tabular}\n"
      ],
      "text/markdown": [
       "\n",
       "team_long_name | team_short_name | team_goals | \n",
       "|---|---|---|---|---|---|---|---|---|---|\n",
       "| FC Barcelona      | BAR               | 849               | \n",
       "| Real Madrid CF    | REA               | 843               | \n",
       "| Celtic            | CEL               | 695               | \n",
       "| FC Bayern Munich  | BMU               | 653               | \n",
       "| PSV               | PSV               | 652               | \n",
       "| Ajax              | AJA               | 647               | \n",
       "| FC Basel          | BAS               | 619               | \n",
       "| Manchester City   | MCI               | 606               | \n",
       "| Chelsea           | CHE               | 583               | \n",
       "| Manchester United | MUN               | 582               | \n",
       "\n",
       "\n"
      ],
      "text/plain": [
       "   team_long_name    team_short_name team_goals\n",
       "1  FC Barcelona      BAR             849       \n",
       "2  Real Madrid CF    REA             843       \n",
       "3  Celtic            CEL             695       \n",
       "4  FC Bayern Munich  BMU             653       \n",
       "5  PSV               PSV             652       \n",
       "6  Ajax              AJA             647       \n",
       "7  FC Basel          BAS             619       \n",
       "8  Manchester City   MCI             606       \n",
       "9  Chelsea           CHE             583       \n",
       "10 Manchester United MUN             582       "
      ]
     },
     "metadata": {},
     "output_type": "display_data"
    }
   ],
   "source": [
    "team_goals = data.frame(Team$team_long_name,Team$team_short_name,Team$team_goals)\n",
    "#Create a new Data frame with relevant coloumns and rename it\n",
    "colnames(team_goals) <- c(\"team_long_name\",\"team_short_name\", \"team_goals\")\n",
    "team_goals <- team_goals %>% arrange(desc(team_goals))\n",
    "#Sort Data frame in Decreasing order\n",
    "head(team_goals, 10)\n",
    "#List Top 10"
   ]
  }
 ],
 "metadata": {
  "kernelspec": {
   "display_name": "R",
   "language": "R",
   "name": "ir"
  },
  "language_info": {
   "codemirror_mode": "r",
   "file_extension": ".r",
   "mimetype": "text/x-r-source",
   "name": "R",
   "pygments_lexer": "r",
   "version": "3.3.2"
  }
 },
 "nbformat": 4,
 "nbformat_minor": 2
}
