{
 "cells": [
  {
   "cell_type": "code",
   "execution_count": 14,
   "metadata": {},
   "outputs": [],
   "source": [
    "# install.packages(\"tm\")\n",
    "# install.packages(\"stringr\", repos='http://cran.us.r-project.org')\n",
    "# library(\"stringr\")\n",
    "library(\"tm\")"
   ]
  },
  {
   "cell_type": "code",
   "execution_count": 15,
   "metadata": {},
   "outputs": [
    {
     "name": "stdout",
     "output_type": "stream",
     "text": [
      "[1] \"Using direct authentication\"\n"
     ]
    }
   ],
   "source": [
    "library(\"twitteR\")\n",
    "setup_twitter_oauth(\"\", \"\", \"\", \"\")"
   ]
  },
  {
   "cell_type": "code",
   "execution_count": 16,
   "metadata": {
    "collapsed": true
   },
   "outputs": [],
   "source": [
    "search_query <- '#ElClasico'\n",
    "tweets <- searchTwitter(search_query, n=5000, lang=\"en\")\n",
    "tweet_df = twListToDF(tweets)"
   ]
  },
  {
   "cell_type": "code",
   "execution_count": 17,
   "metadata": {},
   "outputs": [
    {
     "data": {
      "text/html": [
       "<dl class=dl-horizontal>\n",
       "\t<dt>RT @FCBarcelona: #ElClásico: Epic moments at the Santiago Bernabéu\n",
       "Which is your favorite? https://t.co/oh20qfBCbR</dt>\n",
       "\t\t<dd>'elclsico epic moments at the santiago bernabuwhich is your favorite'</dd>\n",
       "\t<dt>RT @Sheikhspeare39: How you hurt #Messi // How Messi hurts you \n",
       "\n",
       "#ElClasico #Madrid https://t.co/OlN1dEJaqb</dt>\n",
       "\t\t<dd>'how you hu messihow messi hus you elclasico madrid'</dd>\n",
       "\t<dt>Wot a match #elclasico #messi the real barca fans now...... https://t.co/3Vh0Ulta8O</dt>\n",
       "\t\t<dd>'wot a match elclasico messi the real barca fans now'</dd>\n",
       "\t<dt>RT @FCBarcelona: #ElClásico: Epic moments at the Santiago Bernabéu\n",
       "Which is your favorite? https://t.co/oh20qfBCbR</dt>\n",
       "\t\t<dd>'elclsico epic moments at the santiago bernabuwhich is your favorite'</dd>\n",
       "\t<dt>RT @Sheikhspeare39: How you hurt #Messi // How Messi hurts you \n",
       "\n",
       "#ElClasico #Madrid https://t.co/OlN1dEJaqb</dt>\n",
       "\t\t<dd>'how you hu messihow messi hus you elclasico madrid'</dd>\n",
       "\t<dt><span style=white-space:pre-wrap>RT @SirJadeja: Who Is World's Best Footballer?\n",
       "\n",
       "RT - #Lionel #Messi\n",
       "Fav - #Cristiano #Ronaldo\n",
       "\n",
       "#ElClasico #HalaMadrid  #ForçaBarça #Barca #…</span></dt>\n",
       "\t\t<dd>'who is worlds best footballerlionel messifavcristiano ronaldoelclasico halamadridforabara barca'</dd>\n",
       "</dl>\n"
      ],
      "text/latex": [
       "\\begin{description*}\n",
       "\\item[RT @FCBarcelona: \\textbackslash{}\\#ElClásico: Epic moments at the Santiago Bernabéu\n",
       "Which is your favorite? https://t.co/oh20qfBCbR] 'elclsico epic moments at the santiago bernabuwhich is your favorite'\n",
       "\\item[RT @Sheikhspeare39: How you hurt \\textbackslash{}\\#Messi // How Messi hurts you \n",
       "\n",
       "\\textbackslash{}\\#ElClasico \\textbackslash{}\\#Madrid https://t.co/OlN1dEJaqb] 'how you hu messihow messi hus you elclasico madrid'\n",
       "\\item[Wot a match \\textbackslash{}\\#elclasico \\textbackslash{}\\#messi the real barca fans now...... https://t.co/3Vh0Ulta8O] 'wot a match elclasico messi the real barca fans now'\n",
       "\\item[RT @FCBarcelona: \\textbackslash{}\\#ElClásico: Epic moments at the Santiago Bernabéu\n",
       "Which is your favorite? https://t.co/oh20qfBCbR] 'elclsico epic moments at the santiago bernabuwhich is your favorite'\n",
       "\\item[RT @Sheikhspeare39: How you hurt \\textbackslash{}\\#Messi // How Messi hurts you \n",
       "\n",
       "\\textbackslash{}\\#ElClasico \\textbackslash{}\\#Madrid https://t.co/OlN1dEJaqb] 'how you hu messihow messi hus you elclasico madrid'\n",
       "\\item[RT @SirJadeja: Who Is World's Best Footballer?\n",
       "\n",
       "RT - \\textbackslash{}\\#Lionel \\textbackslash{}\\#Messi\n",
       "Fav - \\textbackslash{}\\#Cristiano \\textbackslash{}\\#Ronaldo\n",
       "\n",
       "\\textbackslash{}\\#ElClasico \\textbackslash{}\\#HalaMadrid  \\textbackslash{}\\#ForçaBarça \\textbackslash{}\\#Barca \\textbackslash{}\\#…] 'who is worlds best footballerlionel messifavcristiano ronaldoelclasico halamadridforabara barca'\n",
       "\\end{description*}\n"
      ],
      "text/markdown": [
       "RT @FCBarcelona: #ElClásico: Epic moments at the Santiago Bernabéu\n",
       "Which is your favorite? https://t.co/oh20qfBCbR\n",
       ":   'elclsico epic moments at the santiago bernabuwhich is your favorite'RT @Sheikhspeare39: How you hurt #Messi // How Messi hurts you \n",
       "\n",
       "#ElClasico #Madrid https://t.co/OlN1dEJaqb\n",
       ":   'how you hu messihow messi hus you elclasico madrid'Wot a match #elclasico #messi the real barca fans now...... https://t.co/3Vh0Ulta8O\n",
       ":   'wot a match elclasico messi the real barca fans now'RT @FCBarcelona: #ElClásico: Epic moments at the Santiago Bernabéu\n",
       "Which is your favorite? https://t.co/oh20qfBCbR\n",
       ":   'elclsico epic moments at the santiago bernabuwhich is your favorite'RT @Sheikhspeare39: How you hurt #Messi // How Messi hurts you \n",
       "\n",
       "#ElClasico #Madrid https://t.co/OlN1dEJaqb\n",
       ":   'how you hu messihow messi hus you elclasico madrid'<span style=white-space:pre-wrap>RT @SirJadeja: Who Is World's Best Footballer?\n",
       "\n",
       "RT - #Lionel #Messi\n",
       "Fav - #Cristiano #Ronaldo\n",
       "\n",
       "#ElClasico #HalaMadrid  #ForçaBarça #Barca #…</span>\n",
       ":   'who is worlds best footballerlionel messifavcristiano ronaldoelclasico halamadridforabara barca'\n",
       "\n"
      ],
      "text/plain": [
       "                              RT @FCBarcelona: #ElClásico: Epic moments at the Santiago Bernabéu\\nWhich is your favorite? https://t.co/oh20qfBCbR \n",
       "                                                                            \"elclsico epic moments at the santiago bernabuwhich is your favorite\" \n",
       "                                    RT @Sheikhspeare39: How you hurt #Messi // How Messi hurts you \\n\\n#ElClasico #Madrid https://t.co/OlN1dEJaqb \n",
       "                                                                                             \"how you hu messihow messi hus you elclasico madrid\" \n",
       "                                                              Wot a match #elclasico #messi the real barca fans now...... https://t.co/3Vh0Ulta8O \n",
       "                                                                                            \"wot a match elclasico messi the real barca fans now\" \n",
       "                              RT @FCBarcelona: #ElClásico: Epic moments at the Santiago Bernabéu\\nWhich is your favorite? https://t.co/oh20qfBCbR \n",
       "                                                                            \"elclsico epic moments at the santiago bernabuwhich is your favorite\" \n",
       "                                    RT @Sheikhspeare39: How you hurt #Messi // How Messi hurts you \\n\\n#ElClasico #Madrid https://t.co/OlN1dEJaqb \n",
       "                                                                                             \"how you hu messihow messi hus you elclasico madrid\" \n",
       "RT @SirJadeja: Who Is World's Best Footballer?\\n\\nRT - #Lionel #Messi\\nFav - #Cristiano #Ronaldo\\n\\n#ElClasico #HalaMadrid  #ForçaBarça #Barca #… \n",
       "                                                \"who is worlds best footballerlionel messifavcristiano ronaldoelclasico halamadridforabara barca\" "
      ]
     },
     "metadata": {},
     "output_type": "display_data"
    }
   ],
   "source": [
    "# http://stackoverflow.com/questions/15748190/emoticons-in-twitter-sentiment-analysis-in-r\n",
    "tweets.text <- sapply(tweet_df$text,function(row) iconv(row, \"latin1\", \"ASCII\", sub=\"\"))\n",
    "    #convert all text to lower case\n",
    "tweets.text <- tolower(tweets.text)\n",
    "\n",
    "# Replace blank space (“rt”)\n",
    " tweets.text <- gsub(\"rt\", \"\", tweets.text)\n",
    "\n",
    " # Replace @UserName\n",
    " tweets.text <- gsub(\"@\\\\w+\", \"\", tweets.text)\n",
    "\n",
    " # Remove punctuation\n",
    " tweets.text <- gsub(\"[[:punct:]]\", \"\", tweets.text)\n",
    "\n",
    " # Remove links\n",
    " tweets.text <- gsub(\"http\\\\w+\", \"\", tweets.text)\n",
    "\n",
    " # Remove tabs\n",
    " tweets.text <- gsub(\"[ |\\t]{2,}\", \"\", tweets.text)\n",
    "\n",
    " # Remove blank spaces at the beginning\n",
    " tweets.text <- gsub(\"^ \", \"\", tweets.text)\n",
    "\n",
    "# Remove blank spaces at the end\n",
    " tweets.text <- gsub(\" $\", \"\", tweets.text)\n",
    "    \n",
    "tweets.text <- gsub(\"[^a-zA-Z ]\", \"\", tweets.text)\n",
    "head(tweets.text)"
   ]
  },
  {
   "cell_type": "code",
   "execution_count": 18,
   "metadata": {},
   "outputs": [],
   "source": [
    "# http://stackoverflow.com/questions/2470248/write-lines-of-text-to-a-file-in-r\n",
    "fileConn<-file(\"/Users/Amardeep/Documents/Semester_2/Dic/Lab_4/Amar.txt\")\n",
    "writeLines(tweets.text, fileConn)\n",
    "close(fileConn)"
   ]
  },
  {
   "cell_type": "code",
   "execution_count": null,
   "metadata": {
    "collapsed": true
   },
   "outputs": [],
   "source": []
  }
 ],
 "metadata": {
  "kernelspec": {
   "display_name": "R",
   "language": "R",
   "name": "ir"
  },
  "language_info": {
   "codemirror_mode": "r",
   "file_extension": ".r",
   "mimetype": "text/x-r-source",
   "name": "R",
   "pygments_lexer": "r",
   "version": "3.3.2"
  }
 },
 "nbformat": 4,
 "nbformat_minor": 2
}
